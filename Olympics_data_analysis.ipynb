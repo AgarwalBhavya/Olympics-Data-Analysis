{
 "cells": [
  {
   "cell_type": "code",
   "execution_count": 77,
   "id": "ab5af209-a3a4-4a5a-8598-3008ad532e9e",
   "metadata": {},
   "outputs": [],
   "source": [
    "import numpy as np\n",
    "import pandas as pd"
   ]
  },
  {
   "cell_type": "code",
   "execution_count": 78,
   "id": "591bd857-b45f-4c56-a991-f748e5cee568",
   "metadata": {},
   "outputs": [],
   "source": [
    "df=pd.read_csv(\"athlete_events.csv\")\n",
    "region_df=pd.read_csv(\"noc_regions.csv\")"
   ]
  },
  {
   "cell_type": "code",
   "execution_count": 79,
   "id": "8e434fe5-ab8d-4988-bf01-8aabcd37fd13",
   "metadata": {},
   "outputs": [
    {
     "data": {
      "text/html": [
       "<div>\n",
       "<style scoped>\n",
       "    .dataframe tbody tr th:only-of-type {\n",
       "        vertical-align: middle;\n",
       "    }\n",
       "\n",
       "    .dataframe tbody tr th {\n",
       "        vertical-align: top;\n",
       "    }\n",
       "\n",
       "    .dataframe thead th {\n",
       "        text-align: right;\n",
       "    }\n",
       "</style>\n",
       "<table border=\"1\" class=\"dataframe\">\n",
       "  <thead>\n",
       "    <tr style=\"text-align: right;\">\n",
       "      <th></th>\n",
       "      <th>ID</th>\n",
       "      <th>Name</th>\n",
       "      <th>Sex</th>\n",
       "      <th>Age</th>\n",
       "      <th>Height</th>\n",
       "      <th>Weight</th>\n",
       "      <th>Team</th>\n",
       "      <th>NOC</th>\n",
       "      <th>Games</th>\n",
       "      <th>Year</th>\n",
       "      <th>Season</th>\n",
       "      <th>City</th>\n",
       "      <th>Sport</th>\n",
       "      <th>Event</th>\n",
       "      <th>Medal</th>\n",
       "    </tr>\n",
       "  </thead>\n",
       "  <tbody>\n",
       "    <tr>\n",
       "      <th>271114</th>\n",
       "      <td>135571</td>\n",
       "      <td>Tomasz Ireneusz ya</td>\n",
       "      <td>M</td>\n",
       "      <td>30.0</td>\n",
       "      <td>185.0</td>\n",
       "      <td>96.0</td>\n",
       "      <td>Poland</td>\n",
       "      <td>POL</td>\n",
       "      <td>1998 Winter</td>\n",
       "      <td>1998</td>\n",
       "      <td>Winter</td>\n",
       "      <td>Nagano</td>\n",
       "      <td>Bobsleigh</td>\n",
       "      <td>Bobsleigh Men's Four</td>\n",
       "      <td>NaN</td>\n",
       "    </tr>\n",
       "    <tr>\n",
       "      <th>271115</th>\n",
       "      <td>135571</td>\n",
       "      <td>Tomasz Ireneusz ya</td>\n",
       "      <td>M</td>\n",
       "      <td>34.0</td>\n",
       "      <td>185.0</td>\n",
       "      <td>96.0</td>\n",
       "      <td>Poland</td>\n",
       "      <td>POL</td>\n",
       "      <td>2002 Winter</td>\n",
       "      <td>2002</td>\n",
       "      <td>Winter</td>\n",
       "      <td>Salt Lake City</td>\n",
       "      <td>Bobsleigh</td>\n",
       "      <td>Bobsleigh Men's Four</td>\n",
       "      <td>NaN</td>\n",
       "    </tr>\n",
       "  </tbody>\n",
       "</table>\n",
       "</div>"
      ],
      "text/plain": [
       "            ID                Name Sex   Age  Height  Weight    Team  NOC  \\\n",
       "271114  135571  Tomasz Ireneusz ya   M  30.0   185.0    96.0  Poland  POL   \n",
       "271115  135571  Tomasz Ireneusz ya   M  34.0   185.0    96.0  Poland  POL   \n",
       "\n",
       "              Games  Year  Season            City      Sport  \\\n",
       "271114  1998 Winter  1998  Winter          Nagano  Bobsleigh   \n",
       "271115  2002 Winter  2002  Winter  Salt Lake City  Bobsleigh   \n",
       "\n",
       "                       Event Medal  \n",
       "271114  Bobsleigh Men's Four   NaN  \n",
       "271115  Bobsleigh Men's Four   NaN  "
      ]
     },
     "execution_count": 79,
     "metadata": {},
     "output_type": "execute_result"
    }
   ],
   "source": [
    "df.tail(2)"
   ]
  },
  {
   "cell_type": "code",
   "execution_count": 80,
   "id": "57fa0e13-0936-469d-91bf-4b9013d49610",
   "metadata": {},
   "outputs": [
    {
     "data": {
      "text/plain": [
       "(271116, 15)"
      ]
     },
     "execution_count": 80,
     "metadata": {},
     "output_type": "execute_result"
    }
   ],
   "source": [
    "df.shape"
   ]
  },
  {
   "cell_type": "code",
   "execution_count": 81,
   "id": "ef5257ef-708e-4521-858d-9e23ee4b1dca",
   "metadata": {},
   "outputs": [],
   "source": [
    "df=df[df['Season']=='Summer']"
   ]
  },
  {
   "cell_type": "code",
   "execution_count": 82,
   "id": "1df31b6c-73e8-4ae2-945e-38cd4c9f6fa6",
   "metadata": {},
   "outputs": [
    {
     "data": {
      "text/plain": [
       "(222552, 15)"
      ]
     },
     "execution_count": 82,
     "metadata": {},
     "output_type": "execute_result"
    }
   ],
   "source": [
    "df.shape"
   ]
  },
  {
   "cell_type": "code",
   "execution_count": 83,
   "id": "c9181005-f7de-4f96-ab26-5691ad51ea9e",
   "metadata": {},
   "outputs": [
    {
     "data": {
      "text/html": [
       "<div>\n",
       "<style scoped>\n",
       "    .dataframe tbody tr th:only-of-type {\n",
       "        vertical-align: middle;\n",
       "    }\n",
       "\n",
       "    .dataframe tbody tr th {\n",
       "        vertical-align: top;\n",
       "    }\n",
       "\n",
       "    .dataframe thead th {\n",
       "        text-align: right;\n",
       "    }\n",
       "</style>\n",
       "<table border=\"1\" class=\"dataframe\">\n",
       "  <thead>\n",
       "    <tr style=\"text-align: right;\">\n",
       "      <th></th>\n",
       "      <th>ID</th>\n",
       "      <th>Name</th>\n",
       "      <th>Sex</th>\n",
       "      <th>Age</th>\n",
       "      <th>Height</th>\n",
       "      <th>Weight</th>\n",
       "      <th>Team</th>\n",
       "      <th>NOC</th>\n",
       "      <th>Games</th>\n",
       "      <th>Year</th>\n",
       "      <th>Season</th>\n",
       "      <th>City</th>\n",
       "      <th>Sport</th>\n",
       "      <th>Event</th>\n",
       "      <th>Medal</th>\n",
       "    </tr>\n",
       "  </thead>\n",
       "  <tbody>\n",
       "    <tr>\n",
       "      <th>271108</th>\n",
       "      <td>135567</td>\n",
       "      <td>Aleksandr Viktorovich Zyuzin</td>\n",
       "      <td>M</td>\n",
       "      <td>24.0</td>\n",
       "      <td>183.0</td>\n",
       "      <td>72.0</td>\n",
       "      <td>Russia</td>\n",
       "      <td>RUS</td>\n",
       "      <td>2000 Summer</td>\n",
       "      <td>2000</td>\n",
       "      <td>Summer</td>\n",
       "      <td>Sydney</td>\n",
       "      <td>Rowing</td>\n",
       "      <td>Rowing Men's Lightweight Coxless Fours</td>\n",
       "      <td>NaN</td>\n",
       "    </tr>\n",
       "    <tr>\n",
       "      <th>271109</th>\n",
       "      <td>135567</td>\n",
       "      <td>Aleksandr Viktorovich Zyuzin</td>\n",
       "      <td>M</td>\n",
       "      <td>28.0</td>\n",
       "      <td>183.0</td>\n",
       "      <td>72.0</td>\n",
       "      <td>Russia</td>\n",
       "      <td>RUS</td>\n",
       "      <td>2004 Summer</td>\n",
       "      <td>2004</td>\n",
       "      <td>Summer</td>\n",
       "      <td>Athina</td>\n",
       "      <td>Rowing</td>\n",
       "      <td>Rowing Men's Lightweight Coxless Fours</td>\n",
       "      <td>NaN</td>\n",
       "    </tr>\n",
       "    <tr>\n",
       "      <th>271110</th>\n",
       "      <td>135568</td>\n",
       "      <td>Olga Igorevna Zyuzkova</td>\n",
       "      <td>F</td>\n",
       "      <td>33.0</td>\n",
       "      <td>171.0</td>\n",
       "      <td>69.0</td>\n",
       "      <td>Belarus</td>\n",
       "      <td>BLR</td>\n",
       "      <td>2016 Summer</td>\n",
       "      <td>2016</td>\n",
       "      <td>Summer</td>\n",
       "      <td>Rio de Janeiro</td>\n",
       "      <td>Basketball</td>\n",
       "      <td>Basketball Women's Basketball</td>\n",
       "      <td>NaN</td>\n",
       "    </tr>\n",
       "  </tbody>\n",
       "</table>\n",
       "</div>"
      ],
      "text/plain": [
       "            ID                          Name Sex   Age  Height  Weight  \\\n",
       "271108  135567  Aleksandr Viktorovich Zyuzin   M  24.0   183.0    72.0   \n",
       "271109  135567  Aleksandr Viktorovich Zyuzin   M  28.0   183.0    72.0   \n",
       "271110  135568        Olga Igorevna Zyuzkova   F  33.0   171.0    69.0   \n",
       "\n",
       "           Team  NOC        Games  Year  Season            City       Sport  \\\n",
       "271108   Russia  RUS  2000 Summer  2000  Summer          Sydney      Rowing   \n",
       "271109   Russia  RUS  2004 Summer  2004  Summer          Athina      Rowing   \n",
       "271110  Belarus  BLR  2016 Summer  2016  Summer  Rio de Janeiro  Basketball   \n",
       "\n",
       "                                         Event Medal  \n",
       "271108  Rowing Men's Lightweight Coxless Fours   NaN  \n",
       "271109  Rowing Men's Lightweight Coxless Fours   NaN  \n",
       "271110           Basketball Women's Basketball   NaN  "
      ]
     },
     "execution_count": 83,
     "metadata": {},
     "output_type": "execute_result"
    }
   ],
   "source": [
    "df.tail(3)"
   ]
  },
  {
   "cell_type": "code",
   "execution_count": 84,
   "id": "ea5d9b45-9087-4f44-be3e-20f86483a2bf",
   "metadata": {},
   "outputs": [],
   "source": [
    "df=df.merge(region_df,on='NOC',how='left')"
   ]
  },
  {
   "cell_type": "code",
   "execution_count": 85,
   "id": "7bb1a855-12b3-49bb-9c4f-c9bab9d73408",
   "metadata": {},
   "outputs": [
    {
     "data": {
      "text/plain": [
       "ID             0\n",
       "Name           0\n",
       "Sex            0\n",
       "Age         9189\n",
       "Height     51857\n",
       "Weight     53854\n",
       "Team           0\n",
       "NOC            0\n",
       "Games          0\n",
       "Year           0\n",
       "Season         0\n",
       "City           0\n",
       "Sport          0\n",
       "Event          0\n",
       "Medal     188464\n",
       "region       370\n",
       "notes     218151\n",
       "dtype: int64"
      ]
     },
     "execution_count": 85,
     "metadata": {},
     "output_type": "execute_result"
    }
   ],
   "source": [
    "df.isnull().sum()"
   ]
  },
  {
   "cell_type": "code",
   "execution_count": 86,
   "id": "91bd741a-12a2-430b-8c88-4dd359e75936",
   "metadata": {},
   "outputs": [
    {
     "data": {
      "text/plain": [
       "1385"
      ]
     },
     "execution_count": 86,
     "metadata": {},
     "output_type": "execute_result"
    }
   ],
   "source": [
    "df.duplicated().sum()"
   ]
  },
  {
   "cell_type": "code",
   "execution_count": 87,
   "id": "5e434399-ad3d-4077-9f56-0493c03a99e4",
   "metadata": {},
   "outputs": [],
   "source": [
    "df.drop_duplicates(inplace=True)"
   ]
  },
  {
   "cell_type": "code",
   "execution_count": 88,
   "id": "bfa4b0c7-c9de-4214-b91e-cebe9a8edab0",
   "metadata": {},
   "outputs": [],
   "source": [
    "df=pd.concat([df,pd.get_dummies(df['Medal'])],axis=1)"
   ]
  },
  {
   "cell_type": "code",
   "execution_count": 89,
   "id": "82560e5e-cfba-4209-8ce9-77c4967ea50c",
   "metadata": {},
   "outputs": [
    {
     "data": {
      "text/html": [
       "<div>\n",
       "<style scoped>\n",
       "    .dataframe tbody tr th:only-of-type {\n",
       "        vertical-align: middle;\n",
       "    }\n",
       "\n",
       "    .dataframe tbody tr th {\n",
       "        vertical-align: top;\n",
       "    }\n",
       "\n",
       "    .dataframe thead th {\n",
       "        text-align: right;\n",
       "    }\n",
       "</style>\n",
       "<table border=\"1\" class=\"dataframe\">\n",
       "  <thead>\n",
       "    <tr style=\"text-align: right;\">\n",
       "      <th></th>\n",
       "      <th>ID</th>\n",
       "      <th>Name</th>\n",
       "      <th>Sex</th>\n",
       "      <th>Age</th>\n",
       "      <th>Height</th>\n",
       "      <th>Weight</th>\n",
       "      <th>Team</th>\n",
       "      <th>NOC</th>\n",
       "      <th>Games</th>\n",
       "      <th>Year</th>\n",
       "      <th>Season</th>\n",
       "      <th>City</th>\n",
       "      <th>Sport</th>\n",
       "      <th>Event</th>\n",
       "      <th>Medal</th>\n",
       "      <th>region</th>\n",
       "      <th>notes</th>\n",
       "      <th>Bronze</th>\n",
       "      <th>Gold</th>\n",
       "      <th>Silver</th>\n",
       "    </tr>\n",
       "  </thead>\n",
       "  <tbody>\n",
       "    <tr>\n",
       "      <th>0</th>\n",
       "      <td>1</td>\n",
       "      <td>A Dijiang</td>\n",
       "      <td>M</td>\n",
       "      <td>24.0</td>\n",
       "      <td>180.0</td>\n",
       "      <td>80.0</td>\n",
       "      <td>China</td>\n",
       "      <td>CHN</td>\n",
       "      <td>1992 Summer</td>\n",
       "      <td>1992</td>\n",
       "      <td>Summer</td>\n",
       "      <td>Barcelona</td>\n",
       "      <td>Basketball</td>\n",
       "      <td>Basketball Men's Basketball</td>\n",
       "      <td>NaN</td>\n",
       "      <td>China</td>\n",
       "      <td>NaN</td>\n",
       "      <td>False</td>\n",
       "      <td>False</td>\n",
       "      <td>False</td>\n",
       "    </tr>\n",
       "    <tr>\n",
       "      <th>1</th>\n",
       "      <td>2</td>\n",
       "      <td>A Lamusi</td>\n",
       "      <td>M</td>\n",
       "      <td>23.0</td>\n",
       "      <td>170.0</td>\n",
       "      <td>60.0</td>\n",
       "      <td>China</td>\n",
       "      <td>CHN</td>\n",
       "      <td>2012 Summer</td>\n",
       "      <td>2012</td>\n",
       "      <td>Summer</td>\n",
       "      <td>London</td>\n",
       "      <td>Judo</td>\n",
       "      <td>Judo Men's Extra-Lightweight</td>\n",
       "      <td>NaN</td>\n",
       "      <td>China</td>\n",
       "      <td>NaN</td>\n",
       "      <td>False</td>\n",
       "      <td>False</td>\n",
       "      <td>False</td>\n",
       "    </tr>\n",
       "    <tr>\n",
       "      <th>2</th>\n",
       "      <td>3</td>\n",
       "      <td>Gunnar Nielsen Aaby</td>\n",
       "      <td>M</td>\n",
       "      <td>24.0</td>\n",
       "      <td>NaN</td>\n",
       "      <td>NaN</td>\n",
       "      <td>Denmark</td>\n",
       "      <td>DEN</td>\n",
       "      <td>1920 Summer</td>\n",
       "      <td>1920</td>\n",
       "      <td>Summer</td>\n",
       "      <td>Antwerpen</td>\n",
       "      <td>Football</td>\n",
       "      <td>Football Men's Football</td>\n",
       "      <td>NaN</td>\n",
       "      <td>Denmark</td>\n",
       "      <td>NaN</td>\n",
       "      <td>False</td>\n",
       "      <td>False</td>\n",
       "      <td>False</td>\n",
       "    </tr>\n",
       "    <tr>\n",
       "      <th>3</th>\n",
       "      <td>4</td>\n",
       "      <td>Edgar Lindenau Aabye</td>\n",
       "      <td>M</td>\n",
       "      <td>34.0</td>\n",
       "      <td>NaN</td>\n",
       "      <td>NaN</td>\n",
       "      <td>Denmark/Sweden</td>\n",
       "      <td>DEN</td>\n",
       "      <td>1900 Summer</td>\n",
       "      <td>1900</td>\n",
       "      <td>Summer</td>\n",
       "      <td>Paris</td>\n",
       "      <td>Tug-Of-War</td>\n",
       "      <td>Tug-Of-War Men's Tug-Of-War</td>\n",
       "      <td>Gold</td>\n",
       "      <td>Denmark</td>\n",
       "      <td>NaN</td>\n",
       "      <td>False</td>\n",
       "      <td>True</td>\n",
       "      <td>False</td>\n",
       "    </tr>\n",
       "    <tr>\n",
       "      <th>4</th>\n",
       "      <td>8</td>\n",
       "      <td>Cornelia \"Cor\" Aalten (-Strannood)</td>\n",
       "      <td>F</td>\n",
       "      <td>18.0</td>\n",
       "      <td>168.0</td>\n",
       "      <td>NaN</td>\n",
       "      <td>Netherlands</td>\n",
       "      <td>NED</td>\n",
       "      <td>1932 Summer</td>\n",
       "      <td>1932</td>\n",
       "      <td>Summer</td>\n",
       "      <td>Los Angeles</td>\n",
       "      <td>Athletics</td>\n",
       "      <td>Athletics Women's 100 metres</td>\n",
       "      <td>NaN</td>\n",
       "      <td>Netherlands</td>\n",
       "      <td>NaN</td>\n",
       "      <td>False</td>\n",
       "      <td>False</td>\n",
       "      <td>False</td>\n",
       "    </tr>\n",
       "  </tbody>\n",
       "</table>\n",
       "</div>"
      ],
      "text/plain": [
       "   ID                                Name Sex   Age  Height  Weight  \\\n",
       "0   1                           A Dijiang   M  24.0   180.0    80.0   \n",
       "1   2                            A Lamusi   M  23.0   170.0    60.0   \n",
       "2   3                 Gunnar Nielsen Aaby   M  24.0     NaN     NaN   \n",
       "3   4                Edgar Lindenau Aabye   M  34.0     NaN     NaN   \n",
       "4   8  Cornelia \"Cor\" Aalten (-Strannood)   F  18.0   168.0     NaN   \n",
       "\n",
       "             Team  NOC        Games  Year  Season         City       Sport  \\\n",
       "0           China  CHN  1992 Summer  1992  Summer    Barcelona  Basketball   \n",
       "1           China  CHN  2012 Summer  2012  Summer       London        Judo   \n",
       "2         Denmark  DEN  1920 Summer  1920  Summer    Antwerpen    Football   \n",
       "3  Denmark/Sweden  DEN  1900 Summer  1900  Summer        Paris  Tug-Of-War   \n",
       "4     Netherlands  NED  1932 Summer  1932  Summer  Los Angeles   Athletics   \n",
       "\n",
       "                          Event Medal       region notes  Bronze   Gold  \\\n",
       "0   Basketball Men's Basketball   NaN        China   NaN   False  False   \n",
       "1  Judo Men's Extra-Lightweight   NaN        China   NaN   False  False   \n",
       "2       Football Men's Football   NaN      Denmark   NaN   False  False   \n",
       "3   Tug-Of-War Men's Tug-Of-War  Gold      Denmark   NaN   False   True   \n",
       "4  Athletics Women's 100 metres   NaN  Netherlands   NaN   False  False   \n",
       "\n",
       "   Silver  \n",
       "0   False  \n",
       "1   False  \n",
       "2   False  \n",
       "3   False  \n",
       "4   False  "
      ]
     },
     "execution_count": 89,
     "metadata": {},
     "output_type": "execute_result"
    }
   ],
   "source": [
    "df.head()"
   ]
  },
  {
   "cell_type": "code",
   "execution_count": 90,
   "id": "c6ce3e4f-634d-4c4c-afd9-5cdc2f9cf57a",
   "metadata": {},
   "outputs": [],
   "source": [
    "medal_tally=df.drop_duplicates(subset=['Team','NOC','Games','Year','City','Sport','Event','Medal'])"
   ]
  },
  {
   "cell_type": "code",
   "execution_count": 91,
   "id": "7125f5f8-c93a-4982-9ee3-bd1c03e620dc",
   "metadata": {},
   "outputs": [],
   "source": [
    "medal_tally=medal_tally.groupby('NOC').sum()[['Gold','Silver','Bronze']].sort_values('Gold',ascending=False).reset_index()"
   ]
  },
  {
   "cell_type": "code",
   "execution_count": 92,
   "id": "a1a9671e-81d8-4402-91c5-ec63ece1ea69",
   "metadata": {},
   "outputs": [],
   "source": [
    "medal_tally['total']=medal_tally['Gold']+medal_tally['Silver']+medal_tally['Bronze']"
   ]
  },
  {
   "cell_type": "code",
   "execution_count": 93,
   "id": "8c8b242c-ac63-43f0-8417-7c543ce42b63",
   "metadata": {},
   "outputs": [
    {
     "data": {
      "text/html": [
       "<div>\n",
       "<style scoped>\n",
       "    .dataframe tbody tr th:only-of-type {\n",
       "        vertical-align: middle;\n",
       "    }\n",
       "\n",
       "    .dataframe tbody tr th {\n",
       "        vertical-align: top;\n",
       "    }\n",
       "\n",
       "    .dataframe thead th {\n",
       "        text-align: right;\n",
       "    }\n",
       "</style>\n",
       "<table border=\"1\" class=\"dataframe\">\n",
       "  <thead>\n",
       "    <tr style=\"text-align: right;\">\n",
       "      <th></th>\n",
       "      <th>NOC</th>\n",
       "      <th>Gold</th>\n",
       "      <th>Silver</th>\n",
       "      <th>Bronze</th>\n",
       "      <th>total</th>\n",
       "    </tr>\n",
       "  </thead>\n",
       "  <tbody>\n",
       "    <tr>\n",
       "      <th>0</th>\n",
       "      <td>USA</td>\n",
       "      <td>1035</td>\n",
       "      <td>802</td>\n",
       "      <td>708</td>\n",
       "      <td>2545</td>\n",
       "    </tr>\n",
       "    <tr>\n",
       "      <th>1</th>\n",
       "      <td>URS</td>\n",
       "      <td>394</td>\n",
       "      <td>317</td>\n",
       "      <td>294</td>\n",
       "      <td>1005</td>\n",
       "    </tr>\n",
       "    <tr>\n",
       "      <th>2</th>\n",
       "      <td>GBR</td>\n",
       "      <td>278</td>\n",
       "      <td>317</td>\n",
       "      <td>300</td>\n",
       "      <td>895</td>\n",
       "    </tr>\n",
       "    <tr>\n",
       "      <th>3</th>\n",
       "      <td>GER</td>\n",
       "      <td>235</td>\n",
       "      <td>261</td>\n",
       "      <td>283</td>\n",
       "      <td>779</td>\n",
       "    </tr>\n",
       "    <tr>\n",
       "      <th>4</th>\n",
       "      <td>FRA</td>\n",
       "      <td>234</td>\n",
       "      <td>256</td>\n",
       "      <td>287</td>\n",
       "      <td>777</td>\n",
       "    </tr>\n",
       "    <tr>\n",
       "      <th>...</th>\n",
       "      <td>...</td>\n",
       "      <td>...</td>\n",
       "      <td>...</td>\n",
       "      <td>...</td>\n",
       "      <td>...</td>\n",
       "    </tr>\n",
       "    <tr>\n",
       "      <th>225</th>\n",
       "      <td>AHO</td>\n",
       "      <td>0</td>\n",
       "      <td>1</td>\n",
       "      <td>0</td>\n",
       "      <td>1</td>\n",
       "    </tr>\n",
       "    <tr>\n",
       "      <th>226</th>\n",
       "      <td>LBR</td>\n",
       "      <td>0</td>\n",
       "      <td>0</td>\n",
       "      <td>0</td>\n",
       "      <td>0</td>\n",
       "    </tr>\n",
       "    <tr>\n",
       "      <th>227</th>\n",
       "      <td>LCA</td>\n",
       "      <td>0</td>\n",
       "      <td>0</td>\n",
       "      <td>0</td>\n",
       "      <td>0</td>\n",
       "    </tr>\n",
       "    <tr>\n",
       "      <th>228</th>\n",
       "      <td>LES</td>\n",
       "      <td>0</td>\n",
       "      <td>0</td>\n",
       "      <td>0</td>\n",
       "      <td>0</td>\n",
       "    </tr>\n",
       "    <tr>\n",
       "      <th>229</th>\n",
       "      <td>LBA</td>\n",
       "      <td>0</td>\n",
       "      <td>0</td>\n",
       "      <td>0</td>\n",
       "      <td>0</td>\n",
       "    </tr>\n",
       "  </tbody>\n",
       "</table>\n",
       "<p>230 rows × 5 columns</p>\n",
       "</div>"
      ],
      "text/plain": [
       "     NOC  Gold  Silver  Bronze  total\n",
       "0    USA  1035     802     708   2545\n",
       "1    URS   394     317     294   1005\n",
       "2    GBR   278     317     300    895\n",
       "3    GER   235     261     283    779\n",
       "4    FRA   234     256     287    777\n",
       "..   ...   ...     ...     ...    ...\n",
       "225  AHO     0       1       0      1\n",
       "226  LBR     0       0       0      0\n",
       "227  LCA     0       0       0      0\n",
       "228  LES     0       0       0      0\n",
       "229  LBA     0       0       0      0\n",
       "\n",
       "[230 rows x 5 columns]"
      ]
     },
     "execution_count": 93,
     "metadata": {},
     "output_type": "execute_result"
    }
   ],
   "source": [
    "medal_tally"
   ]
  },
  {
   "cell_type": "code",
   "execution_count": 94,
   "id": "b9f036bb-efff-4b95-a3aa-b7e94e887ebb",
   "metadata": {},
   "outputs": [],
   "source": [
    "years=df['Year'].unique().tolist()"
   ]
  },
  {
   "cell_type": "code",
   "execution_count": 95,
   "id": "1dfc6b63-c533-4832-87e2-b92ae68f4a3a",
   "metadata": {},
   "outputs": [],
   "source": [
    "years.sort()"
   ]
  },
  {
   "cell_type": "code",
   "execution_count": 96,
   "id": "660cf061-0617-4062-816a-fe8888d713fc",
   "metadata": {},
   "outputs": [],
   "source": [
    "years.insert(0,'Overall')"
   ]
  },
  {
   "cell_type": "code",
   "execution_count": 97,
   "id": "6f1d1657-15dc-4870-ba31-75f0277189fd",
   "metadata": {},
   "outputs": [],
   "source": [
    "country=np.unique(df['region'].dropna().values).tolist()"
   ]
  },
  {
   "cell_type": "code",
   "execution_count": 98,
   "id": "5d2b8665-98b7-4796-b1a5-1aade698bff4",
   "metadata": {},
   "outputs": [],
   "source": [
    "country.sort()"
   ]
  },
  {
   "cell_type": "code",
   "execution_count": 99,
   "id": "e112a8e8-465f-4fa4-8cdf-ffe17ba21905",
   "metadata": {},
   "outputs": [
    {
     "data": {
      "text/plain": [
       "['Afghanistan',\n",
       " 'Albania',\n",
       " 'Algeria',\n",
       " 'American Samoa',\n",
       " 'Andorra',\n",
       " 'Angola',\n",
       " 'Antigua',\n",
       " 'Argentina',\n",
       " 'Armenia',\n",
       " 'Aruba',\n",
       " 'Australia',\n",
       " 'Austria',\n",
       " 'Azerbaijan',\n",
       " 'Bahamas',\n",
       " 'Bahrain',\n",
       " 'Bangladesh',\n",
       " 'Barbados',\n",
       " 'Belarus',\n",
       " 'Belgium',\n",
       " 'Belize',\n",
       " 'Benin',\n",
       " 'Bermuda',\n",
       " 'Bhutan',\n",
       " 'Boliva',\n",
       " 'Bosnia and Herzegovina',\n",
       " 'Botswana',\n",
       " 'Brazil',\n",
       " 'Brunei',\n",
       " 'Bulgaria',\n",
       " 'Burkina Faso',\n",
       " 'Burundi',\n",
       " 'Cambodia',\n",
       " 'Cameroon',\n",
       " 'Canada',\n",
       " 'Cape Verde',\n",
       " 'Cayman Islands',\n",
       " 'Central African Republic',\n",
       " 'Chad',\n",
       " 'Chile',\n",
       " 'China',\n",
       " 'Colombia',\n",
       " 'Comoros',\n",
       " 'Cook Islands',\n",
       " 'Costa Rica',\n",
       " 'Croatia',\n",
       " 'Cuba',\n",
       " 'Curacao',\n",
       " 'Cyprus',\n",
       " 'Czech Republic',\n",
       " 'Democratic Republic of the Congo',\n",
       " 'Denmark',\n",
       " 'Djibouti',\n",
       " 'Dominica',\n",
       " 'Dominican Republic',\n",
       " 'Ecuador',\n",
       " 'Egypt',\n",
       " 'El Salvador',\n",
       " 'Equatorial Guinea',\n",
       " 'Eritrea',\n",
       " 'Estonia',\n",
       " 'Ethiopia',\n",
       " 'Fiji',\n",
       " 'Finland',\n",
       " 'France',\n",
       " 'Gabon',\n",
       " 'Gambia',\n",
       " 'Georgia',\n",
       " 'Germany',\n",
       " 'Ghana',\n",
       " 'Greece',\n",
       " 'Grenada',\n",
       " 'Guam',\n",
       " 'Guatemala',\n",
       " 'Guinea',\n",
       " 'Guinea-Bissau',\n",
       " 'Guyana',\n",
       " 'Haiti',\n",
       " 'Honduras',\n",
       " 'Hungary',\n",
       " 'Iceland',\n",
       " 'India',\n",
       " 'Individual Olympic Athletes',\n",
       " 'Indonesia',\n",
       " 'Iran',\n",
       " 'Iraq',\n",
       " 'Ireland',\n",
       " 'Israel',\n",
       " 'Italy',\n",
       " 'Ivory Coast',\n",
       " 'Jamaica',\n",
       " 'Japan',\n",
       " 'Jordan',\n",
       " 'Kazakhstan',\n",
       " 'Kenya',\n",
       " 'Kiribati',\n",
       " 'Kosovo',\n",
       " 'Kuwait',\n",
       " 'Kyrgyzstan',\n",
       " 'Laos',\n",
       " 'Latvia',\n",
       " 'Lebanon',\n",
       " 'Lesotho',\n",
       " 'Liberia',\n",
       " 'Libya',\n",
       " 'Liechtenstein',\n",
       " 'Lithuania',\n",
       " 'Luxembourg',\n",
       " 'Macedonia',\n",
       " 'Madagascar',\n",
       " 'Malawi',\n",
       " 'Malaysia',\n",
       " 'Maldives',\n",
       " 'Mali',\n",
       " 'Malta',\n",
       " 'Marshall Islands',\n",
       " 'Mauritania',\n",
       " 'Mauritius',\n",
       " 'Mexico',\n",
       " 'Micronesia',\n",
       " 'Moldova',\n",
       " 'Monaco',\n",
       " 'Mongolia',\n",
       " 'Montenegro',\n",
       " 'Morocco',\n",
       " 'Mozambique',\n",
       " 'Myanmar',\n",
       " 'Namibia',\n",
       " 'Nauru',\n",
       " 'Nepal',\n",
       " 'Netherlands',\n",
       " 'New Zealand',\n",
       " 'Nicaragua',\n",
       " 'Niger',\n",
       " 'Nigeria',\n",
       " 'North Korea',\n",
       " 'Norway',\n",
       " 'Oman',\n",
       " 'Pakistan',\n",
       " 'Palau',\n",
       " 'Palestine',\n",
       " 'Panama',\n",
       " 'Papua New Guinea',\n",
       " 'Paraguay',\n",
       " 'Peru',\n",
       " 'Philippines',\n",
       " 'Poland',\n",
       " 'Portugal',\n",
       " 'Puerto Rico',\n",
       " 'Qatar',\n",
       " 'Republic of Congo',\n",
       " 'Romania',\n",
       " 'Russia',\n",
       " 'Rwanda',\n",
       " 'Saint Kitts',\n",
       " 'Saint Lucia',\n",
       " 'Saint Vincent',\n",
       " 'Samoa',\n",
       " 'San Marino',\n",
       " 'Sao Tome and Principe',\n",
       " 'Saudi Arabia',\n",
       " 'Senegal',\n",
       " 'Serbia',\n",
       " 'Seychelles',\n",
       " 'Sierra Leone',\n",
       " 'Slovakia',\n",
       " 'Slovenia',\n",
       " 'Solomon Islands',\n",
       " 'Somalia',\n",
       " 'South Africa',\n",
       " 'South Korea',\n",
       " 'South Sudan',\n",
       " 'Spain',\n",
       " 'Sri Lanka',\n",
       " 'Sudan',\n",
       " 'Suriname',\n",
       " 'Swaziland',\n",
       " 'Sweden',\n",
       " 'Switzerland',\n",
       " 'Syria',\n",
       " 'Taiwan',\n",
       " 'Tajikistan',\n",
       " 'Tanzania',\n",
       " 'Thailand',\n",
       " 'Timor-Leste',\n",
       " 'Togo',\n",
       " 'Tonga',\n",
       " 'Trinidad',\n",
       " 'Tunisia',\n",
       " 'Turkey',\n",
       " 'Turkmenistan',\n",
       " 'UK',\n",
       " 'USA',\n",
       " 'Uganda',\n",
       " 'Ukraine',\n",
       " 'United Arab Emirates',\n",
       " 'Uruguay',\n",
       " 'Uzbekistan',\n",
       " 'Vanuatu',\n",
       " 'Venezuela',\n",
       " 'Vietnam',\n",
       " 'Virgin Islands, British',\n",
       " 'Virgin Islands, US',\n",
       " 'Yemen',\n",
       " 'Zambia',\n",
       " 'Zimbabwe']"
      ]
     },
     "execution_count": 99,
     "metadata": {},
     "output_type": "execute_result"
    }
   ],
   "source": [
    "country"
   ]
  },
  {
   "cell_type": "code",
   "execution_count": 100,
   "id": "2b902170-74d6-4041-bcc6-52cb1bcea97f",
   "metadata": {},
   "outputs": [],
   "source": [
    "country.insert(0,'Overall')"
   ]
  },
  {
   "cell_type": "code",
   "execution_count": 101,
   "id": "743228d7-cdb4-4d4a-87f3-34bfa8015038",
   "metadata": {},
   "outputs": [],
   "source": [
    "def fetch_medal_tally(df,year,country):\n",
    "    medal_df=df.drop_duplicates(subset=['Team','NOC','Games','Year','City','Sport','Event','Medal'])\n",
    "    flag=0\n",
    "    if year=='Overall' and country=='Overall':\n",
    "        temp_df=medal_df\n",
    "    if year=='Overall' and country!='Overall':\n",
    "        flag=1\n",
    "        temp_df=medal_df[medal_df['region']==country]\n",
    "    if year!='Overall' and country=='Overall':\n",
    "        temp_df=medal_df[medal_df['Year']==int(year)]\n",
    "    if year!='Overall' and country!='Overall':\n",
    "        temp_df=medal_df[medal_df['Year']==int(year) & (medal_df['region']==country)]\n",
    "\n",
    "    if flag==1:\n",
    "        x=temp_df.groupby('Year').sum()[['Gold','Silver','Bronze']].sort_values('Year').reset_index()\n",
    "    else:\n",
    "        x=temp_df.groupby('region').sum()[['Gold','Silver','Bronze']].sort_values('Gold',ascending=False).reset_index()\n",
    "    x['total']=x['Gold']+x['Silver']+x['Bronze']\n",
    "    print(x)"
   ]
  },
  {
   "cell_type": "code",
   "execution_count": 102,
   "id": "669b9642-9066-4984-b5c6-e2a10416ff41",
   "metadata": {},
   "outputs": [
    {
     "name": "stdout",
     "output_type": "stream",
     "text": [
      "            region  Gold  Silver  Bronze  total\n",
      "0              USA  1035     802     708   2545\n",
      "1           Russia   592     498     487   1577\n",
      "2          Germany   444     457     491   1392\n",
      "3               UK   278     317     300    895\n",
      "4           France   234     256     287    777\n",
      "..             ...   ...     ...     ...    ...\n",
      "200        Lesotho     0       0       0      0\n",
      "201        Albania     0       0       0      0\n",
      "202          Libya     0       0       0      0\n",
      "203  Liechtenstein     0       0       0      0\n",
      "204        Liberia     0       0       0      0\n",
      "\n",
      "[205 rows x 5 columns]\n"
     ]
    }
   ],
   "source": [
    "fetch_medal_tally(df,year='Overall',country='Overall')"
   ]
  },
  {
   "cell_type": "code",
   "execution_count": 103,
   "id": "cb0ba343-ad57-460f-aa62-be100252be7b",
   "metadata": {},
   "outputs": [
    {
     "data": {
      "text/plain": [
       "array([1992, 2012, 1920, 1900, 1932, 1952, 2000, 1996, 1912, 1924, 1948,\n",
       "       2008, 2016, 2004, 1984, 1968, 1972, 1988, 1936, 1956, 1960, 1928,\n",
       "       1976, 1980, 1964, 1906, 1904, 1908, 1896], dtype=int64)"
      ]
     },
     "execution_count": 103,
     "metadata": {},
     "output_type": "execute_result"
    }
   ],
   "source": [
    "df['Year'].unique()"
   ]
  },
  {
   "cell_type": "code",
   "execution_count": 104,
   "id": "e74767d7-41fc-480b-b5da-71ba44d7a68e",
   "metadata": {},
   "outputs": [],
   "source": [
    "nations_over_time=df.drop_duplicates(['Year','region'])['Year'].value_counts().reset_index()"
   ]
  },
  {
   "cell_type": "code",
   "execution_count": 105,
   "id": "932f3ac6-14d0-4947-9155-4f12b76aaae4",
   "metadata": {},
   "outputs": [],
   "source": [
    "nations_over_time.rename(columns={'index':'Edition','Year':'No of countries'},inplace=True)"
   ]
  },
  {
   "cell_type": "code",
   "execution_count": 106,
   "id": "455acddf-8ff1-4256-8542-42663f683f47",
   "metadata": {},
   "outputs": [
    {
     "data": {
      "application/vnd.plotly.v1+json": {
       "config": {
        "plotlyServerURL": "https://plot.ly"
       },
       "data": [
        {
         "hovertemplate": "No of countries=%{x}<br>count=%{y}<extra></extra>",
         "legendgroup": "",
         "line": {
          "color": "#636efa",
          "dash": "solid"
         },
         "marker": {
          "symbol": "circle"
         },
         "mode": "lines",
         "name": "",
         "orientation": "v",
         "showlegend": false,
         "type": "scatter",
         "x": [
          2016,
          2012,
          2008,
          2004,
          2000,
          1996,
          1992,
          1988,
          1984,
          1972,
          1968,
          1964,
          1976,
          1960,
          1980,
          1956,
          1952,
          1948,
          1936,
          1932,
          1928,
          1924,
          1900,
          1920,
          1912,
          1908,
          1906,
          1904,
          1896
         ],
         "xaxis": "x",
         "y": [
          204,
          203,
          202,
          200,
          199,
          196,
          168,
          156,
          139,
          120,
          111,
          93,
          91,
          83,
          80,
          71,
          67,
          59,
          49,
          47,
          46,
          45,
          31,
          29,
          29,
          22,
          20,
          14,
          12
         ],
         "yaxis": "y"
        }
       ],
       "layout": {
        "autosize": true,
        "legend": {
         "tracegroupgap": 0
        },
        "margin": {
         "t": 60
        },
        "template": {
         "data": {
          "bar": [
           {
            "error_x": {
             "color": "#2a3f5f"
            },
            "error_y": {
             "color": "#2a3f5f"
            },
            "marker": {
             "line": {
              "color": "#E5ECF6",
              "width": 0.5
             },
             "pattern": {
              "fillmode": "overlay",
              "size": 10,
              "solidity": 0.2
             }
            },
            "type": "bar"
           }
          ],
          "barpolar": [
           {
            "marker": {
             "line": {
              "color": "#E5ECF6",
              "width": 0.5
             },
             "pattern": {
              "fillmode": "overlay",
              "size": 10,
              "solidity": 0.2
             }
            },
            "type": "barpolar"
           }
          ],
          "carpet": [
           {
            "aaxis": {
             "endlinecolor": "#2a3f5f",
             "gridcolor": "white",
             "linecolor": "white",
             "minorgridcolor": "white",
             "startlinecolor": "#2a3f5f"
            },
            "baxis": {
             "endlinecolor": "#2a3f5f",
             "gridcolor": "white",
             "linecolor": "white",
             "minorgridcolor": "white",
             "startlinecolor": "#2a3f5f"
            },
            "type": "carpet"
           }
          ],
          "choropleth": [
           {
            "colorbar": {
             "outlinewidth": 0,
             "ticks": ""
            },
            "type": "choropleth"
           }
          ],
          "contour": [
           {
            "colorbar": {
             "outlinewidth": 0,
             "ticks": ""
            },
            "colorscale": [
             [
              0,
              "#0d0887"
             ],
             [
              0.1111111111111111,
              "#46039f"
             ],
             [
              0.2222222222222222,
              "#7201a8"
             ],
             [
              0.3333333333333333,
              "#9c179e"
             ],
             [
              0.4444444444444444,
              "#bd3786"
             ],
             [
              0.5555555555555556,
              "#d8576b"
             ],
             [
              0.6666666666666666,
              "#ed7953"
             ],
             [
              0.7777777777777778,
              "#fb9f3a"
             ],
             [
              0.8888888888888888,
              "#fdca26"
             ],
             [
              1,
              "#f0f921"
             ]
            ],
            "type": "contour"
           }
          ],
          "contourcarpet": [
           {
            "colorbar": {
             "outlinewidth": 0,
             "ticks": ""
            },
            "type": "contourcarpet"
           }
          ],
          "heatmap": [
           {
            "colorbar": {
             "outlinewidth": 0,
             "ticks": ""
            },
            "colorscale": [
             [
              0,
              "#0d0887"
             ],
             [
              0.1111111111111111,
              "#46039f"
             ],
             [
              0.2222222222222222,
              "#7201a8"
             ],
             [
              0.3333333333333333,
              "#9c179e"
             ],
             [
              0.4444444444444444,
              "#bd3786"
             ],
             [
              0.5555555555555556,
              "#d8576b"
             ],
             [
              0.6666666666666666,
              "#ed7953"
             ],
             [
              0.7777777777777778,
              "#fb9f3a"
             ],
             [
              0.8888888888888888,
              "#fdca26"
             ],
             [
              1,
              "#f0f921"
             ]
            ],
            "type": "heatmap"
           }
          ],
          "heatmapgl": [
           {
            "colorbar": {
             "outlinewidth": 0,
             "ticks": ""
            },
            "colorscale": [
             [
              0,
              "#0d0887"
             ],
             [
              0.1111111111111111,
              "#46039f"
             ],
             [
              0.2222222222222222,
              "#7201a8"
             ],
             [
              0.3333333333333333,
              "#9c179e"
             ],
             [
              0.4444444444444444,
              "#bd3786"
             ],
             [
              0.5555555555555556,
              "#d8576b"
             ],
             [
              0.6666666666666666,
              "#ed7953"
             ],
             [
              0.7777777777777778,
              "#fb9f3a"
             ],
             [
              0.8888888888888888,
              "#fdca26"
             ],
             [
              1,
              "#f0f921"
             ]
            ],
            "type": "heatmapgl"
           }
          ],
          "histogram": [
           {
            "marker": {
             "pattern": {
              "fillmode": "overlay",
              "size": 10,
              "solidity": 0.2
             }
            },
            "type": "histogram"
           }
          ],
          "histogram2d": [
           {
            "colorbar": {
             "outlinewidth": 0,
             "ticks": ""
            },
            "colorscale": [
             [
              0,
              "#0d0887"
             ],
             [
              0.1111111111111111,
              "#46039f"
             ],
             [
              0.2222222222222222,
              "#7201a8"
             ],
             [
              0.3333333333333333,
              "#9c179e"
             ],
             [
              0.4444444444444444,
              "#bd3786"
             ],
             [
              0.5555555555555556,
              "#d8576b"
             ],
             [
              0.6666666666666666,
              "#ed7953"
             ],
             [
              0.7777777777777778,
              "#fb9f3a"
             ],
             [
              0.8888888888888888,
              "#fdca26"
             ],
             [
              1,
              "#f0f921"
             ]
            ],
            "type": "histogram2d"
           }
          ],
          "histogram2dcontour": [
           {
            "colorbar": {
             "outlinewidth": 0,
             "ticks": ""
            },
            "colorscale": [
             [
              0,
              "#0d0887"
             ],
             [
              0.1111111111111111,
              "#46039f"
             ],
             [
              0.2222222222222222,
              "#7201a8"
             ],
             [
              0.3333333333333333,
              "#9c179e"
             ],
             [
              0.4444444444444444,
              "#bd3786"
             ],
             [
              0.5555555555555556,
              "#d8576b"
             ],
             [
              0.6666666666666666,
              "#ed7953"
             ],
             [
              0.7777777777777778,
              "#fb9f3a"
             ],
             [
              0.8888888888888888,
              "#fdca26"
             ],
             [
              1,
              "#f0f921"
             ]
            ],
            "type": "histogram2dcontour"
           }
          ],
          "mesh3d": [
           {
            "colorbar": {
             "outlinewidth": 0,
             "ticks": ""
            },
            "type": "mesh3d"
           }
          ],
          "parcoords": [
           {
            "line": {
             "colorbar": {
              "outlinewidth": 0,
              "ticks": ""
             }
            },
            "type": "parcoords"
           }
          ],
          "pie": [
           {
            "automargin": true,
            "type": "pie"
           }
          ],
          "scatter": [
           {
            "fillpattern": {
             "fillmode": "overlay",
             "size": 10,
             "solidity": 0.2
            },
            "type": "scatter"
           }
          ],
          "scatter3d": [
           {
            "line": {
             "colorbar": {
              "outlinewidth": 0,
              "ticks": ""
             }
            },
            "marker": {
             "colorbar": {
              "outlinewidth": 0,
              "ticks": ""
             }
            },
            "type": "scatter3d"
           }
          ],
          "scattercarpet": [
           {
            "marker": {
             "colorbar": {
              "outlinewidth": 0,
              "ticks": ""
             }
            },
            "type": "scattercarpet"
           }
          ],
          "scattergeo": [
           {
            "marker": {
             "colorbar": {
              "outlinewidth": 0,
              "ticks": ""
             }
            },
            "type": "scattergeo"
           }
          ],
          "scattergl": [
           {
            "marker": {
             "colorbar": {
              "outlinewidth": 0,
              "ticks": ""
             }
            },
            "type": "scattergl"
           }
          ],
          "scattermapbox": [
           {
            "marker": {
             "colorbar": {
              "outlinewidth": 0,
              "ticks": ""
             }
            },
            "type": "scattermapbox"
           }
          ],
          "scatterpolar": [
           {
            "marker": {
             "colorbar": {
              "outlinewidth": 0,
              "ticks": ""
             }
            },
            "type": "scatterpolar"
           }
          ],
          "scatterpolargl": [
           {
            "marker": {
             "colorbar": {
              "outlinewidth": 0,
              "ticks": ""
             }
            },
            "type": "scatterpolargl"
           }
          ],
          "scatterternary": [
           {
            "marker": {
             "colorbar": {
              "outlinewidth": 0,
              "ticks": ""
             }
            },
            "type": "scatterternary"
           }
          ],
          "surface": [
           {
            "colorbar": {
             "outlinewidth": 0,
             "ticks": ""
            },
            "colorscale": [
             [
              0,
              "#0d0887"
             ],
             [
              0.1111111111111111,
              "#46039f"
             ],
             [
              0.2222222222222222,
              "#7201a8"
             ],
             [
              0.3333333333333333,
              "#9c179e"
             ],
             [
              0.4444444444444444,
              "#bd3786"
             ],
             [
              0.5555555555555556,
              "#d8576b"
             ],
             [
              0.6666666666666666,
              "#ed7953"
             ],
             [
              0.7777777777777778,
              "#fb9f3a"
             ],
             [
              0.8888888888888888,
              "#fdca26"
             ],
             [
              1,
              "#f0f921"
             ]
            ],
            "type": "surface"
           }
          ],
          "table": [
           {
            "cells": {
             "fill": {
              "color": "#EBF0F8"
             },
             "line": {
              "color": "white"
             }
            },
            "header": {
             "fill": {
              "color": "#C8D4E3"
             },
             "line": {
              "color": "white"
             }
            },
            "type": "table"
           }
          ]
         },
         "layout": {
          "annotationdefaults": {
           "arrowcolor": "#2a3f5f",
           "arrowhead": 0,
           "arrowwidth": 1
          },
          "autotypenumbers": "strict",
          "coloraxis": {
           "colorbar": {
            "outlinewidth": 0,
            "ticks": ""
           }
          },
          "colorscale": {
           "diverging": [
            [
             0,
             "#8e0152"
            ],
            [
             0.1,
             "#c51b7d"
            ],
            [
             0.2,
             "#de77ae"
            ],
            [
             0.3,
             "#f1b6da"
            ],
            [
             0.4,
             "#fde0ef"
            ],
            [
             0.5,
             "#f7f7f7"
            ],
            [
             0.6,
             "#e6f5d0"
            ],
            [
             0.7,
             "#b8e186"
            ],
            [
             0.8,
             "#7fbc41"
            ],
            [
             0.9,
             "#4d9221"
            ],
            [
             1,
             "#276419"
            ]
           ],
           "sequential": [
            [
             0,
             "#0d0887"
            ],
            [
             0.1111111111111111,
             "#46039f"
            ],
            [
             0.2222222222222222,
             "#7201a8"
            ],
            [
             0.3333333333333333,
             "#9c179e"
            ],
            [
             0.4444444444444444,
             "#bd3786"
            ],
            [
             0.5555555555555556,
             "#d8576b"
            ],
            [
             0.6666666666666666,
             "#ed7953"
            ],
            [
             0.7777777777777778,
             "#fb9f3a"
            ],
            [
             0.8888888888888888,
             "#fdca26"
            ],
            [
             1,
             "#f0f921"
            ]
           ],
           "sequentialminus": [
            [
             0,
             "#0d0887"
            ],
            [
             0.1111111111111111,
             "#46039f"
            ],
            [
             0.2222222222222222,
             "#7201a8"
            ],
            [
             0.3333333333333333,
             "#9c179e"
            ],
            [
             0.4444444444444444,
             "#bd3786"
            ],
            [
             0.5555555555555556,
             "#d8576b"
            ],
            [
             0.6666666666666666,
             "#ed7953"
            ],
            [
             0.7777777777777778,
             "#fb9f3a"
            ],
            [
             0.8888888888888888,
             "#fdca26"
            ],
            [
             1,
             "#f0f921"
            ]
           ]
          },
          "colorway": [
           "#636efa",
           "#EF553B",
           "#00cc96",
           "#ab63fa",
           "#FFA15A",
           "#19d3f3",
           "#FF6692",
           "#B6E880",
           "#FF97FF",
           "#FECB52"
          ],
          "font": {
           "color": "#2a3f5f"
          },
          "geo": {
           "bgcolor": "white",
           "lakecolor": "white",
           "landcolor": "#E5ECF6",
           "showlakes": true,
           "showland": true,
           "subunitcolor": "white"
          },
          "hoverlabel": {
           "align": "left"
          },
          "hovermode": "closest",
          "mapbox": {
           "style": "light"
          },
          "paper_bgcolor": "white",
          "plot_bgcolor": "#E5ECF6",
          "polar": {
           "angularaxis": {
            "gridcolor": "white",
            "linecolor": "white",
            "ticks": ""
           },
           "bgcolor": "#E5ECF6",
           "radialaxis": {
            "gridcolor": "white",
            "linecolor": "white",
            "ticks": ""
           }
          },
          "scene": {
           "xaxis": {
            "backgroundcolor": "#E5ECF6",
            "gridcolor": "white",
            "gridwidth": 2,
            "linecolor": "white",
            "showbackground": true,
            "ticks": "",
            "zerolinecolor": "white"
           },
           "yaxis": {
            "backgroundcolor": "#E5ECF6",
            "gridcolor": "white",
            "gridwidth": 2,
            "linecolor": "white",
            "showbackground": true,
            "ticks": "",
            "zerolinecolor": "white"
           },
           "zaxis": {
            "backgroundcolor": "#E5ECF6",
            "gridcolor": "white",
            "gridwidth": 2,
            "linecolor": "white",
            "showbackground": true,
            "ticks": "",
            "zerolinecolor": "white"
           }
          },
          "shapedefaults": {
           "line": {
            "color": "#2a3f5f"
           }
          },
          "ternary": {
           "aaxis": {
            "gridcolor": "white",
            "linecolor": "white",
            "ticks": ""
           },
           "baxis": {
            "gridcolor": "white",
            "linecolor": "white",
            "ticks": ""
           },
           "bgcolor": "#E5ECF6",
           "caxis": {
            "gridcolor": "white",
            "linecolor": "white",
            "ticks": ""
           }
          },
          "title": {
           "x": 0.05
          },
          "xaxis": {
           "automargin": true,
           "gridcolor": "white",
           "linecolor": "white",
           "ticks": "",
           "title": {
            "standoff": 15
           },
           "zerolinecolor": "white",
           "zerolinewidth": 2
          },
          "yaxis": {
           "automargin": true,
           "gridcolor": "white",
           "linecolor": "white",
           "ticks": "",
           "title": {
            "standoff": 15
           },
           "zerolinecolor": "white",
           "zerolinewidth": 2
          }
         }
        },
        "xaxis": {
         "anchor": "y",
         "autorange": true,
         "domain": [
          0,
          1
         ],
         "range": [
          1896,
          2016
         ],
         "title": {
          "text": "No of countries"
         },
         "type": "linear"
        },
        "yaxis": {
         "anchor": "x",
         "autorange": true,
         "domain": [
          0,
          1
         ],
         "range": [
          1.3333333333333321,
          214.66666666666666
         ],
         "title": {
          "text": "count"
         },
         "type": "linear"
        }
       }
      },
      "image/png": "[encoded data removed]",
      "text/html": [
       "<div>                            <div id=\"ea3f3c6f-4504-4e4a-a428-af185e8e5994\" class=\"plotly-graph-div\" style=\"height:525px; width:100%;\"></div>            <script type=\"text/javascript\">                require([\"plotly\"], function(Plotly) {                    window.PLOTLYENV=window.PLOTLYENV || {};                                    if (document.getElementById(\"ea3f3c6f-4504-4e4a-a428-af185e8e5994\")) {                    Plotly.newPlot(                        \"ea3f3c6f-4504-4e4a-a428-af185e8e5994\",                        [{\"hovertemplate\":\"No of countries=%{x}\\u003cbr\\u003ecount=%{y}\\u003cextra\\u003e\\u003c\\u002fextra\\u003e\",\"legendgroup\":\"\",\"line\":{\"color\":\"#636efa\",\"dash\":\"solid\"},\"marker\":{\"symbol\":\"circle\"},\"mode\":\"lines\",\"name\":\"\",\"orientation\":\"v\",\"showlegend\":false,\"x\":[2016,2012,2008,2004,2000,1996,1992,1988,1984,1972,1968,1964,1976,1960,1980,1956,1952,1948,1936,1932,1928,1924,1900,1920,1912,1908,1906,1904,1896],\"xaxis\":\"x\",\"y\":[204,203,202,200,199,196,168,156,139,120,111,93,91,83,80,71,67,59,49,47,46,45,31,29,29,22,20,14,12],\"yaxis\":\"y\",\"type\":\"scatter\"}],                        {\"template\":{\"data\":{\"histogram2dcontour\":[{\"type\":\"histogram2dcontour\",\"colorbar\":{\"outlinewidth\":0,\"ticks\":\"\"},\"colorscale\":[[0.0,\"#0d0887\"],[0.1111111111111111,\"#46039f\"],[0.2222222222222222,\"#7201a8\"],[0.3333333333333333,\"#9c179e\"],[0.4444444444444444,\"#bd3786\"],[0.5555555555555556,\"#d8576b\"],[0.6666666666666666,\"#ed7953\"],[0.7777777777777778,\"#fb9f3a\"],[0.8888888888888888,\"#fdca26\"],[1.0,\"#f0f921\"]]}],\"choropleth\":[{\"type\":\"choropleth\",\"colorbar\":{\"outlinewidth\":0,\"ticks\":\"\"}}],\"histogram2d\":[{\"type\":\"histogram2d\",\"colorbar\":{\"outlinewidth\":0,\"ticks\":\"\"},\"colorscale\":[[0.0,\"#0d0887\"],[0.1111111111111111,\"#46039f\"],[0.2222222222222222,\"#7201a8\"],[0.3333333333333333,\"#9c179e\"],[0.4444444444444444,\"#bd3786\"],[0.5555555555555556,\"#d8576b\"],[0.6666666666666666,\"#ed7953\"],[0.7777777777777778,\"#fb9f3a\"],[0.8888888888888888,\"#fdca26\"],[1.0,\"#f0f921\"]]}],\"heatmap\":[{\"type\":\"heatmap\",\"colorbar\":{\"outlinewidth\":0,\"ticks\":\"\"},\"colorscale\":[[0.0,\"#0d0887\"],[0.1111111111111111,\"#46039f\"],[0.2222222222222222,\"#7201a8\"],[0.3333333333333333,\"#9c179e\"],[0.4444444444444444,\"#bd3786\"],[0.5555555555555556,\"#d8576b\"],[0.6666666666666666,\"#ed7953\"],[0.7777777777777778,\"#fb9f3a\"],[0.8888888888888888,\"#fdca26\"],[1.0,\"#f0f921\"]]}],\"heatmapgl\":[{\"type\":\"heatmapgl\",\"colorbar\":{\"outlinewidth\":0,\"ticks\":\"\"},\"colorscale\":[[0.0,\"#0d0887\"],[0.1111111111111111,\"#46039f\"],[0.2222222222222222,\"#7201a8\"],[0.3333333333333333,\"#9c179e\"],[0.4444444444444444,\"#bd3786\"],[0.5555555555555556,\"#d8576b\"],[0.6666666666666666,\"#ed7953\"],[0.7777777777777778,\"#fb9f3a\"],[0.8888888888888888,\"#fdca26\"],[1.0,\"#f0f921\"]]}],\"contourcarpet\":[{\"type\":\"contourcarpet\",\"colorbar\":{\"outlinewidth\":0,\"ticks\":\"\"}}],\"contour\":[{\"type\":\"contour\",\"colorbar\":{\"outlinewidth\":0,\"ticks\":\"\"},\"colorscale\":[[0.0,\"#0d0887\"],[0.1111111111111111,\"#46039f\"],[0.2222222222222222,\"#7201a8\"],[0.3333333333333333,\"#9c179e\"],[0.4444444444444444,\"#bd3786\"],[0.5555555555555556,\"#d8576b\"],[0.6666666666666666,\"#ed7953\"],[0.7777777777777778,\"#fb9f3a\"],[0.8888888888888888,\"#fdca26\"],[1.0,\"#f0f921\"]]}],\"surface\":[{\"type\":\"surface\",\"colorbar\":{\"outlinewidth\":0,\"ticks\":\"\"},\"colorscale\":[[0.0,\"#0d0887\"],[0.1111111111111111,\"#46039f\"],[0.2222222222222222,\"#7201a8\"],[0.3333333333333333,\"#9c179e\"],[0.4444444444444444,\"#bd3786\"],[0.5555555555555556,\"#d8576b\"],[0.6666666666666666,\"#ed7953\"],[0.7777777777777778,\"#fb9f3a\"],[0.8888888888888888,\"#fdca26\"],[1.0,\"#f0f921\"]]}],\"mesh3d\":[{\"type\":\"mesh3d\",\"colorbar\":{\"outlinewidth\":0,\"ticks\":\"\"}}],\"scatter\":[{\"fillpattern\":{\"fillmode\":\"overlay\",\"size\":10,\"solidity\":0.2},\"type\":\"scatter\"}],\"parcoords\":[{\"type\":\"parcoords\",\"line\":{\"colorbar\":{\"outlinewidth\":0,\"ticks\":\"\"}}}],\"scatterpolargl\":[{\"type\":\"scatterpolargl\",\"marker\":{\"colorbar\":{\"outlinewidth\":0,\"ticks\":\"\"}}}],\"bar\":[{\"error_x\":{\"color\":\"#2a3f5f\"},\"error_y\":{\"color\":\"#2a3f5f\"},\"marker\":{\"line\":{\"color\":\"#E5ECF6\",\"width\":0.5},\"pattern\":{\"fillmode\":\"overlay\",\"size\":10,\"solidity\":0.2}},\"type\":\"bar\"}],\"scattergeo\":[{\"type\":\"scattergeo\",\"marker\":{\"colorbar\":{\"outlinewidth\":0,\"ticks\":\"\"}}}],\"scatterpolar\":[{\"type\":\"scatterpolar\",\"marker\":{\"colorbar\":{\"outlinewidth\":0,\"ticks\":\"\"}}}],\"histogram\":[{\"marker\":{\"pattern\":{\"fillmode\":\"overlay\",\"size\":10,\"solidity\":0.2}},\"type\":\"histogram\"}],\"scattergl\":[{\"type\":\"scattergl\",\"marker\":{\"colorbar\":{\"outlinewidth\":0,\"ticks\":\"\"}}}],\"scatter3d\":[{\"type\":\"scatter3d\",\"line\":{\"colorbar\":{\"outlinewidth\":0,\"ticks\":\"\"}},\"marker\":{\"colorbar\":{\"outlinewidth\":0,\"ticks\":\"\"}}}],\"scattermapbox\":[{\"type\":\"scattermapbox\",\"marker\":{\"colorbar\":{\"outlinewidth\":0,\"ticks\":\"\"}}}],\"scatterternary\":[{\"type\":\"scatterternary\",\"marker\":{\"colorbar\":{\"outlinewidth\":0,\"ticks\":\"\"}}}],\"scattercarpet\":[{\"type\":\"scattercarpet\",\"marker\":{\"colorbar\":{\"outlinewidth\":0,\"ticks\":\"\"}}}],\"carpet\":[{\"aaxis\":{\"endlinecolor\":\"#2a3f5f\",\"gridcolor\":\"white\",\"linecolor\":\"white\",\"minorgridcolor\":\"white\",\"startlinecolor\":\"#2a3f5f\"},\"baxis\":{\"endlinecolor\":\"#2a3f5f\",\"gridcolor\":\"white\",\"linecolor\":\"white\",\"minorgridcolor\":\"white\",\"startlinecolor\":\"#2a3f5f\"},\"type\":\"carpet\"}],\"table\":[{\"cells\":{\"fill\":{\"color\":\"#EBF0F8\"},\"line\":{\"color\":\"white\"}},\"header\":{\"fill\":{\"color\":\"#C8D4E3\"},\"line\":{\"color\":\"white\"}},\"type\":\"table\"}],\"barpolar\":[{\"marker\":{\"line\":{\"color\":\"#E5ECF6\",\"width\":0.5},\"pattern\":{\"fillmode\":\"overlay\",\"size\":10,\"solidity\":0.2}},\"type\":\"barpolar\"}],\"pie\":[{\"automargin\":true,\"type\":\"pie\"}]},\"layout\":{\"autotypenumbers\":\"strict\",\"colorway\":[\"#636efa\",\"#EF553B\",\"#00cc96\",\"#ab63fa\",\"#FFA15A\",\"#19d3f3\",\"#FF6692\",\"#B6E880\",\"#FF97FF\",\"#FECB52\"],\"font\":{\"color\":\"#2a3f5f\"},\"hovermode\":\"closest\",\"hoverlabel\":{\"align\":\"left\"},\"paper_bgcolor\":\"white\",\"plot_bgcolor\":\"#E5ECF6\",\"polar\":{\"bgcolor\":\"#E5ECF6\",\"angularaxis\":{\"gridcolor\":\"white\",\"linecolor\":\"white\",\"ticks\":\"\"},\"radialaxis\":{\"gridcolor\":\"white\",\"linecolor\":\"white\",\"ticks\":\"\"}},\"ternary\":{\"bgcolor\":\"#E5ECF6\",\"aaxis\":{\"gridcolor\":\"white\",\"linecolor\":\"white\",\"ticks\":\"\"},\"baxis\":{\"gridcolor\":\"white\",\"linecolor\":\"white\",\"ticks\":\"\"},\"caxis\":{\"gridcolor\":\"white\",\"linecolor\":\"white\",\"ticks\":\"\"}},\"coloraxis\":{\"colorbar\":{\"outlinewidth\":0,\"ticks\":\"\"}},\"colorscale\":{\"sequential\":[[0.0,\"#0d0887\"],[0.1111111111111111,\"#46039f\"],[0.2222222222222222,\"#7201a8\"],[0.3333333333333333,\"#9c179e\"],[0.4444444444444444,\"#bd3786\"],[0.5555555555555556,\"#d8576b\"],[0.6666666666666666,\"#ed7953\"],[0.7777777777777778,\"#fb9f3a\"],[0.8888888888888888,\"#fdca26\"],[1.0,\"#f0f921\"]],\"sequentialminus\":[[0.0,\"#0d0887\"],[0.1111111111111111,\"#46039f\"],[0.2222222222222222,\"#7201a8\"],[0.3333333333333333,\"#9c179e\"],[0.4444444444444444,\"#bd3786\"],[0.5555555555555556,\"#d8576b\"],[0.6666666666666666,\"#ed7953\"],[0.7777777777777778,\"#fb9f3a\"],[0.8888888888888888,\"#fdca26\"],[1.0,\"#f0f921\"]],\"diverging\":[[0,\"#8e0152\"],[0.1,\"#c51b7d\"],[0.2,\"#de77ae\"],[0.3,\"#f1b6da\"],[0.4,\"#fde0ef\"],[0.5,\"#f7f7f7\"],[0.6,\"#e6f5d0\"],[0.7,\"#b8e186\"],[0.8,\"#7fbc41\"],[0.9,\"#4d9221\"],[1,\"#276419\"]]},\"xaxis\":{\"gridcolor\":\"white\",\"linecolor\":\"white\",\"ticks\":\"\",\"title\":{\"standoff\":15},\"zerolinecolor\":\"white\",\"automargin\":true,\"zerolinewidth\":2},\"yaxis\":{\"gridcolor\":\"white\",\"linecolor\":\"white\",\"ticks\":\"\",\"title\":{\"standoff\":15},\"zerolinecolor\":\"white\",\"automargin\":true,\"zerolinewidth\":2},\"scene\":{\"xaxis\":{\"backgroundcolor\":\"#E5ECF6\",\"gridcolor\":\"white\",\"linecolor\":\"white\",\"showbackground\":true,\"ticks\":\"\",\"zerolinecolor\":\"white\",\"gridwidth\":2},\"yaxis\":{\"backgroundcolor\":\"#E5ECF6\",\"gridcolor\":\"white\",\"linecolor\":\"white\",\"showbackground\":true,\"ticks\":\"\",\"zerolinecolor\":\"white\",\"gridwidth\":2},\"zaxis\":{\"backgroundcolor\":\"#E5ECF6\",\"gridcolor\":\"white\",\"linecolor\":\"white\",\"showbackground\":true,\"ticks\":\"\",\"zerolinecolor\":\"white\",\"gridwidth\":2}},\"shapedefaults\":{\"line\":{\"color\":\"#2a3f5f\"}},\"annotationdefaults\":{\"arrowcolor\":\"#2a3f5f\",\"arrowhead\":0,\"arrowwidth\":1},\"geo\":{\"bgcolor\":\"white\",\"landcolor\":\"#E5ECF6\",\"subunitcolor\":\"white\",\"showland\":true,\"showlakes\":true,\"lakecolor\":\"white\"},\"title\":{\"x\":0.05},\"mapbox\":{\"style\":\"light\"}}},\"xaxis\":{\"anchor\":\"y\",\"domain\":[0.0,1.0],\"title\":{\"text\":\"No of countries\"}},\"yaxis\":{\"anchor\":\"x\",\"domain\":[0.0,1.0],\"title\":{\"text\":\"count\"}},\"legend\":{\"tracegroupgap\":0},\"margin\":{\"t\":60}},                        {\"responsive\": true}                    ).then(function(){\n",
       "                            \n",
       "var gd = document.getElementById('ea3f3c6f-4504-4e4a-a428-af185e8e5994');\n",
       "var x = new MutationObserver(function (mutations, observer) {{\n",
       "        var display = window.getComputedStyle(gd).display;\n",
       "        if (!display || display === 'none') {{\n",
       "            console.log([gd, 'removed!']);\n",
       "            Plotly.purge(gd);\n",
       "            observer.disconnect();\n",
       "        }}\n",
       "}});\n",
       "\n",
       "// Listen for the removal of the full notebook cells\n",
       "var notebookContainer = gd.closest('#notebook-container');\n",
       "if (notebookContainer) {{\n",
       "    x.observe(notebookContainer, {childList: true});\n",
       "}}\n",
       "\n",
       "// Listen for the clearing of the current output cell\n",
       "var outputEl = gd.closest('.output');\n",
       "if (outputEl) {{\n",
       "    x.observe(outputEl, {childList: true});\n",
       "}}\n",
       "\n",
       "                        })                };                });            </script>        </div>"
      ]
     },
     "metadata": {},
     "output_type": "display_data"
    }
   ],
   "source": [
    "import plotly.express as px\n",
    "fig=px.line(nations_over_time,x=\"No of countries\",y=\"count\")\n",
    "fig.show()"
   ]
  },
  {
   "cell_type": "code",
   "execution_count": 107,
   "id": "77430d0e-7830-448f-a3ad-86bd8b7eecf6",
   "metadata": {},
   "outputs": [],
   "source": [
    "import seaborn as sns\n",
    "import matplotlib.pyplot as plt"
   ]
  },
  {
   "cell_type": "code",
   "execution_count": 110,
   "id": "a4e230e7-60c6-419a-9de1-13406e5f2744",
   "metadata": {},
   "outputs": [
    {
     "data": {
      "text/plain": [
       "<Axes: xlabel='Year', ylabel='Sport'>"
      ]
     },
     "execution_count": 110,
     "metadata": {},
     "output_type": "execute_result"
    },
    {
     "data": {
      "image/png": "[encoded data removed]",
      "text/plain": [
       "<Figure size 2500x2500 with 2 Axes>"
      ]
     },
     "metadata": {},
     "output_type": "display_data"
    }
   ],
   "source": [
    "plt.figure(figsize=(25,25))\n",
    "x=df.drop_duplicates(['Year','Sport','Event'])\n",
    "sns.heatmap(x.pivot_table(index='Sport',columns='Year',values='Event',aggfunc='count').fillna(0).astype('int'),annot=True)"
   ]
  },
  {
   "cell_type": "code",
   "execution_count": 119,
   "id": "f4b68df7-9690-485b-9d0c-522568bf640b",
   "metadata": {},
   "outputs": [],
   "source": [
    "def most_successful(df,sport):\n",
    "    temp_df=df.dropna(subset=[\"Medal\"])\n",
    "    if sport !=\"Overall\":\n",
    "        temp_df=temp_df[temp_df['Sport']==sport]\n",
    "    return temp_df['Name'].value_counts().head(15)"
   ]
  },
  {
   "cell_type": "code",
   "execution_count": 120,
   "id": "b902d0f7-6c47-4e6a-9f9a-19b55c7970d9",
   "metadata": {},
   "outputs": [
    {
     "data": {
      "text/plain": [
       "Name\n",
       "Michael Fred Phelps, II                            28\n",
       "Larysa Semenivna Latynina (Diriy-)                 18\n",
       "Nikolay Yefimovich Andrianov                       15\n",
       "Borys Anfiyanovych Shakhlin                        13\n",
       "Takashi Ono                                        13\n",
       "Edoardo Mangiarotti                                13\n",
       "Dara Grace Torres (-Hoffman, -Minas)               12\n",
       "Aleksey Yuryevich Nemov                            12\n",
       "Jennifer Elisabeth \"Jenny\" Thompson (-Cumpelik)    12\n",
       "Birgit Fischer-Schmidt                             12\n",
       "Ryan Steven Lochte                                 12\n",
       "Paavo Johannes Nurmi                               12\n",
       "Sawao Kato                                         12\n",
       "Natalie Anne Coughlin (-Hall)                      12\n",
       "Matthew Nicholas \"Matt\" Biondi                     11\n",
       "Name: count, dtype: int64"
      ]
     },
     "execution_count": 120,
     "metadata": {},
     "output_type": "execute_result"
    }
   ],
   "source": [
    "most_successful(df,'Overall')"
   ]
  },
  {
   "cell_type": "code",
   "execution_count": 116,
   "id": "0d83fd17-2226-4d5d-ba43-93dd97509351",
   "metadata": {},
   "outputs": [
    {
     "data": {
      "text/html": [
       "<div>\n",
       "<style scoped>\n",
       "    .dataframe tbody tr th:only-of-type {\n",
       "        vertical-align: middle;\n",
       "    }\n",
       "\n",
       "    .dataframe tbody tr th {\n",
       "        vertical-align: top;\n",
       "    }\n",
       "\n",
       "    .dataframe thead th {\n",
       "        text-align: right;\n",
       "    }\n",
       "</style>\n",
       "<table border=\"1\" class=\"dataframe\">\n",
       "  <thead>\n",
       "    <tr style=\"text-align: right;\">\n",
       "      <th></th>\n",
       "      <th>ID</th>\n",
       "      <th>Name</th>\n",
       "      <th>Sex</th>\n",
       "      <th>Age</th>\n",
       "      <th>Height</th>\n",
       "      <th>Weight</th>\n",
       "      <th>Team</th>\n",
       "      <th>NOC</th>\n",
       "      <th>Games</th>\n",
       "      <th>Year</th>\n",
       "      <th>Season</th>\n",
       "      <th>City</th>\n",
       "      <th>Sport</th>\n",
       "      <th>Event</th>\n",
       "      <th>Medal</th>\n",
       "      <th>region</th>\n",
       "      <th>notes</th>\n",
       "      <th>Bronze</th>\n",
       "      <th>Gold</th>\n",
       "      <th>Silver</th>\n",
       "    </tr>\n",
       "  </thead>\n",
       "  <tbody>\n",
       "    <tr>\n",
       "      <th>0</th>\n",
       "      <td>1</td>\n",
       "      <td>A Dijiang</td>\n",
       "      <td>M</td>\n",
       "      <td>24.0</td>\n",
       "      <td>180.0</td>\n",
       "      <td>80.0</td>\n",
       "      <td>China</td>\n",
       "      <td>CHN</td>\n",
       "      <td>1992 Summer</td>\n",
       "      <td>1992</td>\n",
       "      <td>Summer</td>\n",
       "      <td>Barcelona</td>\n",
       "      <td>Basketball</td>\n",
       "      <td>Basketball Men's Basketball</td>\n",
       "      <td>NaN</td>\n",
       "      <td>China</td>\n",
       "      <td>NaN</td>\n",
       "      <td>False</td>\n",
       "      <td>False</td>\n",
       "      <td>False</td>\n",
       "    </tr>\n",
       "    <tr>\n",
       "      <th>1</th>\n",
       "      <td>2</td>\n",
       "      <td>A Lamusi</td>\n",
       "      <td>M</td>\n",
       "      <td>23.0</td>\n",
       "      <td>170.0</td>\n",
       "      <td>60.0</td>\n",
       "      <td>China</td>\n",
       "      <td>CHN</td>\n",
       "      <td>2012 Summer</td>\n",
       "      <td>2012</td>\n",
       "      <td>Summer</td>\n",
       "      <td>London</td>\n",
       "      <td>Judo</td>\n",
       "      <td>Judo Men's Extra-Lightweight</td>\n",
       "      <td>NaN</td>\n",
       "      <td>China</td>\n",
       "      <td>NaN</td>\n",
       "      <td>False</td>\n",
       "      <td>False</td>\n",
       "      <td>False</td>\n",
       "    </tr>\n",
       "    <tr>\n",
       "      <th>2</th>\n",
       "      <td>3</td>\n",
       "      <td>Gunnar Nielsen Aaby</td>\n",
       "      <td>M</td>\n",
       "      <td>24.0</td>\n",
       "      <td>NaN</td>\n",
       "      <td>NaN</td>\n",
       "      <td>Denmark</td>\n",
       "      <td>DEN</td>\n",
       "      <td>1920 Summer</td>\n",
       "      <td>1920</td>\n",
       "      <td>Summer</td>\n",
       "      <td>Antwerpen</td>\n",
       "      <td>Football</td>\n",
       "      <td>Football Men's Football</td>\n",
       "      <td>NaN</td>\n",
       "      <td>Denmark</td>\n",
       "      <td>NaN</td>\n",
       "      <td>False</td>\n",
       "      <td>False</td>\n",
       "      <td>False</td>\n",
       "    </tr>\n",
       "    <tr>\n",
       "      <th>3</th>\n",
       "      <td>4</td>\n",
       "      <td>Edgar Lindenau Aabye</td>\n",
       "      <td>M</td>\n",
       "      <td>34.0</td>\n",
       "      <td>NaN</td>\n",
       "      <td>NaN</td>\n",
       "      <td>Denmark/Sweden</td>\n",
       "      <td>DEN</td>\n",
       "      <td>1900 Summer</td>\n",
       "      <td>1900</td>\n",
       "      <td>Summer</td>\n",
       "      <td>Paris</td>\n",
       "      <td>Tug-Of-War</td>\n",
       "      <td>Tug-Of-War Men's Tug-Of-War</td>\n",
       "      <td>Gold</td>\n",
       "      <td>Denmark</td>\n",
       "      <td>NaN</td>\n",
       "      <td>False</td>\n",
       "      <td>True</td>\n",
       "      <td>False</td>\n",
       "    </tr>\n",
       "    <tr>\n",
       "      <th>4</th>\n",
       "      <td>8</td>\n",
       "      <td>Cornelia \"Cor\" Aalten (-Strannood)</td>\n",
       "      <td>F</td>\n",
       "      <td>18.0</td>\n",
       "      <td>168.0</td>\n",
       "      <td>NaN</td>\n",
       "      <td>Netherlands</td>\n",
       "      <td>NED</td>\n",
       "      <td>1932 Summer</td>\n",
       "      <td>1932</td>\n",
       "      <td>Summer</td>\n",
       "      <td>Los Angeles</td>\n",
       "      <td>Athletics</td>\n",
       "      <td>Athletics Women's 100 metres</td>\n",
       "      <td>NaN</td>\n",
       "      <td>Netherlands</td>\n",
       "      <td>NaN</td>\n",
       "      <td>False</td>\n",
       "      <td>False</td>\n",
       "      <td>False</td>\n",
       "    </tr>\n",
       "    <tr>\n",
       "      <th>...</th>\n",
       "      <td>...</td>\n",
       "      <td>...</td>\n",
       "      <td>...</td>\n",
       "      <td>...</td>\n",
       "      <td>...</td>\n",
       "      <td>...</td>\n",
       "      <td>...</td>\n",
       "      <td>...</td>\n",
       "      <td>...</td>\n",
       "      <td>...</td>\n",
       "      <td>...</td>\n",
       "      <td>...</td>\n",
       "      <td>...</td>\n",
       "      <td>...</td>\n",
       "      <td>...</td>\n",
       "      <td>...</td>\n",
       "      <td>...</td>\n",
       "      <td>...</td>\n",
       "      <td>...</td>\n",
       "      <td>...</td>\n",
       "    </tr>\n",
       "    <tr>\n",
       "      <th>222547</th>\n",
       "      <td>135565</td>\n",
       "      <td>Fernando scar Zylberberg</td>\n",
       "      <td>M</td>\n",
       "      <td>27.0</td>\n",
       "      <td>168.0</td>\n",
       "      <td>76.0</td>\n",
       "      <td>Argentina</td>\n",
       "      <td>ARG</td>\n",
       "      <td>2004 Summer</td>\n",
       "      <td>2004</td>\n",
       "      <td>Summer</td>\n",
       "      <td>Athina</td>\n",
       "      <td>Hockey</td>\n",
       "      <td>Hockey Men's Hockey</td>\n",
       "      <td>NaN</td>\n",
       "      <td>Argentina</td>\n",
       "      <td>NaN</td>\n",
       "      <td>False</td>\n",
       "      <td>False</td>\n",
       "      <td>False</td>\n",
       "    </tr>\n",
       "    <tr>\n",
       "      <th>222548</th>\n",
       "      <td>135566</td>\n",
       "      <td>James Francis \"Jim\" Zylker</td>\n",
       "      <td>M</td>\n",
       "      <td>21.0</td>\n",
       "      <td>175.0</td>\n",
       "      <td>75.0</td>\n",
       "      <td>United States</td>\n",
       "      <td>USA</td>\n",
       "      <td>1972 Summer</td>\n",
       "      <td>1972</td>\n",
       "      <td>Summer</td>\n",
       "      <td>Munich</td>\n",
       "      <td>Football</td>\n",
       "      <td>Football Men's Football</td>\n",
       "      <td>NaN</td>\n",
       "      <td>USA</td>\n",
       "      <td>NaN</td>\n",
       "      <td>False</td>\n",
       "      <td>False</td>\n",
       "      <td>False</td>\n",
       "    </tr>\n",
       "    <tr>\n",
       "      <th>222549</th>\n",
       "      <td>135567</td>\n",
       "      <td>Aleksandr Viktorovich Zyuzin</td>\n",
       "      <td>M</td>\n",
       "      <td>24.0</td>\n",
       "      <td>183.0</td>\n",
       "      <td>72.0</td>\n",
       "      <td>Russia</td>\n",
       "      <td>RUS</td>\n",
       "      <td>2000 Summer</td>\n",
       "      <td>2000</td>\n",
       "      <td>Summer</td>\n",
       "      <td>Sydney</td>\n",
       "      <td>Rowing</td>\n",
       "      <td>Rowing Men's Lightweight Coxless Fours</td>\n",
       "      <td>NaN</td>\n",
       "      <td>Russia</td>\n",
       "      <td>NaN</td>\n",
       "      <td>False</td>\n",
       "      <td>False</td>\n",
       "      <td>False</td>\n",
       "    </tr>\n",
       "    <tr>\n",
       "      <th>222550</th>\n",
       "      <td>135567</td>\n",
       "      <td>Aleksandr Viktorovich Zyuzin</td>\n",
       "      <td>M</td>\n",
       "      <td>28.0</td>\n",
       "      <td>183.0</td>\n",
       "      <td>72.0</td>\n",
       "      <td>Russia</td>\n",
       "      <td>RUS</td>\n",
       "      <td>2004 Summer</td>\n",
       "      <td>2004</td>\n",
       "      <td>Summer</td>\n",
       "      <td>Athina</td>\n",
       "      <td>Rowing</td>\n",
       "      <td>Rowing Men's Lightweight Coxless Fours</td>\n",
       "      <td>NaN</td>\n",
       "      <td>Russia</td>\n",
       "      <td>NaN</td>\n",
       "      <td>False</td>\n",
       "      <td>False</td>\n",
       "      <td>False</td>\n",
       "    </tr>\n",
       "    <tr>\n",
       "      <th>222551</th>\n",
       "      <td>135568</td>\n",
       "      <td>Olga Igorevna Zyuzkova</td>\n",
       "      <td>F</td>\n",
       "      <td>33.0</td>\n",
       "      <td>171.0</td>\n",
       "      <td>69.0</td>\n",
       "      <td>Belarus</td>\n",
       "      <td>BLR</td>\n",
       "      <td>2016 Summer</td>\n",
       "      <td>2016</td>\n",
       "      <td>Summer</td>\n",
       "      <td>Rio de Janeiro</td>\n",
       "      <td>Basketball</td>\n",
       "      <td>Basketball Women's Basketball</td>\n",
       "      <td>NaN</td>\n",
       "      <td>Belarus</td>\n",
       "      <td>NaN</td>\n",
       "      <td>False</td>\n",
       "      <td>False</td>\n",
       "      <td>False</td>\n",
       "    </tr>\n",
       "  </tbody>\n",
       "</table>\n",
       "<p>221167 rows × 20 columns</p>\n",
       "</div>"
      ],
      "text/plain": [
       "            ID                                Name Sex   Age  Height  Weight  \\\n",
       "0            1                           A Dijiang   M  24.0   180.0    80.0   \n",
       "1            2                            A Lamusi   M  23.0   170.0    60.0   \n",
       "2            3                 Gunnar Nielsen Aaby   M  24.0     NaN     NaN   \n",
       "3            4                Edgar Lindenau Aabye   M  34.0     NaN     NaN   \n",
       "4            8  Cornelia \"Cor\" Aalten (-Strannood)   F  18.0   168.0     NaN   \n",
       "...        ...                                 ...  ..   ...     ...     ...   \n",
       "222547  135565            Fernando scar Zylberberg   M  27.0   168.0    76.0   \n",
       "222548  135566          James Francis \"Jim\" Zylker   M  21.0   175.0    75.0   \n",
       "222549  135567        Aleksandr Viktorovich Zyuzin   M  24.0   183.0    72.0   \n",
       "222550  135567        Aleksandr Viktorovich Zyuzin   M  28.0   183.0    72.0   \n",
       "222551  135568              Olga Igorevna Zyuzkova   F  33.0   171.0    69.0   \n",
       "\n",
       "                  Team  NOC        Games  Year  Season            City  \\\n",
       "0                China  CHN  1992 Summer  1992  Summer       Barcelona   \n",
       "1                China  CHN  2012 Summer  2012  Summer          London   \n",
       "2              Denmark  DEN  1920 Summer  1920  Summer       Antwerpen   \n",
       "3       Denmark/Sweden  DEN  1900 Summer  1900  Summer           Paris   \n",
       "4          Netherlands  NED  1932 Summer  1932  Summer     Los Angeles   \n",
       "...                ...  ...          ...   ...     ...             ...   \n",
       "222547       Argentina  ARG  2004 Summer  2004  Summer          Athina   \n",
       "222548   United States  USA  1972 Summer  1972  Summer          Munich   \n",
       "222549          Russia  RUS  2000 Summer  2000  Summer          Sydney   \n",
       "222550          Russia  RUS  2004 Summer  2004  Summer          Athina   \n",
       "222551         Belarus  BLR  2016 Summer  2016  Summer  Rio de Janeiro   \n",
       "\n",
       "             Sport                                   Event Medal       region  \\\n",
       "0       Basketball             Basketball Men's Basketball   NaN        China   \n",
       "1             Judo            Judo Men's Extra-Lightweight   NaN        China   \n",
       "2         Football                 Football Men's Football   NaN      Denmark   \n",
       "3       Tug-Of-War             Tug-Of-War Men's Tug-Of-War  Gold      Denmark   \n",
       "4        Athletics            Athletics Women's 100 metres   NaN  Netherlands   \n",
       "...            ...                                     ...   ...          ...   \n",
       "222547      Hockey                     Hockey Men's Hockey   NaN    Argentina   \n",
       "222548    Football                 Football Men's Football   NaN          USA   \n",
       "222549      Rowing  Rowing Men's Lightweight Coxless Fours   NaN       Russia   \n",
       "222550      Rowing  Rowing Men's Lightweight Coxless Fours   NaN       Russia   \n",
       "222551  Basketball           Basketball Women's Basketball   NaN      Belarus   \n",
       "\n",
       "       notes  Bronze   Gold  Silver  \n",
       "0        NaN   False  False   False  \n",
       "1        NaN   False  False   False  \n",
       "2        NaN   False  False   False  \n",
       "3        NaN   False   True   False  \n",
       "4        NaN   False  False   False  \n",
       "...      ...     ...    ...     ...  \n",
       "222547   NaN   False  False   False  \n",
       "222548   NaN   False  False   False  \n",
       "222549   NaN   False  False   False  \n",
       "222550   NaN   False  False   False  \n",
       "222551   NaN   False  False   False  \n",
       "\n",
       "[221167 rows x 20 columns]"
      ]
     },
     "execution_count": 116,
     "metadata": {},
     "output_type": "execute_result"
    }
   ],
   "source": [
    "df"
   ]
  },
  {
   "cell_type": "code",
   "execution_count": 122,
   "id": "fecb478e-0874-4402-b1f8-3243cd573061",
   "metadata": {},
   "outputs": [
    {
     "name": "stderr",
     "output_type": "stream",
     "text": [
      "C:\\Users\\agarw\\AppData\\Local\\Temp\\ipykernel_6108\\1749264335.py:2: SettingWithCopyWarning:\n",
      "\n",
      "\n",
      "A value is trying to be set on a copy of a slice from a DataFrame\n",
      "\n",
      "See the caveats in the documentation: https://pandas.pydata.org/pandas-docs/stable/user_guide/indexing.html#returning-a-view-versus-a-copy\n",
      "\n"
     ]
    }
   ],
   "source": [
    "temp_df=df.dropna(subset=['Medal'])\n",
    "temp_df.drop_duplicates(subset=['Team','NOC','Games','Year','City','Sport','Event','Medal'],inplace=True)"
   ]
  },
  {
   "cell_type": "code",
   "execution_count": 131,
   "id": "71bf17e0-08db-4f9f-808e-4fcdc37e1a5e",
   "metadata": {},
   "outputs": [],
   "source": [
    "new_df=temp_df[temp_df['region']=='USA']\n",
    "final_df=new_df.groupby('Year').count()['Medal'].reset_index()\n"
   ]
  },
  {
   "cell_type": "code",
   "execution_count": 132,
   "id": "ceb0f910-cd7a-40c3-beb3-c266e8cc5b2e",
   "metadata": {},
   "outputs": [
    {
     "data": {
      "application/vnd.plotly.v1+json": {
       "config": {
        "plotlyServerURL": "https://plot.ly"
       },
       "data": [
        {
         "hovertemplate": "Year=%{x}<br>Medal=%{y}<extra></extra>",
         "legendgroup": "",
         "line": {
          "color": "#636efa",
          "dash": "solid"
         },
         "marker": {
          "symbol": "circle"
         },
         "mode": "lines",
         "name": "",
         "orientation": "v",
         "showlegend": false,
         "type": "scatter",
         "x": [
          1896,
          1900,
          1904,
          1906,
          1908,
          1912,
          1920,
          1924,
          1928,
          1932,
          1936,
          1948,
          1952,
          1956,
          1960,
          1964,
          1968,
          1972,
          1976,
          1984,
          1988,
          1992,
          1996,
          2000,
          2004,
          2008,
          2012,
          2016
         ],
         "xaxis": "x",
         "y": [
          19,
          54,
          231,
          23,
          46,
          63,
          95,
          99,
          56,
          110,
          57,
          84,
          76,
          74,
          71,
          90,
          107,
          94,
          94,
          173,
          94,
          108,
          101,
          91,
          101,
          110,
          103,
          121
         ],
         "yaxis": "y"
        }
       ],
       "layout": {
        "autosize": true,
        "legend": {
         "tracegroupgap": 0
        },
        "margin": {
         "t": 60
        },
        "template": {
         "data": {
          "bar": [
           {
            "error_x": {
             "color": "#2a3f5f"
            },
            "error_y": {
             "color": "#2a3f5f"
            },
            "marker": {
             "line": {
              "color": "#E5ECF6",
              "width": 0.5
             },
             "pattern": {
              "fillmode": "overlay",
              "size": 10,
              "solidity": 0.2
             }
            },
            "type": "bar"
           }
          ],
          "barpolar": [
           {
            "marker": {
             "line": {
              "color": "#E5ECF6",
              "width": 0.5
             },
             "pattern": {
              "fillmode": "overlay",
              "size": 10,
              "solidity": 0.2
             }
            },
            "type": "barpolar"
           }
          ],
          "carpet": [
           {
            "aaxis": {
             "endlinecolor": "#2a3f5f",
             "gridcolor": "white",
             "linecolor": "white",
             "minorgridcolor": "white",
             "startlinecolor": "#2a3f5f"
            },
            "baxis": {
             "endlinecolor": "#2a3f5f",
             "gridcolor": "white",
             "linecolor": "white",
             "minorgridcolor": "white",
             "startlinecolor": "#2a3f5f"
            },
            "type": "carpet"
           }
          ],
          "choropleth": [
           {
            "colorbar": {
             "outlinewidth": 0,
             "ticks": ""
            },
            "type": "choropleth"
           }
          ],
          "contour": [
           {
            "colorbar": {
             "outlinewidth": 0,
             "ticks": ""
            },
            "colorscale": [
             [
              0,
              "#0d0887"
             ],
             [
              0.1111111111111111,
              "#46039f"
             ],
             [
              0.2222222222222222,
              "#7201a8"
             ],
             [
              0.3333333333333333,
              "#9c179e"
             ],
             [
              0.4444444444444444,
              "#bd3786"
             ],
             [
              0.5555555555555556,
              "#d8576b"
             ],
             [
              0.6666666666666666,
              "#ed7953"
             ],
             [
              0.7777777777777778,
              "#fb9f3a"
             ],
             [
              0.8888888888888888,
              "#fdca26"
             ],
             [
              1,
              "#f0f921"
             ]
            ],
            "type": "contour"
           }
          ],
          "contourcarpet": [
           {
            "colorbar": {
             "outlinewidth": 0,
             "ticks": ""
            },
            "type": "contourcarpet"
           }
          ],
          "heatmap": [
           {
            "colorbar": {
             "outlinewidth": 0,
             "ticks": ""
            },
            "colorscale": [
             [
              0,
              "#0d0887"
             ],
             [
              0.1111111111111111,
              "#46039f"
             ],
             [
              0.2222222222222222,
              "#7201a8"
             ],
             [
              0.3333333333333333,
              "#9c179e"
             ],
             [
              0.4444444444444444,
              "#bd3786"
             ],
             [
              0.5555555555555556,
              "#d8576b"
             ],
             [
              0.6666666666666666,
              "#ed7953"
             ],
             [
              0.7777777777777778,
              "#fb9f3a"
             ],
             [
              0.8888888888888888,
              "#fdca26"
             ],
             [
              1,
              "#f0f921"
             ]
            ],
            "type": "heatmap"
           }
          ],
          "heatmapgl": [
           {
            "colorbar": {
             "outlinewidth": 0,
             "ticks": ""
            },
            "colorscale": [
             [
              0,
              "#0d0887"
             ],
             [
              0.1111111111111111,
              "#46039f"
             ],
             [
              0.2222222222222222,
              "#7201a8"
             ],
             [
              0.3333333333333333,
              "#9c179e"
             ],
             [
              0.4444444444444444,
              "#bd3786"
             ],
             [
              0.5555555555555556,
              "#d8576b"
             ],
             [
              0.6666666666666666,
              "#ed7953"
             ],
             [
              0.7777777777777778,
              "#fb9f3a"
             ],
             [
              0.8888888888888888,
              "#fdca26"
             ],
             [
              1,
              "#f0f921"
             ]
            ],
            "type": "heatmapgl"
           }
          ],
          "histogram": [
           {
            "marker": {
             "pattern": {
              "fillmode": "overlay",
              "size": 10,
              "solidity": 0.2
             }
            },
            "type": "histogram"
           }
          ],
          "histogram2d": [
           {
            "colorbar": {
             "outlinewidth": 0,
             "ticks": ""
            },
            "colorscale": [
             [
              0,
              "#0d0887"
             ],
             [
              0.1111111111111111,
              "#46039f"
             ],
             [
              0.2222222222222222,
              "#7201a8"
             ],
             [
              0.3333333333333333,
              "#9c179e"
             ],
             [
              0.4444444444444444,
              "#bd3786"
             ],
             [
              0.5555555555555556,
              "#d8576b"
             ],
             [
              0.6666666666666666,
              "#ed7953"
             ],
             [
              0.7777777777777778,
              "#fb9f3a"
             ],
             [
              0.8888888888888888,
              "#fdca26"
             ],
             [
              1,
              "#f0f921"
             ]
            ],
            "type": "histogram2d"
           }
          ],
          "histogram2dcontour": [
           {
            "colorbar": {
             "outlinewidth": 0,
             "ticks": ""
            },
            "colorscale": [
             [
              0,
              "#0d0887"
             ],
             [
              0.1111111111111111,
              "#46039f"
             ],
             [
              0.2222222222222222,
              "#7201a8"
             ],
             [
              0.3333333333333333,
              "#9c179e"
             ],
             [
              0.4444444444444444,
              "#bd3786"
             ],
             [
              0.5555555555555556,
              "#d8576b"
             ],
             [
              0.6666666666666666,
              "#ed7953"
             ],
             [
              0.7777777777777778,
              "#fb9f3a"
             ],
             [
              0.8888888888888888,
              "#fdca26"
             ],
             [
              1,
              "#f0f921"
             ]
            ],
            "type": "histogram2dcontour"
           }
          ],
          "mesh3d": [
           {
            "colorbar": {
             "outlinewidth": 0,
             "ticks": ""
            },
            "type": "mesh3d"
           }
          ],
          "parcoords": [
           {
            "line": {
             "colorbar": {
              "outlinewidth": 0,
              "ticks": ""
             }
            },
            "type": "parcoords"
           }
          ],
          "pie": [
           {
            "automargin": true,
            "type": "pie"
           }
          ],
          "scatter": [
           {
            "fillpattern": {
             "fillmode": "overlay",
             "size": 10,
             "solidity": 0.2
            },
            "type": "scatter"
           }
          ],
          "scatter3d": [
           {
            "line": {
             "colorbar": {
              "outlinewidth": 0,
              "ticks": ""
             }
            },
            "marker": {
             "colorbar": {
              "outlinewidth": 0,
              "ticks": ""
             }
            },
            "type": "scatter3d"
           }
          ],
          "scattercarpet": [
           {
            "marker": {
             "colorbar": {
              "outlinewidth": 0,
              "ticks": ""
             }
            },
            "type": "scattercarpet"
           }
          ],
          "scattergeo": [
           {
            "marker": {
             "colorbar": {
              "outlinewidth": 0,
              "ticks": ""
             }
            },
            "type": "scattergeo"
           }
          ],
          "scattergl": [
           {
            "marker": {
             "colorbar": {
              "outlinewidth": 0,
              "ticks": ""
             }
            },
            "type": "scattergl"
           }
          ],
          "scattermapbox": [
           {
            "marker": {
             "colorbar": {
              "outlinewidth": 0,
              "ticks": ""
             }
            },
            "type": "scattermapbox"
           }
          ],
          "scatterpolar": [
           {
            "marker": {
             "colorbar": {
              "outlinewidth": 0,
              "ticks": ""
             }
            },
            "type": "scatterpolar"
           }
          ],
          "scatterpolargl": [
           {
            "marker": {
             "colorbar": {
              "outlinewidth": 0,
              "ticks": ""
             }
            },
            "type": "scatterpolargl"
           }
          ],
          "scatterternary": [
           {
            "marker": {
             "colorbar": {
              "outlinewidth": 0,
              "ticks": ""
             }
            },
            "type": "scatterternary"
           }
          ],
          "surface": [
           {
            "colorbar": {
             "outlinewidth": 0,
             "ticks": ""
            },
            "colorscale": [
             [
              0,
              "#0d0887"
             ],
             [
              0.1111111111111111,
              "#46039f"
             ],
             [
              0.2222222222222222,
              "#7201a8"
             ],
             [
              0.3333333333333333,
              "#9c179e"
             ],
             [
              0.4444444444444444,
              "#bd3786"
             ],
             [
              0.5555555555555556,
              "#d8576b"
             ],
             [
              0.6666666666666666,
              "#ed7953"
             ],
             [
              0.7777777777777778,
              "#fb9f3a"
             ],
             [
              0.8888888888888888,
              "#fdca26"
             ],
             [
              1,
              "#f0f921"
             ]
            ],
            "type": "surface"
           }
          ],
          "table": [
           {
            "cells": {
             "fill": {
              "color": "#EBF0F8"
             },
             "line": {
              "color": "white"
             }
            },
            "header": {
             "fill": {
              "color": "#C8D4E3"
             },
             "line": {
              "color": "white"
             }
            },
            "type": "table"
           }
          ]
         },
         "layout": {
          "annotationdefaults": {
           "arrowcolor": "#2a3f5f",
           "arrowhead": 0,
           "arrowwidth": 1
          },
          "autotypenumbers": "strict",
          "coloraxis": {
           "colorbar": {
            "outlinewidth": 0,
            "ticks": ""
           }
          },
          "colorscale": {
           "diverging": [
            [
             0,
             "#8e0152"
            ],
            [
             0.1,
             "#c51b7d"
            ],
            [
             0.2,
             "#de77ae"
            ],
            [
             0.3,
             "#f1b6da"
            ],
            [
             0.4,
             "#fde0ef"
            ],
            [
             0.5,
             "#f7f7f7"
            ],
            [
             0.6,
             "#e6f5d0"
            ],
            [
             0.7,
             "#b8e186"
            ],
            [
             0.8,
             "#7fbc41"
            ],
            [
             0.9,
             "#4d9221"
            ],
            [
             1,
             "#276419"
            ]
           ],
           "sequential": [
            [
             0,
             "#0d0887"
            ],
            [
             0.1111111111111111,
             "#46039f"
            ],
            [
             0.2222222222222222,
             "#7201a8"
            ],
            [
             0.3333333333333333,
             "#9c179e"
            ],
            [
             0.4444444444444444,
             "#bd3786"
            ],
            [
             0.5555555555555556,
             "#d8576b"
            ],
            [
             0.6666666666666666,
             "#ed7953"
            ],
            [
             0.7777777777777778,
             "#fb9f3a"
            ],
            [
             0.8888888888888888,
             "#fdca26"
            ],
            [
             1,
             "#f0f921"
            ]
           ],
           "sequentialminus": [
            [
             0,
             "#0d0887"
            ],
            [
             0.1111111111111111,
             "#46039f"
            ],
            [
             0.2222222222222222,
             "#7201a8"
            ],
            [
             0.3333333333333333,
             "#9c179e"
            ],
            [
             0.4444444444444444,
             "#bd3786"
            ],
            [
             0.5555555555555556,
             "#d8576b"
            ],
            [
             0.6666666666666666,
             "#ed7953"
            ],
            [
             0.7777777777777778,
             "#fb9f3a"
            ],
            [
             0.8888888888888888,
             "#fdca26"
            ],
            [
             1,
             "#f0f921"
            ]
           ]
          },
          "colorway": [
           "#636efa",
           "#EF553B",
           "#00cc96",
           "#ab63fa",
           "#FFA15A",
           "#19d3f3",
           "#FF6692",
           "#B6E880",
           "#FF97FF",
           "#FECB52"
          ],
          "font": {
           "color": "#2a3f5f"
          },
          "geo": {
           "bgcolor": "white",
           "lakecolor": "white",
           "landcolor": "#E5ECF6",
           "showlakes": true,
           "showland": true,
           "subunitcolor": "white"
          },
          "hoverlabel": {
           "align": "left"
          },
          "hovermode": "closest",
          "mapbox": {
           "style": "light"
          },
          "paper_bgcolor": "white",
          "plot_bgcolor": "#E5ECF6",
          "polar": {
           "angularaxis": {
            "gridcolor": "white",
            "linecolor": "white",
            "ticks": ""
           },
           "bgcolor": "#E5ECF6",
           "radialaxis": {
            "gridcolor": "white",
            "linecolor": "white",
            "ticks": ""
           }
          },
          "scene": {
           "xaxis": {
            "backgroundcolor": "#E5ECF6",
            "gridcolor": "white",
            "gridwidth": 2,
            "linecolor": "white",
            "showbackground": true,
            "ticks": "",
            "zerolinecolor": "white"
           },
           "yaxis": {
            "backgroundcolor": "#E5ECF6",
            "gridcolor": "white",
            "gridwidth": 2,
            "linecolor": "white",
            "showbackground": true,
            "ticks": "",
            "zerolinecolor": "white"
           },
           "zaxis": {
            "backgroundcolor": "#E5ECF6",
            "gridcolor": "white",
            "gridwidth": 2,
            "linecolor": "white",
            "showbackground": true,
            "ticks": "",
            "zerolinecolor": "white"
           }
          },
          "shapedefaults": {
           "line": {
            "color": "#2a3f5f"
           }
          },
          "ternary": {
           "aaxis": {
            "gridcolor": "white",
            "linecolor": "white",
            "ticks": ""
           },
           "baxis": {
            "gridcolor": "white",
            "linecolor": "white",
            "ticks": ""
           },
           "bgcolor": "#E5ECF6",
           "caxis": {
            "gridcolor": "white",
            "linecolor": "white",
            "ticks": ""
           }
          },
          "title": {
           "x": 0.05
          },
          "xaxis": {
           "automargin": true,
           "gridcolor": "white",
           "linecolor": "white",
           "ticks": "",
           "title": {
            "standoff": 15
           },
           "zerolinecolor": "white",
           "zerolinewidth": 2
          },
          "yaxis": {
           "automargin": true,
           "gridcolor": "white",
           "linecolor": "white",
           "ticks": "",
           "title": {
            "standoff": 15
           },
           "zerolinecolor": "white",
           "zerolinewidth": 2
          }
         }
        },
        "xaxis": {
         "anchor": "y",
         "autorange": true,
         "domain": [
          0,
          1
         ],
         "range": [
          1896,
          2016
         ],
         "title": {
          "text": "Year"
         },
         "type": "linear"
        },
        "yaxis": {
         "anchor": "x",
         "autorange": true,
         "domain": [
          0,
          1
         ],
         "range": [
          7.222222222222221,
          242.77777777777777
         ],
         "title": {
          "text": "Medal"
         },
         "type": "linear"
        }
       }
      },
      "image/png": "[encoded data removed]",
      "text/html": [
       "<div>                            <div id=\"2cc5c281-de99-4ca4-ac62-2c730b19b815\" class=\"plotly-graph-div\" style=\"height:525px; width:100%;\"></div>            <script type=\"text/javascript\">                require([\"plotly\"], function(Plotly) {                    window.PLOTLYENV=window.PLOTLYENV || {};                                    if (document.getElementById(\"2cc5c281-de99-4ca4-ac62-2c730b19b815\")) {                    Plotly.newPlot(                        \"2cc5c281-de99-4ca4-ac62-2c730b19b815\",                        [{\"hovertemplate\":\"Year=%{x}\\u003cbr\\u003eMedal=%{y}\\u003cextra\\u003e\\u003c\\u002fextra\\u003e\",\"legendgroup\":\"\",\"line\":{\"color\":\"#636efa\",\"dash\":\"solid\"},\"marker\":{\"symbol\":\"circle\"},\"mode\":\"lines\",\"name\":\"\",\"orientation\":\"v\",\"showlegend\":false,\"x\":[1896,1900,1904,1906,1908,1912,1920,1924,1928,1932,1936,1948,1952,1956,1960,1964,1968,1972,1976,1984,1988,1992,1996,2000,2004,2008,2012,2016],\"xaxis\":\"x\",\"y\":[19,54,231,23,46,63,95,99,56,110,57,84,76,74,71,90,107,94,94,173,94,108,101,91,101,110,103,121],\"yaxis\":\"y\",\"type\":\"scatter\"}],                        {\"template\":{\"data\":{\"histogram2dcontour\":[{\"type\":\"histogram2dcontour\",\"colorbar\":{\"outlinewidth\":0,\"ticks\":\"\"},\"colorscale\":[[0.0,\"#0d0887\"],[0.1111111111111111,\"#46039f\"],[0.2222222222222222,\"#7201a8\"],[0.3333333333333333,\"#9c179e\"],[0.4444444444444444,\"#bd3786\"],[0.5555555555555556,\"#d8576b\"],[0.6666666666666666,\"#ed7953\"],[0.7777777777777778,\"#fb9f3a\"],[0.8888888888888888,\"#fdca26\"],[1.0,\"#f0f921\"]]}],\"choropleth\":[{\"type\":\"choropleth\",\"colorbar\":{\"outlinewidth\":0,\"ticks\":\"\"}}],\"histogram2d\":[{\"type\":\"histogram2d\",\"colorbar\":{\"outlinewidth\":0,\"ticks\":\"\"},\"colorscale\":[[0.0,\"#0d0887\"],[0.1111111111111111,\"#46039f\"],[0.2222222222222222,\"#7201a8\"],[0.3333333333333333,\"#9c179e\"],[0.4444444444444444,\"#bd3786\"],[0.5555555555555556,\"#d8576b\"],[0.6666666666666666,\"#ed7953\"],[0.7777777777777778,\"#fb9f3a\"],[0.8888888888888888,\"#fdca26\"],[1.0,\"#f0f921\"]]}],\"heatmap\":[{\"type\":\"heatmap\",\"colorbar\":{\"outlinewidth\":0,\"ticks\":\"\"},\"colorscale\":[[0.0,\"#0d0887\"],[0.1111111111111111,\"#46039f\"],[0.2222222222222222,\"#7201a8\"],[0.3333333333333333,\"#9c179e\"],[0.4444444444444444,\"#bd3786\"],[0.5555555555555556,\"#d8576b\"],[0.6666666666666666,\"#ed7953\"],[0.7777777777777778,\"#fb9f3a\"],[0.8888888888888888,\"#fdca26\"],[1.0,\"#f0f921\"]]}],\"heatmapgl\":[{\"type\":\"heatmapgl\",\"colorbar\":{\"outlinewidth\":0,\"ticks\":\"\"},\"colorscale\":[[0.0,\"#0d0887\"],[0.1111111111111111,\"#46039f\"],[0.2222222222222222,\"#7201a8\"],[0.3333333333333333,\"#9c179e\"],[0.4444444444444444,\"#bd3786\"],[0.5555555555555556,\"#d8576b\"],[0.6666666666666666,\"#ed7953\"],[0.7777777777777778,\"#fb9f3a\"],[0.8888888888888888,\"#fdca26\"],[1.0,\"#f0f921\"]]}],\"contourcarpet\":[{\"type\":\"contourcarpet\",\"colorbar\":{\"outlinewidth\":0,\"ticks\":\"\"}}],\"contour\":[{\"type\":\"contour\",\"colorbar\":{\"outlinewidth\":0,\"ticks\":\"\"},\"colorscale\":[[0.0,\"#0d0887\"],[0.1111111111111111,\"#46039f\"],[0.2222222222222222,\"#7201a8\"],[0.3333333333333333,\"#9c179e\"],[0.4444444444444444,\"#bd3786\"],[0.5555555555555556,\"#d8576b\"],[0.6666666666666666,\"#ed7953\"],[0.7777777777777778,\"#fb9f3a\"],[0.8888888888888888,\"#fdca26\"],[1.0,\"#f0f921\"]]}],\"surface\":[{\"type\":\"surface\",\"colorbar\":{\"outlinewidth\":0,\"ticks\":\"\"},\"colorscale\":[[0.0,\"#0d0887\"],[0.1111111111111111,\"#46039f\"],[0.2222222222222222,\"#7201a8\"],[0.3333333333333333,\"#9c179e\"],[0.4444444444444444,\"#bd3786\"],[0.5555555555555556,\"#d8576b\"],[0.6666666666666666,\"#ed7953\"],[0.7777777777777778,\"#fb9f3a\"],[0.8888888888888888,\"#fdca26\"],[1.0,\"#f0f921\"]]}],\"mesh3d\":[{\"type\":\"mesh3d\",\"colorbar\":{\"outlinewidth\":0,\"ticks\":\"\"}}],\"scatter\":[{\"fillpattern\":{\"fillmode\":\"overlay\",\"size\":10,\"solidity\":0.2},\"type\":\"scatter\"}],\"parcoords\":[{\"type\":\"parcoords\",\"line\":{\"colorbar\":{\"outlinewidth\":0,\"ticks\":\"\"}}}],\"scatterpolargl\":[{\"type\":\"scatterpolargl\",\"marker\":{\"colorbar\":{\"outlinewidth\":0,\"ticks\":\"\"}}}],\"bar\":[{\"error_x\":{\"color\":\"#2a3f5f\"},\"error_y\":{\"color\":\"#2a3f5f\"},\"marker\":{\"line\":{\"color\":\"#E5ECF6\",\"width\":0.5},\"pattern\":{\"fillmode\":\"overlay\",\"size\":10,\"solidity\":0.2}},\"type\":\"bar\"}],\"scattergeo\":[{\"type\":\"scattergeo\",\"marker\":{\"colorbar\":{\"outlinewidth\":0,\"ticks\":\"\"}}}],\"scatterpolar\":[{\"type\":\"scatterpolar\",\"marker\":{\"colorbar\":{\"outlinewidth\":0,\"ticks\":\"\"}}}],\"histogram\":[{\"marker\":{\"pattern\":{\"fillmode\":\"overlay\",\"size\":10,\"solidity\":0.2}},\"type\":\"histogram\"}],\"scattergl\":[{\"type\":\"scattergl\",\"marker\":{\"colorbar\":{\"outlinewidth\":0,\"ticks\":\"\"}}}],\"scatter3d\":[{\"type\":\"scatter3d\",\"line\":{\"colorbar\":{\"outlinewidth\":0,\"ticks\":\"\"}},\"marker\":{\"colorbar\":{\"outlinewidth\":0,\"ticks\":\"\"}}}],\"scattermapbox\":[{\"type\":\"scattermapbox\",\"marker\":{\"colorbar\":{\"outlinewidth\":0,\"ticks\":\"\"}}}],\"scatterternary\":[{\"type\":\"scatterternary\",\"marker\":{\"colorbar\":{\"outlinewidth\":0,\"ticks\":\"\"}}}],\"scattercarpet\":[{\"type\":\"scattercarpet\",\"marker\":{\"colorbar\":{\"outlinewidth\":0,\"ticks\":\"\"}}}],\"carpet\":[{\"aaxis\":{\"endlinecolor\":\"#2a3f5f\",\"gridcolor\":\"white\",\"linecolor\":\"white\",\"minorgridcolor\":\"white\",\"startlinecolor\":\"#2a3f5f\"},\"baxis\":{\"endlinecolor\":\"#2a3f5f\",\"gridcolor\":\"white\",\"linecolor\":\"white\",\"minorgridcolor\":\"white\",\"startlinecolor\":\"#2a3f5f\"},\"type\":\"carpet\"}],\"table\":[{\"cells\":{\"fill\":{\"color\":\"#EBF0F8\"},\"line\":{\"color\":\"white\"}},\"header\":{\"fill\":{\"color\":\"#C8D4E3\"},\"line\":{\"color\":\"white\"}},\"type\":\"table\"}],\"barpolar\":[{\"marker\":{\"line\":{\"color\":\"#E5ECF6\",\"width\":0.5},\"pattern\":{\"fillmode\":\"overlay\",\"size\":10,\"solidity\":0.2}},\"type\":\"barpolar\"}],\"pie\":[{\"automargin\":true,\"type\":\"pie\"}]},\"layout\":{\"autotypenumbers\":\"strict\",\"colorway\":[\"#636efa\",\"#EF553B\",\"#00cc96\",\"#ab63fa\",\"#FFA15A\",\"#19d3f3\",\"#FF6692\",\"#B6E880\",\"#FF97FF\",\"#FECB52\"],\"font\":{\"color\":\"#2a3f5f\"},\"hovermode\":\"closest\",\"hoverlabel\":{\"align\":\"left\"},\"paper_bgcolor\":\"white\",\"plot_bgcolor\":\"#E5ECF6\",\"polar\":{\"bgcolor\":\"#E5ECF6\",\"angularaxis\":{\"gridcolor\":\"white\",\"linecolor\":\"white\",\"ticks\":\"\"},\"radialaxis\":{\"gridcolor\":\"white\",\"linecolor\":\"white\",\"ticks\":\"\"}},\"ternary\":{\"bgcolor\":\"#E5ECF6\",\"aaxis\":{\"gridcolor\":\"white\",\"linecolor\":\"white\",\"ticks\":\"\"},\"baxis\":{\"gridcolor\":\"white\",\"linecolor\":\"white\",\"ticks\":\"\"},\"caxis\":{\"gridcolor\":\"white\",\"linecolor\":\"white\",\"ticks\":\"\"}},\"coloraxis\":{\"colorbar\":{\"outlinewidth\":0,\"ticks\":\"\"}},\"colorscale\":{\"sequential\":[[0.0,\"#0d0887\"],[0.1111111111111111,\"#46039f\"],[0.2222222222222222,\"#7201a8\"],[0.3333333333333333,\"#9c179e\"],[0.4444444444444444,\"#bd3786\"],[0.5555555555555556,\"#d8576b\"],[0.6666666666666666,\"#ed7953\"],[0.7777777777777778,\"#fb9f3a\"],[0.8888888888888888,\"#fdca26\"],[1.0,\"#f0f921\"]],\"sequentialminus\":[[0.0,\"#0d0887\"],[0.1111111111111111,\"#46039f\"],[0.2222222222222222,\"#7201a8\"],[0.3333333333333333,\"#9c179e\"],[0.4444444444444444,\"#bd3786\"],[0.5555555555555556,\"#d8576b\"],[0.6666666666666666,\"#ed7953\"],[0.7777777777777778,\"#fb9f3a\"],[0.8888888888888888,\"#fdca26\"],[1.0,\"#f0f921\"]],\"diverging\":[[0,\"#8e0152\"],[0.1,\"#c51b7d\"],[0.2,\"#de77ae\"],[0.3,\"#f1b6da\"],[0.4,\"#fde0ef\"],[0.5,\"#f7f7f7\"],[0.6,\"#e6f5d0\"],[0.7,\"#b8e186\"],[0.8,\"#7fbc41\"],[0.9,\"#4d9221\"],[1,\"#276419\"]]},\"xaxis\":{\"gridcolor\":\"white\",\"linecolor\":\"white\",\"ticks\":\"\",\"title\":{\"standoff\":15},\"zerolinecolor\":\"white\",\"automargin\":true,\"zerolinewidth\":2},\"yaxis\":{\"gridcolor\":\"white\",\"linecolor\":\"white\",\"ticks\":\"\",\"title\":{\"standoff\":15},\"zerolinecolor\":\"white\",\"automargin\":true,\"zerolinewidth\":2},\"scene\":{\"xaxis\":{\"backgroundcolor\":\"#E5ECF6\",\"gridcolor\":\"white\",\"linecolor\":\"white\",\"showbackground\":true,\"ticks\":\"\",\"zerolinecolor\":\"white\",\"gridwidth\":2},\"yaxis\":{\"backgroundcolor\":\"#E5ECF6\",\"gridcolor\":\"white\",\"linecolor\":\"white\",\"showbackground\":true,\"ticks\":\"\",\"zerolinecolor\":\"white\",\"gridwidth\":2},\"zaxis\":{\"backgroundcolor\":\"#E5ECF6\",\"gridcolor\":\"white\",\"linecolor\":\"white\",\"showbackground\":true,\"ticks\":\"\",\"zerolinecolor\":\"white\",\"gridwidth\":2}},\"shapedefaults\":{\"line\":{\"color\":\"#2a3f5f\"}},\"annotationdefaults\":{\"arrowcolor\":\"#2a3f5f\",\"arrowhead\":0,\"arrowwidth\":1},\"geo\":{\"bgcolor\":\"white\",\"landcolor\":\"#E5ECF6\",\"subunitcolor\":\"white\",\"showland\":true,\"showlakes\":true,\"lakecolor\":\"white\"},\"title\":{\"x\":0.05},\"mapbox\":{\"style\":\"light\"}}},\"xaxis\":{\"anchor\":\"y\",\"domain\":[0.0,1.0],\"title\":{\"text\":\"Year\"}},\"yaxis\":{\"anchor\":\"x\",\"domain\":[0.0,1.0],\"title\":{\"text\":\"Medal\"}},\"legend\":{\"tracegroupgap\":0},\"margin\":{\"t\":60}},                        {\"responsive\": true}                    ).then(function(){\n",
       "                            \n",
       "var gd = document.getElementById('2cc5c281-de99-4ca4-ac62-2c730b19b815');\n",
       "var x = new MutationObserver(function (mutations, observer) {{\n",
       "        var display = window.getComputedStyle(gd).display;\n",
       "        if (!display || display === 'none') {{\n",
       "            console.log([gd, 'removed!']);\n",
       "            Plotly.purge(gd);\n",
       "            observer.disconnect();\n",
       "        }}\n",
       "}});\n",
       "\n",
       "// Listen for the removal of the full notebook cells\n",
       "var notebookContainer = gd.closest('#notebook-container');\n",
       "if (notebookContainer) {{\n",
       "    x.observe(notebookContainer, {childList: true});\n",
       "}}\n",
       "\n",
       "// Listen for the clearing of the current output cell\n",
       "var outputEl = gd.closest('.output');\n",
       "if (outputEl) {{\n",
       "    x.observe(outputEl, {childList: true});\n",
       "}}\n",
       "\n",
       "                        })                };                });            </script>        </div>"
      ]
     },
     "metadata": {},
     "output_type": "display_data"
    }
   ],
   "source": [
    "fig=px.line(final_df,x=\"Year\",y=\"Medal\")\n",
    "fig.show()"
   ]
  },
  {
   "cell_type": "code",
   "execution_count": 135,
   "id": "8ffcbf7b-e055-477c-8eb5-599e22f0acdd",
   "metadata": {},
   "outputs": [
    {
     "data": {
      "text/plain": [
       "<Axes: xlabel='Year', ylabel='Sport'>"
      ]
     },
     "execution_count": 135,
     "metadata": {},
     "output_type": "execute_result"
    },
    {
     "data": {
      "image/png": "[encoded data removed]",
      "text/plain": [
       "<Figure size 1500x1500 with 2 Axes>"
      ]
     },
     "metadata": {},
     "output_type": "display_data"
    }
   ],
   "source": [
    "plt.figure(figsize=(15,15))\n",
    "sns.heatmap(new_df.pivot_table(index='Sport',columns='Year',values='Medal',aggfunc='count').fillna(0),annot=True)"
   ]
  },
  {
   "cell_type": "code",
   "execution_count": 136,
   "id": "b4323905-61e4-45f5-9bc0-df1b07cc4df6",
   "metadata": {},
   "outputs": [],
   "source": [
    "import plotly.figure_factory as ff"
   ]
  },
  {
   "cell_type": "code",
   "execution_count": 138,
   "id": "58601b23-c7d6-4878-943e-dad264f17449",
   "metadata": {},
   "outputs": [],
   "source": [
    "athlete_df=df.drop_duplicates(subset=['Name','region'])"
   ]
  },
  {
   "cell_type": "code",
   "execution_count": 141,
   "id": "143f161c-a336-4d58-9004-4942f9de0f6b",
   "metadata": {},
   "outputs": [],
   "source": [
    "x1=athlete_df['Age'].dropna()\n",
    "x2=athlete_df[athlete_df['Medal']=='Gold']['Age'].dropna()\n",
    "x3=athlete_df[athlete_df['Medal']=='Silver']['Age'].dropna()\n",
    "x4=athlete_df[athlete_df['Medal']=='Bronze']['Age'].dropna()"
   ]
  },
  {
   "cell_type": "code",
   "execution_count": 143,
   "id": "df1b4320-3ebe-42ec-a9d8-471ee5464f62",
   "metadata": {},
   "outputs": [
    {
     "data": {
      "application/vnd.plotly.v1+json": {
       "config": {
        "plotlyServerURL": "https://plot.ly"
       },
       "data": [
        {
         "legendgroup": "AOverall Age",
         "marker": {
          "color": "rgb(31, 119, 180)"
         },
         "mode": "lines",
         "name": "AOverall Age",
         "showlegend": true,
         "type": "scatter",
         "x": [
          10,
          10.174,
          10.348,
          10.522,
          10.696,
          10.87,
          11.044,
          11.218,
          11.392,
          11.566,
          11.74,
          11.914,
          12.088000000000001,
          12.262,
          12.436,
          12.61,
          12.783999999999999,
          12.958,
          13.132,
          13.306000000000001,
          13.48,
          13.654,
          13.828,
          14.001999999999999,
          14.176,
          14.35,
          14.524000000000001,
          14.698,
          14.872,
          15.046,
          15.219999999999999,
          15.394,
          15.568,
          15.742,
          15.916,
          16.09,
          16.264,
          16.438,
          16.612000000000002,
          16.786,
          16.96,
          17.134,
          17.308,
          17.482,
          17.656,
          17.83,
          18.003999999999998,
          18.178,
          18.352,
          18.526,
          18.7,
          18.874000000000002,
          19.048000000000002,
          19.222,
          19.396,
          19.57,
          19.744,
          19.918,
          20.092,
          20.266,
          20.439999999999998,
          20.614,
          20.788,
          20.962,
          21.136,
          21.310000000000002,
          21.484,
          21.658,
          21.832,
          22.006,
          22.18,
          22.354,
          22.528,
          22.701999999999998,
          22.875999999999998,
          23.05,
          23.224,
          23.398,
          23.572,
          23.746000000000002,
          23.92,
          24.094,
          24.268,
          24.442,
          24.616,
          24.79,
          24.964,
          25.137999999999998,
          25.311999999999998,
          25.486,
          25.66,
          25.834,
          26.008,
          26.182,
          26.356,
          26.53,
          26.704,
          26.878,
          27.052,
          27.226,
          27.4,
          27.574,
          27.748,
          27.922,
          28.096,
          28.27,
          28.444,
          28.618,
          28.792,
          28.966,
          29.14,
          29.314,
          29.488,
          29.662,
          29.836,
          30.01,
          30.184,
          30.358,
          30.532,
          30.706,
          30.88,
          31.054,
          31.228,
          31.402,
          31.576,
          31.75,
          31.924,
          32.098,
          32.272,
          32.446,
          32.620000000000005,
          32.794,
          32.968,
          33.141999999999996,
          33.316,
          33.489999999999995,
          33.664,
          33.838,
          34.012,
          34.186,
          34.36,
          34.534,
          34.708,
          34.882000000000005,
          35.056,
          35.230000000000004,
          35.403999999999996,
          35.578,
          35.751999999999995,
          35.926,
          36.1,
          36.274,
          36.448,
          36.622,
          36.796,
          36.97,
          37.144,
          37.318,
          37.492000000000004,
          37.666,
          37.84,
          38.013999999999996,
          38.188,
          38.361999999999995,
          38.536,
          38.71,
          38.884,
          39.058,
          39.232,
          39.406,
          39.58,
          39.754000000000005,
          39.928,
          40.102000000000004,
          40.275999999999996,
          40.45,
          40.623999999999995,
          40.798,
          40.972,
          41.146,
          41.32,
          41.494,
          41.668,
          41.842,
          42.016,
          42.19,
          42.364,
          42.538,
          42.712,
          42.886,
          43.06,
          43.234,
          43.408,
          43.582,
          43.756,
          43.93,
          44.104,
          44.278,
          44.452,
          44.626,
          44.8,
          44.974,
          45.148,
          45.322,
          45.496,
          45.67,
          45.844,
          46.018,
          46.192,
          46.366,
          46.54,
          46.714,
          46.888,
          47.062,
          47.236,
          47.41,
          47.584,
          47.758,
          47.932,
          48.106,
          48.28,
          48.454,
          48.628,
          48.802,
          48.976,
          49.15,
          49.324,
          49.498,
          49.672,
          49.846,
          50.02,
          50.194,
          50.368,
          50.542,
          50.716,
          50.89,
          51.064,
          51.238,
          51.412,
          51.586,
          51.76,
          51.934,
          52.108,
          52.282,
          52.456,
          52.63,
          52.804,
          52.978,
          53.152,
          53.326,
          53.5,
          53.674,
          53.848,
          54.022,
          54.196,
          54.37,
          54.544,
          54.718,
          54.892,
          55.066,
          55.24,
          55.414,
          55.588,
          55.762,
          55.936,
          56.11,
          56.284,
          56.458,
          56.632,
          56.806,
          56.98,
          57.154,
          57.328,
          57.502,
          57.676,
          57.85,
          58.024,
          58.198,
          58.372,
          58.546,
          58.72,
          58.894,
          59.068,
          59.242,
          59.416,
          59.59,
          59.764,
          59.938,
          60.112,
          60.286,
          60.46,
          60.634,
          60.808,
          60.982,
          61.156,
          61.33,
          61.504,
          61.678,
          61.852,
          62.026,
          62.2,
          62.374,
          62.548,
          62.722,
          62.896,
          63.07,
          63.244,
          63.418,
          63.592,
          63.766,
          63.94,
          64.114,
          64.288,
          64.462,
          64.636,
          64.81,
          64.98400000000001,
          65.158,
          65.332,
          65.506,
          65.68,
          65.854,
          66.02799999999999,
          66.202,
          66.376,
          66.55,
          66.72399999999999,
          66.898,
          67.072,
          67.24600000000001,
          67.42,
          67.594,
          67.768,
          67.94200000000001,
          68.116,
          68.28999999999999,
          68.464,
          68.638,
          68.812,
          68.98599999999999,
          69.16,
          69.334,
          69.50800000000001,
          69.682,
          69.856,
          70.03,
          70.20400000000001,
          70.378,
          70.55199999999999,
          70.726,
          70.9,
          71.074,
          71.24799999999999,
          71.422,
          71.596,
          71.77000000000001,
          71.944,
          72.118,
          72.292,
          72.46600000000001,
          72.64,
          72.814,
          72.988,
          73.162,
          73.336,
          73.50999999999999,
          73.684,
          73.858,
          74.032,
          74.206,
          74.38,
          74.554,
          74.728,
          74.902,
          75.076,
          75.25,
          75.424,
          75.598,
          75.772,
          75.946,
          76.12,
          76.294,
          76.468,
          76.642,
          76.816,
          76.99,
          77.164,
          77.338,
          77.512,
          77.686,
          77.86,
          78.034,
          78.208,
          78.382,
          78.556,
          78.73,
          78.904,
          79.078,
          79.252,
          79.426,
          79.6,
          79.774,
          79.948,
          80.122,
          80.296,
          80.47,
          80.644,
          80.818,
          80.992,
          81.166,
          81.34,
          81.514,
          81.688,
          81.862,
          82.036,
          82.21,
          82.384,
          82.558,
          82.732,
          82.906,
          83.08,
          83.254,
          83.428,
          83.602,
          83.776,
          83.95,
          84.124,
          84.298,
          84.472,
          84.646,
          84.82,
          84.994,
          85.168,
          85.342,
          85.516,
          85.69,
          85.864,
          86.038,
          86.212,
          86.386,
          86.56,
          86.734,
          86.908,
          87.082,
          87.256,
          87.43,
          87.604,
          87.778,
          87.952,
          88.126,
          88.3,
          88.474,
          88.648,
          88.822,
          88.996,
          89.17,
          89.344,
          89.518,
          89.692,
          89.866,
          90.04,
          90.214,
          90.388,
          90.562,
          90.736,
          90.91,
          91.084,
          91.258,
          91.432,
          91.606,
          91.78,
          91.954,
          92.128,
          92.302,
          92.476,
          92.65,
          92.824,
          92.998,
          93.172,
          93.346,
          93.52,
          93.694,
          93.868,
          94.042,
          94.216,
          94.39,
          94.564,
          94.738,
          94.912,
          95.086,
          95.26,
          95.434,
          95.608,
          95.782,
          95.956,
          96.13,
          96.304,
          96.478,
          96.652,
          96.826
         ],
         "xaxis": "x",
         "y": [
          1.0695195716989117e-05,
          1.3464104361132526e-05,
          1.7046194382555044e-05,
          2.1899824190887452e-05,
          2.865922513609091e-05,
          3.818427880025049e-05,
          5.1543676301118566e-05,
          6.987699964819076e-05,
          9.423459723133053e-05,
          0.00012564322913068636,
          0.00016555176962339182,
          0.00021641132902107925,
          0.0002817816521824398,
          0.0003655785983572818,
          0.00047098612072901756,
          0.0006003436908005671,
          0.0007568090270171761,
          0.0009466577140528735,
          0.00117947872048005,
          0.0014646272966631392,
          0.0018061941370278894,
          0.0022018440467008295,
          0.002648702503520038,
          0.003152154259549166,
          0.0037278005669640186,
          0.004390764794288222,
          0.0051393325934540384,
          0.005949534915848407,
          0.00679087910112219,
          0.007652903614171944,
          0.008557100035417564,
          0.009538309980630441,
          0.01060978275613107,
          0.011747273701498686,
          0.012913379761745055,
          0.014102163207168292,
          0.015357648072144368,
          0.01674135703489714,
          0.018277896946654083,
          0.019937272617529155,
          0.021679260972163383,
          0.023516521130823316,
          0.02552337259459293,
          0.027768396541796872,
          0.030235633254609304,
          0.032825533478708355,
          0.03545068759647512,
          0.038133145619728664,
          0.0409906339297888,
          0.04410688822193895,
          0.047413918731563275,
          0.05072256864683754,
          0.0538921142416185,
          0.05697191405506583,
          0.060155487604027974,
          0.06357468368970523,
          0.06714166924658581,
          0.07061621013404423,
          0.07384415422971917,
          0.07691665671272777,
          0.08006197508916879,
          0.08336043762169881,
          0.08658032567559168,
          0.08933143552530312,
          0.0914069824050788,
          0.09297113190137199,
          0.09438899873192172,
          0.09586053611462707,
          0.0972301050102457,
          0.0981680515581808,
          0.09853320183153297,
          0.09853283085843231,
          0.09850817339289271,
          0.09857004232776534,
          0.09847088856285695,
          0.09785296856445488,
          0.09661717866671168,
          0.0950313440475289,
          0.09347105536328972,
          0.09206749576011479,
          0.09062380463546685,
          0.08887075479984072,
          0.0867790033750936,
          0.08460012309547024,
          0.08260702881785334,
          0.0808200142001673,
          0.07900646987596978,
          0.07694268706697519,
          0.07465271359761409,
          0.0723770040219579,
          0.07031777599146868,
          0.06843799309963712,
          0.06651983368727078,
          0.06440689243167846,
          0.06216775583818056,
          0.060016045106067534,
          0.05808511496162052,
          0.056300212174632214,
          0.05447384185784765,
          0.05250987208369408,
          0.05049655385243626,
          0.04859900152043319,
          0.04687657915193591,
          0.04522096584433536,
          0.043473050325543196,
          0.0415880842317232,
          0.03967748895682199,
          0.03789397603285487,
          0.03628831306164639,
          0.03478325534765563,
          0.03327732036153511,
          0.03175756916158278,
          0.03030366678281365,
          0.028989774763053942,
          0.027797108980864835,
          0.026629804934531404,
          0.025411786851551845,
          0.02415967565928165,
          0.022959203268434907,
          0.021876951025986184,
          0.020901886020492217,
          0.01997151590124801,
          0.019045698797472584,
          0.018146465965930825,
          0.017326110907046707,
          0.01660445121148066,
          0.01594479849566012,
          0.015291586006591305,
          0.01462596927825273,
          0.013980218485376271,
          0.01339922295439107,
          0.012893190557470673,
          0.012430860836624926,
          0.011975981361826229,
          0.011524307333093526,
          0.011101519811735665,
          0.010727172863303666,
          0.010385955883854686,
          0.010037638342779343,
          0.009654472944946157,
          0.009246350558822095,
          0.008848556683238643,
          0.008486695217491284,
          0.00815541599639031,
          0.007830533923532253,
          0.007498516640503182,
          0.007171251701719055,
          0.006872334079681399,
          0.006611932474547974,
          0.006377615707746398,
          0.006149405667997146,
          0.005921193817922341,
          0.005705421203163757,
          0.00551741221710314,
          0.005357580497788336,
          0.005210703908380409,
          0.005062016491400437,
          0.004911937655287956,
          0.0047737666799822,
          0.004657724645816486,
          0.004559131071737898,
          0.004463188714034259,
          0.00436049324945169,
          0.004256177801808515,
          0.004163147209742433,
          0.004087262479235668,
          0.0040206128680620856,
          0.003949707248334141,
          0.0038691542178501933,
          0.0037858143713137143,
          0.003709111201224959,
          0.0036382534259292785,
          0.00356038292060917,
          0.003461988134260601,
          0.0033420399860769876,
          0.0032137793269373894,
          0.003093965157199853,
          0.002990768594343878,
          0.0029016821067698114,
          0.002821529993390495,
          0.0027504581237439577,
          0.002693157952901574,
          0.00265114417292466,
          0.0026177048317818615,
          0.002581904002469378,
          0.00253775654231207,
          0.002488836798597667,
          0.0024434072200045136,
          0.0024052408377906293,
          0.0023697309983158827,
          0.002329044697205701,
          0.0022804474053208018,
          0.002228813679170873,
          0.002180823418949833,
          0.0021372571521717626,
          0.002091654368855859,
          0.0020366807144833227,
          0.0019714448879785927,
          0.0019022402033994443,
          0.0018362470866839795,
          0.0017749331099166715,
          0.0017137887338982344,
          0.001648172908188122,
          0.0015788933088418575,
          0.0015119508816592473,
          0.0014532674802532131,
          0.001404175079263524,
          0.001362005089719793,
          0.0013243512461259322,
          0.001291900392300899,
          0.0012668361472673556,
          0.0012490131955336273,
          0.0012345572047343073,
          0.0012187291349552046,
          0.0012000884712735286,
          0.0011815093216633414,
          0.0011669842706804013,
          0.0011576250784726724,
          0.0011509789146196916,
          0.0011440430316933111,
          0.0011363183439285652,
          0.0011292956378689241,
          0.0011228299412019888,
          0.0011125016993597052,
          0.0010913213372081181,
          0.001054735780854626,
          0.0010044349574127565,
          0.0009474936206421702,
          0.0008917732013556353,
          0.000841762336176954,
          0.0007980757554627734,
          0.0007600086905661102,
          0.0007279085539109339,
          0.0007030887572937088,
          0.0006860681754086718,
          0.0006756139955742714,
          0.0006697742824908813,
          0.0006675571977061753,
          0.0006691072427218083,
          0.0006740171379128624,
          0.0006797157732644337,
          0.000682036007116823,
          0.00067781339174628,
          0.0006671047210008803,
          0.0006528163135212798,
          0.0006380523036977384,
          0.0006237182719868448,
          0.0006085495971953017,
          0.0005912159820667173,
          0.0005721357209873067,
          0.0005531466434423352,
          0.0005355514898109151,
          0.0005187324843417986,
          0.0005008274344833841,
          0.00048075265669410245,
          0.0004595163407411283,
          0.0004396031689793059,
          0.0004231992822501004,
          0.0004110345215328418,
          0.0004027097819324983,
          0.00039769552257260427,
          0.0003955989367011835,
          0.0003953599630184762,
          0.00039447983533969253,
          0.00038956631028884664,
          0.0003781684515632473,
          0.0003604662628884201,
          0.0003393676521357131,
          0.00031895736284160277,
          0.000302612115797675,
          0.00029212236185413256,
          0.0002879772312106567,
          0.000289913102393014,
          0.00029695039585909966,
          0.0003071302870067644,
          0.00031776991789827033,
          0.00032653644279701086,
          0.00033258096869671265,
          0.0003366299250390106,
          0.00033981537830026534,
          0.00034228174662751047,
          0.0003428916309577468,
          0.0003402947581935946,
          0.00033426846209234933,
          0.0003259787707866772,
          0.0003169180249618956,
          0.00030760544669726774,
          0.00029733706717169773,
          0.0002851799988138591,
          0.0002711804062739703,
          0.00025662489837799374,
          0.00024320601274091104,
          0.00023198886836756582,
          0.00022311701720921184,
          0.00021630966213754413,
          0.00021140489988404984,
          0.00020831090107877989,
          0.0002065230426731948,
          0.0002049156081943949,
          0.00020221766259029739,
          0.0001977908548008599,
          0.0001919311058208392,
          0.0001853598839958789,
          0.00017838846512452987,
          0.00017057400885279228,
          0.00016120249535741556,
          0.00015014027333854916,
          0.00013828402547031373,
          0.0001272635502464241,
          0.00011872448479782193,
          0.00011377155746420847,
          0.00011282900252221926,
          0.00011571756463958038,
          0.00012166416419998955,
          0.00012927141194883692,
          0.00013673647855250382,
          0.000142448783974426,
          0.0001456513608154919,
          0.0001466326117961367,
          0.0001462366436741356,
          0.00014507755299703718,
          0.00014311963713478296,
          0.00013993892016486448,
          0.00013533980341087117,
          0.00012969661498081578,
          0.00012370913307950825,
          0.00011785722235055657,
          0.00011210802997420044,
          0.00010613125231264925,
          9.975759735238983e-05,
          9.320837302746672e-05,
          8.690317929959586e-05,
          8.108941027061674e-05,
          7.568213903265053e-05,
          7.044832964015904e-05,
          6.531701189234897e-05,
          6.0506526077231236e-05,
          5.638203347874152e-05,
          5.322451067902184e-05,
          5.113462885030344e-05,
          5.010998442962145e-05,
          5.015332861161005e-05,
          5.128236649760989e-05,
          5.3468687216641405e-05,
          5.6626223652122887e-05,
          6.068237277558549e-05,
          6.561017168956804e-05,
          7.128906399765134e-05,
          7.725105954127874e-05,
          8.25678737469404e-05,
          8.609606213387293e-05,
          8.70005541373834e-05,
          8.518877967895688e-05,
          8.130721247716894e-05,
          7.629491182981569e-05,
          7.084798964987256e-05,
          6.519412974350563e-05,
          5.927953779792144e-05,
          5.312374301840541e-05,
          4.701128257662907e-05,
          4.139816610949196e-05,
          3.6677094210583204e-05,
          3.302237340006578e-05,
          3.0400283521363183e-05,
          2.866169309531318e-05,
          2.759917535818472e-05,
          2.6947450296204683e-05,
          2.6397580315422843e-05,
          2.5678188810715147e-05,
          2.4663736970097047e-05,
          2.341610187727989e-05,
          2.211518695751704e-05,
          2.093375113496334e-05,
          1.995573507182e-05,
          1.9184069510183777e-05,
          1.8594638194459615e-05,
          1.816116975796364e-05,
          1.7827292422214217e-05,
          1.747354748587488e-05,
          1.6939302105332837e-05,
          1.6101065343982785e-05,
          1.4944329595834579e-05,
          1.3564308346667573e-05,
          1.2093344128608143e-05,
          1.0616506914271506e-05,
          9.142075989616051e-06,
          7.640864348769456e-06,
          6.111061146684313e-06,
          4.612733381196525e-06,
          3.250196603641832e-06,
          2.1237486682600845e-06,
          1.2891798910037105e-06,
          7.48991650899714e-07,
          4.733633385117181e-07,
          4.3238447152619606e-07,
          6.197568864898851e-07,
          1.0558740914567105e-06,
          1.7680014947310116e-06,
          2.755336025059579e-06,
          3.956507956590915e-06,
          5.2416654367436455e-06,
          6.442669929723864e-06,
          7.411865392741831e-06,
          8.075784092014037e-06,
          8.446638068716309e-06,
          8.581211361086107e-06,
          8.516852788622255e-06,
          8.23419577834912e-06,
          7.676256007556399e-06,
          6.808657415065455e-06,
          5.673710894743689e-06,
          4.397839131982345e-06,
          3.148679809442655e-06,
          2.072666930366695e-06,
          1.2507732368158747e-06,
          6.90715655326104e-07,
          3.4867597063617163e-07,
          1.6079229197288478e-07,
          6.771129263552512e-08,
          2.603214407941965e-08,
          9.135926400509784e-09,
          2.9265370844500496e-09,
          8.556448087487769e-10,
          2.28327797226409e-10,
          5.5608689976481506e-11,
          1.2360739759207125e-11,
          2.508442308439314e-12,
          4.707708219913096e-13,
          1.2186611767634715e-13,
          2.766944720448481e-13,
          1.473454055497709e-12,
          7.47147821682751e-12,
          3.461477984233387e-11,
          1.4636481823770925e-10,
          5.648330914583234e-10,
          1.9893517485824475e-09,
          6.394565389650929e-09,
          1.8759380421419744e-08,
          5.0226620011508056e-08,
          1.2273188975849803e-07,
          2.7370888421706025e-07,
          5.570938604140772e-07,
          1.0348463096677717e-06,
          1.7544110068867865e-06,
          2.7145311927297833e-06,
          3.833242853664008e-06,
          4.9402148626781884e-06,
          5.810765457860634e-06,
          6.23776284981575e-06,
          6.111282753667524e-06,
          5.464417849873816e-06,
          4.459266518836325e-06,
          3.3211689064019075e-06,
          2.257493465366008e-06,
          1.4004578603342068e-06,
          7.92905799008656e-07,
          4.0971432425069147e-07,
          1.9321850014367962e-07,
          8.316187458579355e-08,
          3.266689369365894e-08,
          1.1711146481713282e-08,
          3.831766110561518e-09,
          1.1442122052366369e-09,
          3.1183306620279754e-10,
          7.756142135518814e-11,
          1.7606675429233963e-11,
          3.6476819368060116e-12,
          6.897069128048954e-13,
          1.1902019712692842e-13,
          1.8746311515223602e-14,
          2.7076353918980613e-15,
          4.698376994282082e-16,
          9.734103624157575e-16,
          6.803050078567977e-15,
          4.5304015121394905e-14,
          2.7552745969375407e-13,
          1.529348551814882e-12,
          7.747435908801181e-12,
          3.58195938395566e-11,
          1.5114599396209144e-10,
          5.820892979930039e-10,
          2.046000728203294e-09,
          6.563804528091267e-09,
          1.922015605040972e-08,
          5.137354651099578e-08,
          1.2535859904758867e-07,
          2.7930966939275853e-07,
          5.684322998831287e-07,
          1.0572404170980172e-06,
          1.7987646663054218e-06,
          2.803815717709252e-06,
          4.0141536610082255e-06,
          5.299817142615363e-06,
          6.493159717647264e-06,
          7.449273844885438e-06,
          8.098895809425095e-06,
          8.457555712723582e-06,
          8.582535341631593e-06,
          8.509013693506824e-06,
          8.21503283234191e-06
         ],
         "yaxis": "y"
        },
        {
         "legendgroup": "Gold Medalist",
         "marker": {
          "color": "rgb(255, 127, 14)"
         },
         "mode": "lines",
         "name": "Gold Medalist",
         "showlegend": true,
         "type": "scatter",
         "x": [
          13,
          13.102,
          13.204,
          13.306,
          13.408,
          13.51,
          13.612,
          13.714,
          13.816,
          13.918,
          14.02,
          14.122,
          14.224,
          14.326,
          14.428,
          14.53,
          14.632,
          14.734,
          14.836,
          14.938,
          15.04,
          15.142,
          15.244,
          15.346,
          15.448,
          15.55,
          15.652000000000001,
          15.754,
          15.856,
          15.958,
          16.06,
          16.162,
          16.264,
          16.366,
          16.468,
          16.57,
          16.672,
          16.774,
          16.876,
          16.978,
          17.08,
          17.182000000000002,
          17.284,
          17.386,
          17.488,
          17.59,
          17.692,
          17.794,
          17.896,
          17.998,
          18.1,
          18.201999999999998,
          18.304000000000002,
          18.406,
          18.508,
          18.61,
          18.712,
          18.814,
          18.916,
          19.018,
          19.12,
          19.222,
          19.323999999999998,
          19.426000000000002,
          19.528,
          19.63,
          19.732,
          19.834,
          19.936,
          20.038,
          20.14,
          20.242,
          20.344,
          20.445999999999998,
          20.548000000000002,
          20.65,
          20.752,
          20.854,
          20.956,
          21.058,
          21.16,
          21.262,
          21.364,
          21.466,
          21.567999999999998,
          21.67,
          21.772,
          21.874000000000002,
          21.976,
          22.078,
          22.18,
          22.282,
          22.384,
          22.486,
          22.588,
          22.689999999999998,
          22.792,
          22.894,
          22.996000000000002,
          23.098,
          23.2,
          23.302,
          23.404,
          23.506,
          23.608,
          23.71,
          23.811999999999998,
          23.914,
          24.016,
          24.118000000000002,
          24.22,
          24.322,
          24.424,
          24.526,
          24.628,
          24.73,
          24.832,
          24.933999999999997,
          25.036,
          25.137999999999998,
          25.240000000000002,
          25.342,
          25.444000000000003,
          25.546,
          25.648,
          25.75,
          25.852,
          25.954,
          26.055999999999997,
          26.158,
          26.259999999999998,
          26.362000000000002,
          26.464,
          26.566000000000003,
          26.668,
          26.77,
          26.872,
          26.974,
          27.076,
          27.178,
          27.28,
          27.381999999999998,
          27.484,
          27.586,
          27.688000000000002,
          27.79,
          27.892,
          27.994,
          28.096,
          28.198,
          28.3,
          28.402,
          28.503999999999998,
          28.606,
          28.708,
          28.810000000000002,
          28.912,
          29.014,
          29.116,
          29.218,
          29.32,
          29.422,
          29.524,
          29.626,
          29.728,
          29.83,
          29.932,
          30.034,
          30.136,
          30.238,
          30.34,
          30.442,
          30.544,
          30.646,
          30.748,
          30.85,
          30.952,
          31.054,
          31.156,
          31.258,
          31.36,
          31.462,
          31.564,
          31.666,
          31.768,
          31.87,
          31.972,
          32.074,
          32.176,
          32.278,
          32.379999999999995,
          32.482,
          32.584,
          32.686,
          32.788,
          32.89,
          32.992000000000004,
          33.094,
          33.196,
          33.298,
          33.4,
          33.501999999999995,
          33.604,
          33.706,
          33.808,
          33.91,
          34.012,
          34.114000000000004,
          34.216,
          34.318,
          34.42,
          34.522,
          34.623999999999995,
          34.726,
          34.828,
          34.93,
          35.032,
          35.134,
          35.236000000000004,
          35.338,
          35.44,
          35.542,
          35.644,
          35.745999999999995,
          35.848,
          35.95,
          36.052,
          36.153999999999996,
          36.256,
          36.358000000000004,
          36.46,
          36.562,
          36.664,
          36.766,
          36.867999999999995,
          36.97,
          37.072,
          37.174,
          37.275999999999996,
          37.378,
          37.480000000000004,
          37.582,
          37.684,
          37.786,
          37.888000000000005,
          37.989999999999995,
          38.092,
          38.194,
          38.296,
          38.397999999999996,
          38.5,
          38.602000000000004,
          38.704,
          38.806,
          38.908,
          39.010000000000005,
          39.111999999999995,
          39.214,
          39.316,
          39.418,
          39.519999999999996,
          39.622,
          39.724000000000004,
          39.826,
          39.928,
          40.03,
          40.132000000000005,
          40.234,
          40.336,
          40.438,
          40.54,
          40.641999999999996,
          40.744,
          40.846000000000004,
          40.948,
          41.05,
          41.152,
          41.254000000000005,
          41.356,
          41.458,
          41.56,
          41.662,
          41.763999999999996,
          41.866,
          41.968,
          42.07,
          42.172,
          42.274,
          42.376000000000005,
          42.478,
          42.58,
          42.682,
          42.784,
          42.885999999999996,
          42.988,
          43.09,
          43.192,
          43.294,
          43.396,
          43.498000000000005,
          43.6,
          43.702,
          43.804,
          43.906,
          44.007999999999996,
          44.11,
          44.212,
          44.314,
          44.416,
          44.518,
          44.620000000000005,
          44.722,
          44.824,
          44.926,
          45.028,
          45.13,
          45.232,
          45.334,
          45.436,
          45.538,
          45.64,
          45.742,
          45.844,
          45.946,
          46.048,
          46.15,
          46.252,
          46.354,
          46.456,
          46.558,
          46.66,
          46.762,
          46.864,
          46.966,
          47.068,
          47.17,
          47.272,
          47.374,
          47.476,
          47.578,
          47.68,
          47.782,
          47.884,
          47.986,
          48.088,
          48.19,
          48.292,
          48.394,
          48.496,
          48.598,
          48.7,
          48.802,
          48.904,
          49.006,
          49.108,
          49.21,
          49.312,
          49.414,
          49.516,
          49.618,
          49.72,
          49.822,
          49.924,
          50.026,
          50.128,
          50.23,
          50.332,
          50.434,
          50.536,
          50.638,
          50.74,
          50.842,
          50.944,
          51.046,
          51.148,
          51.25,
          51.352,
          51.454,
          51.556,
          51.658,
          51.76,
          51.862,
          51.964,
          52.066,
          52.168,
          52.27,
          52.372,
          52.474,
          52.576,
          52.678,
          52.78,
          52.882,
          52.984,
          53.086,
          53.188,
          53.29,
          53.392,
          53.494,
          53.596,
          53.698,
          53.8,
          53.902,
          54.004,
          54.106,
          54.208,
          54.31,
          54.412,
          54.514,
          54.616,
          54.718,
          54.82,
          54.922,
          55.024,
          55.126,
          55.228,
          55.33,
          55.432,
          55.534,
          55.636,
          55.738,
          55.84,
          55.942,
          56.044,
          56.146,
          56.248,
          56.35,
          56.452,
          56.554,
          56.656,
          56.758,
          56.86,
          56.962,
          57.064,
          57.166,
          57.268,
          57.37,
          57.472,
          57.574,
          57.676,
          57.778,
          57.88,
          57.982,
          58.084,
          58.186,
          58.288,
          58.39,
          58.492,
          58.594,
          58.696,
          58.798,
          58.9,
          59.002,
          59.104,
          59.206,
          59.308,
          59.41,
          59.512,
          59.614,
          59.716,
          59.818,
          59.92,
          60.022,
          60.124,
          60.226,
          60.328,
          60.43,
          60.532,
          60.634,
          60.736,
          60.838,
          60.94,
          61.042,
          61.144,
          61.246,
          61.348,
          61.45,
          61.552,
          61.654,
          61.756,
          61.858,
          61.96,
          62.062,
          62.164,
          62.266,
          62.368,
          62.47,
          62.572,
          62.674,
          62.776,
          62.878,
          62.98,
          63.082,
          63.184,
          63.286,
          63.388,
          63.49,
          63.592,
          63.694,
          63.796,
          63.898
         ],
         "xaxis": "x",
         "y": [
          0.000989956930724904,
          0.0010840058412850625,
          0.0011849939136809966,
          0.001293834274288257,
          0.0014115053877012376,
          0.0015390086130240154,
          0.001677321722894873,
          0.0018273523845645633,
          0.0019898959068589237,
          0.002165601446944246,
          0.002354950327582801,
          0.002558249166824822,
          0.0027756392428900513,
          0.0030071220243901575,
          0.003252599238240301,
          0.0035119243884128193,
          0.0037849614389396063,
          0.004071645573024767,
          0.004372040636233515,
          0.004686388112854645,
          0.005015143259463706,
          0.005358995259121727,
          0.005718869843449954,
          0.006095914600222965,
          0.0064914689621719274,
          0.006907022476683592,
          0.007344166219206515,
          0.007804542999465204,
          0.008289802226607787,
          0.008801564907382346,
          0.009341403268434677,
          0.00991083799627678,
          0.010511354207143001,
          0.011144435169527393,
          0.011811610710539471,
          0.01251451536037981,
          0.013254949832961426,
          0.014034938576563395,
          0.01485677597316936,
          0.01572305436533093,
          0.01663666841368861,
          0.017600792228439157,
          0.0186188280988811,
          0.019694328241168485,
          0.020830893541822815,
          0.02203205553542105,
          0.023301149581778913,
          0.024641188207459648,
          0.026054743719599403,
          0.02754384843942184,
          0.029109919283757776,
          0.030753711085784518,
          0.03247530022025379,
          0.03427409708037327,
          0.03614888307711368,
          0.0380978654255809,
          0.04011874132721194,
          0.042208762441028905,
          0.04436479083570122,
          0.04658333887439138,
          0.048860587540577496,
          0.05119238031700161,
          0.05357419259175638,
          0.056001079396952515,
          0.05846760683369776,
          0.060967774602649086,
          0.06349493850094672,
          0.06604174247033866,
          0.06860006973250475,
          0.07116102170327294,
          0.0737149317532252,
          0.07625141854958364,
          0.07875948082027484,
          0.08122763216140523,
          0.08364407128100634,
          0.0859968802001918,
          0.08827424077467899,
          0.09046465873043641,
          0.09255718435878844,
          0.09454162003247786,
          0.09640870654525192,
          0.09815028256419826,
          0.09975941378264644,
          0.10123049028439844,
          0.10255929192665537,
          0.10374302216020356,
          0.10478031076836121,
          0.10567118580413783,
          0.10641701487913491,
          0.10702041620614583,
          0.1074851405901435,
          0.10781592689182964,
          0.10801833517858145,
          0.10809856353316334,
          0.10806325597587006,
          0.10791930988339385,
          0.10767369148007097,
          0.10733326739750357,
          0.10690465904067725,
          0.10639412474557494,
          0.10580747268477805,
          0.10515000538258991,
          0.10442649470771949,
          0.10364118444189384,
          0.10279781606405466,
          0.10189967231375958,
          0.10094963247068102,
          0.09995023316940445,
          0.09890372899699248,
          0.09781214808284446,
          0.09667733930628121,
          0.09550100946250385,
          0.09428475053056218,
          0.09303005884013646,
          0.09173834922161912,
          0.0904109679895971,
          0.08904920878329377,
          0.08765433488617527,
          0.08622761075963589,
          0.08477034427941442,
          0.08328393969443483,
          0.08176995975879668,
          0.0802301939255097,
          0.07866672803570339,
          0.07708200970210011,
          0.07547890270770265,
          0.07386072337966623,
          0.07223125221358992,
          0.07059471513619377,
          0.06895573074158676,
          0.06731922253509692,
          0.06569029845028425,
          0.06407410332977,
          0.06247565326211518,
          0.06089966321639488,
          0.05935038094273295,
          0.057831440361346055,
          0.05634574655523035,
          0.05489540209540846,
          0.05348168100045363,
          0.052105052519912515,
          0.05076525255800627,
          0.04946139636126401,
          0.0481921224940721,
          0.04695575546642735,
          0.045750472912235864,
          0.04457446308460244,
          0.04342605965213136,
          0.04230384323359298,
          0.041206702560621214,
          0.04013385226752237,
          0.039084808659028185,
          0.038059328955617706,
          0.03705732303659705,
          0.036078749237485774,
          0.035123507065253225,
          0.03419133966439505,
          0.03328175753514666,
          0.03239399254246245,
          0.03152698793835191,
          0.030679426301078613,
          0.029849793356181875,
          0.029036471967198833,
          0.02823785751286638,
          0.027452483684347734,
          0.026679146637273995,
          0.025917015514022857,
          0.025165718594942016,
          0.02442539661155297,
          0.023696717823922776,
          0.022980853007010704,
          0.02227941213524538,
          0.021594347920882283,
          0.020927834108378948,
          0.020282128294137416,
          0.019659429881359117,
          0.019061743574832982,
          0.018490757675500905,
          0.017947744556530705,
          0.017433488364283867,
          0.01694824248528805,
          0.016491716931952095,
          0.01606309375052758,
          0.01566106699426891,
          0.01528390279801744,
          0.014929514622233186,
          0.014595548723766276,
          0.014279475233235634,
          0.013978680732420538,
          0.013690558794847511,
          0.01341259547276486,
          0.013142447121574419,
          0.012878008236478111,
          0.01261746717076959,
          0.012359347781795848,
          0.012102535297394728,
          0.011846285096207077,
          0.011590213707305914,
          0.011334272173369318,
          0.011078702951610819,
          0.010823982663613375,
          0.010570754127453813,
          0.010319752073283011,
          0.010071727621766318,
          0.009827376885178893,
          0.009587278869587048,
          0.00935184720392542,
          0.009121299144458844,
          0.008895643897243672,
          0.008674690700014597,
          0.00845807546241882,
          0.008245303236924245,
          0.008035802525711596,
          0.00782898653710194,
          0.0076243160650066805,
          0.00742135870654857,
          0.007219839637321972,
          0.007019680064853106,
          0.006821020673483232,
          0.006624228725809752,
          0.006429888853614871,
          0.00623877881824121,
          0.006051832533951837,
          0.005870093352872197,
          0.005694660977224118,
          0.005526635410582282,
          0.0053670611411966536,
          0.005216874350108991,
          0.00507685544794913,
          0.0049475887528089854,
          0.0048294306914237655,
          0.004722487569362869,
          0.004626603710661597,
          0.004541360579961311,
          0.004466087316029612,
          0.004399882862055384,
          0.0043416495202747655,
          0.004290137252679586,
          0.004243997394220086,
          0.004201843675809752,
          0.004162317643612901,
          0.0041241548092738394,
          0.004086247289131445,
          0.004047698403547626,
          0.004007864804399669,
          0.003966382236064341,
          0.0039231720186701366,
          0.003878426720605045,
          0.003832575153053954,
          0.003786228619366502,
          0.003740112103593745,
          0.0036949855951089027,
          0.0036515618451895653,
          0.0036104274001630683,
          0.0035719736734226657,
          0.00353634409149115,
          0.003503402033531165,
          0.0034727225001954538,
          0.003443608369288517,
          0.003415129928249477,
          0.0033861843333181122,
          0.003355569935392647,
          0.0033220692002097845,
          0.0032845333484759235,
          0.0032419618962089515,
          0.0031935709618053478,
          0.0031388454317665057,
          0.0030775716937194806,
          0.0030098494688353323,
          0.00293608310800593,
          0.0028569543701346717,
          0.002773380022656188,
          0.0026864584898628426,
          0.0025974101787990538,
          0.0025075160500037394,
          0.002418058537711554,
          0.0023302681653558596,
          0.002245278271032284,
          0.002164089278577106,
          0.0020875430322262077,
          0.002016306938329089,
          0.0019508670748961353,
          0.0018915290540404577,
          0.0018384252402117215,
          0.0017915269046399527,
          0.00175065998889109,
          0.0017155233114973046,
          0.001685708240570694,
          0.0016607190417771698,
          0.0016399932767107563,
          0.0016229217643445985,
          0.00160886772890601,
          0.001597184846823487,
          0.0015872339797441076,
          0.0015783984444315811,
          0.001570097724602812,
          0.0015617995721097359,
          0.0015530304711513304,
          0.0015433844456699973,
          0.0015325301758001108,
          0.0015202163577557252,
          0.0015062752014494234,
          0.0014906239240879897,
          0.0014732640804773118,
          0.0014542785849996649,
          0.0014338263349350934,
          0.001412134441712105,
          0.0013894882093134539,
          0.0013662191532183255,
          0.0013426915090954498,
          0.0013192878158316936,
          0.0012963942517993515,
          0.0012743864410876974,
          0.0012536164200819809,
          0.0012344013655657086,
          0.001217014543332978,
          0.0012016787577981932,
          0.0011885623889695187,
          0.0011777779149370405,
          0.0011693826550605501,
          0.0011633813461025388,
          0.0011597300893894046,
          0.0011583411839945182,
          0.001159088385280798,
          0.0011618121915950802,
          0.0011663248531505956,
          0.0011724149036456218,
          0.0011798511248385648,
          0.001188385956648347,
          0.0011977584521943357,
          0.001207696942812016,
          0.0012179216189591737,
          0.0012281472472770992,
          0.0012380862314015023,
          0.0012474521850307078,
          0.0012559641220869888,
          0.0012633512840638673,
          0.0012693585246058522,
          0.0012737520644625097,
          0.0012763253272756773,
          0.0012769044811849197,
          0.0012753532564001423,
          0.001271576596514781,
          0.0012655227393798094,
          0.0012571834139497079,
          0.001246591977720829,
          0.0012338194931584496,
          0.0012189689328497872,
          0.0012021678903506427,
          0.0011835603344406247,
          0.0011632980588267656,
          0.0011415325324548595,
          0.0011184078397484213,
          0.0010940553153607068,
          0.0010685903319812339,
          0.0010421115063100677,
          0.0010147023660083644,
          0.000986435290330811,
          0.000957377320882613,
          0.0009275972568535033,
          0.0008971733185265454,
          0.000866200596772022,
          0.000834797511884978,
          0.0008031105831888945,
          0.0007713169549394595,
          0.0007396243209871913,
          0.0007082681212867005,
          0.0006775061245182173,
          0.0006476107381756565,
          0.0006188595773395047,
          0.000591524957336193,
          0.0005658630418810741,
          0.0005421033738587766,
          0.0005204394460800923,
          0.0005010208472838522,
          0.00048394736287515384,
          0.00046926524140912437,
          0.0004569656768781297,
          0.0004469854200053248,
          0.0004392093297740302,
          0.00043347461333719634,
          0.00042957647569792244,
          0.0004272749023254429,
          0.000426302317220376,
          0.00042637188423346416,
          0.0004271862406990159,
          0.00042844646315110294,
          0.00042986106293023255,
          0.00043115479709585037,
          0.0004320770628508868,
          0.000432409629004469,
          0.00043197345297972105,
          0.00043063434163237137,
          0.00042830724053315443,
          0.00042495897754832556,
          0.000420609337521466,
          0.00041533039876798234,
          0.00040924411209187887,
          0.00040251814418484287,
          0.00039536003805944533,
          0.00038800976623173613,
          0.000380730774156324,
          0.00037379964083905236,
          0.00036749452978950095,
          0.0003620826733968567,
          0.0003578072295301185,
          0.00035487396627526555,
          0.00035343835768550077,
          0.0003535937923135288,
          0.000355361684963967,
          0.0003586843174504182,
          0.0003634211960580159,
          0.0003693495887382438,
          0.0003761696908734865,
          0.0003835145740468122,
          0.00039096471940954186,
          0.00039806655848291853,
          0.00040435407928512913,
          0.0004093722464769754,
          0.0004127007691932374,
          0.0004139766586873037,
          0.00041291406549484263,
          0.000409320071701578,
          0.0004031054203906378,
          0.0003942895589558905,
          0.00038299981272206583,
          0.0003694649426571791,
          0.0003540037303402634,
          0.0003370095373689796,
          0.00031893198061200376,
          0.00030025694025563794,
          0.00028148608126734545,
          0.0002631169408574851,
          0.00024562444401321634,
          0.00022944448918248248,
          0.00021496002792169815,
          0.00020248987060158844,
          0.00019228030042669494,
          0.0001844994748458456,
          0.0001792345320748197,
          0.00017649128905668752,
          0.00017619640048283265,
          0.00017820183167401325,
          0.00018229147014098656,
          0.00018818965643545733,
          0.00019557135604626364,
          0.0002040736280013993,
          0.00021330798366763374,
          0.0002228731831128766,
          0.00023236799648416423,
          0.00024140347001666565,
          0.00024961428073139315,
          0.0002566688350847975,
          0.00026227785475812056,
          0.0002662012850063067,
          0.0002682534453817796,
          0.00026830640985548104,
          0.0002662916486758752,
          0.0002621999884826953,
          0.000256079955988494,
          0.0002480345731870311,
          0.00023821667892485928,
          0.00022682287174907647,
          0.00021408620752132507,
          0.00020026784254597216,
          0.0001856478836129814,
          0.00017051578047676163,
          0.00015516066113190145,
          0.0001398620526549804,
          0.00012488143933968396,
          0.00011045507861722011,
          9.678842271346435e-05,
          8.405238501624741e-05,
          7.238155487972283e-05,
          6.187431702759082e-05,
          5.2594687516070176e-05,
          4.457555260939781e-05,
          3.78229027170348e-05,
          3.232059967844518e-05,
          2.8035206419413113e-05,
          2.492044280533196e-05,
          2.2920905500362253e-05,
          2.197479444751991e-05,
          2.201551345747176e-05,
          2.2972145306841832e-05,
          2.476893045381462e-05,
          2.7323991429771853e-05,
          3.0547632082586715e-05,
          3.4340594183626075e-05,
          3.859266821973491e-05,
          4.318202840500502e-05,
          4.7975595526982085e-05,
          5.283063033590718e-05,
          5.759763349347639e-05,
          6.212448736830301e-05,
          6.626163408275804e-05,
          6.98679579001443e-05,
          7.281694227173468e-05,
          7.500261420516638e-05,
          7.634477868446484e-05
         ],
         "yaxis": "y"
        },
        {
         "legendgroup": "Silver Medalist",
         "marker": {
          "color": "rgb(44, 160, 44)"
         },
         "mode": "lines",
         "name": "Silver Medalist",
         "showlegend": true,
         "type": "scatter",
         "x": [
          11,
          11.124,
          11.248,
          11.372,
          11.496,
          11.62,
          11.744,
          11.868,
          11.992,
          12.116,
          12.24,
          12.364,
          12.488,
          12.612,
          12.736,
          12.86,
          12.984,
          13.108,
          13.232,
          13.356,
          13.48,
          13.604,
          13.728,
          13.852,
          13.975999999999999,
          14.1,
          14.224,
          14.347999999999999,
          14.472,
          14.596,
          14.72,
          14.844,
          14.968,
          15.091999999999999,
          15.216000000000001,
          15.34,
          15.464,
          15.588000000000001,
          15.712,
          15.836,
          15.96,
          16.084,
          16.208,
          16.332,
          16.456,
          16.58,
          16.704,
          16.828,
          16.951999999999998,
          17.076,
          17.2,
          17.323999999999998,
          17.448,
          17.572,
          17.695999999999998,
          17.82,
          17.944,
          18.067999999999998,
          18.192,
          18.316,
          18.44,
          18.564,
          18.688,
          18.812,
          18.936,
          19.060000000000002,
          19.183999999999997,
          19.308,
          19.432000000000002,
          19.555999999999997,
          19.68,
          19.804000000000002,
          19.928,
          20.052,
          20.176000000000002,
          20.3,
          20.424,
          20.548000000000002,
          20.672,
          20.796,
          20.92,
          21.044,
          21.168,
          21.292,
          21.416,
          21.54,
          21.664,
          21.788,
          21.912,
          22.036,
          22.16,
          22.284,
          22.408,
          22.532,
          22.656,
          22.78,
          22.904,
          23.028,
          23.152,
          23.276,
          23.4,
          23.524,
          23.648,
          23.772,
          23.896,
          24.02,
          24.144,
          24.268,
          24.392,
          24.516,
          24.64,
          24.764,
          24.887999999999998,
          25.012,
          25.136,
          25.259999999999998,
          25.384,
          25.508,
          25.631999999999998,
          25.756,
          25.880000000000003,
          26.003999999999998,
          26.128,
          26.252000000000002,
          26.375999999999998,
          26.5,
          26.624000000000002,
          26.747999999999998,
          26.872,
          26.996000000000002,
          27.12,
          27.244,
          27.368,
          27.492,
          27.616,
          27.74,
          27.864,
          27.988,
          28.112,
          28.236,
          28.36,
          28.484,
          28.608,
          28.732,
          28.856,
          28.98,
          29.104,
          29.228,
          29.352,
          29.476,
          29.6,
          29.724,
          29.848,
          29.972,
          30.096,
          30.22,
          30.344,
          30.468,
          30.592,
          30.716,
          30.84,
          30.964,
          31.088,
          31.212,
          31.336,
          31.46,
          31.584,
          31.708,
          31.832,
          31.956,
          32.08,
          32.204,
          32.328,
          32.452,
          32.576,
          32.7,
          32.824,
          32.948,
          33.072,
          33.196,
          33.32,
          33.444,
          33.568,
          33.692,
          33.816,
          33.94,
          34.064,
          34.188,
          34.312,
          34.436,
          34.56,
          34.684,
          34.808,
          34.932,
          35.056,
          35.18,
          35.304,
          35.428,
          35.552,
          35.676,
          35.8,
          35.924,
          36.048,
          36.172,
          36.296,
          36.42,
          36.544,
          36.668,
          36.792,
          36.916,
          37.04,
          37.164,
          37.288,
          37.412,
          37.536,
          37.66,
          37.784,
          37.908,
          38.032,
          38.156,
          38.28,
          38.403999999999996,
          38.528,
          38.652,
          38.775999999999996,
          38.9,
          39.024,
          39.147999999999996,
          39.272,
          39.396,
          39.519999999999996,
          39.644,
          39.768,
          39.891999999999996,
          40.016,
          40.14,
          40.263999999999996,
          40.388000000000005,
          40.512,
          40.635999999999996,
          40.760000000000005,
          40.884,
          41.007999999999996,
          41.132000000000005,
          41.256,
          41.379999999999995,
          41.504000000000005,
          41.628,
          41.751999999999995,
          41.876000000000005,
          42,
          42.123999999999995,
          42.248000000000005,
          42.372,
          42.495999999999995,
          42.620000000000005,
          42.744,
          42.867999999999995,
          42.992000000000004,
          43.116,
          43.24,
          43.364,
          43.488,
          43.612,
          43.736,
          43.86,
          43.984,
          44.108,
          44.232,
          44.356,
          44.48,
          44.604,
          44.728,
          44.852,
          44.976,
          45.1,
          45.224,
          45.348,
          45.472,
          45.596,
          45.72,
          45.844,
          45.968,
          46.092,
          46.216,
          46.34,
          46.464,
          46.588,
          46.712,
          46.836,
          46.96,
          47.084,
          47.208,
          47.332,
          47.456,
          47.58,
          47.704,
          47.828,
          47.952,
          48.076,
          48.2,
          48.324,
          48.448,
          48.572,
          48.696,
          48.82,
          48.944,
          49.068,
          49.192,
          49.316,
          49.44,
          49.564,
          49.688,
          49.812,
          49.936,
          50.06,
          50.184,
          50.308,
          50.432,
          50.556,
          50.68,
          50.804,
          50.928,
          51.052,
          51.176,
          51.3,
          51.424,
          51.548,
          51.672,
          51.796,
          51.92,
          52.044,
          52.168,
          52.292,
          52.416,
          52.54,
          52.664,
          52.788,
          52.912,
          53.036,
          53.16,
          53.284,
          53.408,
          53.532,
          53.656,
          53.78,
          53.904,
          54.028,
          54.152,
          54.276,
          54.4,
          54.524,
          54.648,
          54.772,
          54.896,
          55.02,
          55.144,
          55.268,
          55.392,
          55.516,
          55.64,
          55.764,
          55.888,
          56.012,
          56.136,
          56.26,
          56.384,
          56.508,
          56.632,
          56.756,
          56.88,
          57.004,
          57.128,
          57.252,
          57.376,
          57.5,
          57.624,
          57.748,
          57.872,
          57.996,
          58.12,
          58.244,
          58.368,
          58.492,
          58.616,
          58.74,
          58.864,
          58.988,
          59.112,
          59.236,
          59.36,
          59.484,
          59.608,
          59.732,
          59.856,
          59.98,
          60.104,
          60.228,
          60.352,
          60.476,
          60.6,
          60.724,
          60.848,
          60.972,
          61.096,
          61.22,
          61.344,
          61.468,
          61.592,
          61.716,
          61.84,
          61.964,
          62.088,
          62.212,
          62.336,
          62.46,
          62.584,
          62.708,
          62.832,
          62.956,
          63.08,
          63.204,
          63.328,
          63.452,
          63.576,
          63.7,
          63.824,
          63.948,
          64.072,
          64.196,
          64.32,
          64.444,
          64.568,
          64.69200000000001,
          64.816,
          64.94,
          65.064,
          65.188,
          65.312,
          65.436,
          65.56,
          65.684,
          65.80799999999999,
          65.932,
          66.056,
          66.18,
          66.304,
          66.428,
          66.55199999999999,
          66.676,
          66.8,
          66.924,
          67.048,
          67.172,
          67.29599999999999,
          67.42,
          67.544,
          67.668,
          67.792,
          67.916,
          68.03999999999999,
          68.164,
          68.288,
          68.412,
          68.536,
          68.66,
          68.78399999999999,
          68.908,
          69.032,
          69.156,
          69.28,
          69.404,
          69.52799999999999,
          69.652,
          69.77600000000001,
          69.9,
          70.024,
          70.148,
          70.27199999999999,
          70.396,
          70.52000000000001,
          70.644,
          70.768,
          70.892,
          71.01599999999999,
          71.14,
          71.26400000000001,
          71.388,
          71.512,
          71.636,
          71.75999999999999,
          71.884,
          72.00800000000001,
          72.132,
          72.256,
          72.38,
          72.50399999999999,
          72.628,
          72.75200000000001,
          72.876
         ],
         "xaxis": "x",
         "y": [
          0.000255744979094349,
          0.0002884889838990061,
          0.000323633345338423,
          0.0003613728971586497,
          0.0004020058643697258,
          0.0004459543251598637,
          0.0004937787309785564,
          0.0005461833970702595,
          0.0006040102710218997,
          0.0006682192250543424,
          0.0007398545873148696,
          0.0008199995114303395,
          0.000909721856628519,
          0.001010017197102117,
          0.0011217560335111737,
          0.0012456428857292492,
          0.0013821944278545734,
          0.0015317420559772612,
          0.001694461329081921,
          0.0018704268912165972,
          0.0020596872751193354,
          0.002262350061543032,
          0.0024786649388639894,
          0.0027090909272524865,
          0.0029543348707052747,
          0.003215351441023477,
          0.003493300167206373,
          0.0037894618547869947,
          0.004105124309572091,
          0.004441454403407099,
          0.004799378988212864,
          0.00517949982440865,
          0.005582066652554923,
          0.006007027364692905,
          0.006454165084312091,
          0.006923319676009505,
          0.007414677264720373,
          0.007929097747430247,
          0.00846843927625909,
          0.009035832430913623,
          0.009635856943549318,
          0.010274581208757618,
          0.010959439128396389,
          0.011698938647774899,
          0.012502219116179667,
          0.013378497086915596,
          0.014336458833025114,
          0.015383669476370026,
          0.016526070869121536,
          0.017767632230347805,
          0.019110199640721335,
          0.020553565067936052,
          0.022095746202248225,
          0.02373343938678782,
          0.02546258376765706,
          0.027278959214318242,
          0.029178735977956484,
          0.031158901113750335,
          0.03321750419736141,
          0.03535369002928218,
          0.037567514988361285,
          0.03985957221923349,
          0.04223047495791478,
          0.04468026391319402,
          0.04720781186548588,
          0.049810296065908664,
          0.05248279754770561,
          0.055218068220631446,
          0.058006484580843266,
          0.060836184402636335,
          0.06369336310908638,
          0.06656269217778256,
          0.06942781431557758,
          0.07227186925234463,
          0.07507800859751597,
          0.0778298661428646,
          0.08051195892120565,
          0.0831100023345432,
          0.08561112878998979,
          0.08800400367579829,
          0.09027883618443035,
          0.09242728678527898,
          0.09444227911324424,
          0.09631773194864082,
          0.09804823615554883,
          0.09962871048213275,
          0.10105407719692097,
          0.10231900192030616,
          0.1034177404522249,
          0.1043441282911361,
          0.10509173598163772,
          0.10565419619194326,
          0.10602568794856308,
          0.10620154185697658,
          0.10617891014487611,
          0.10595743010142945,
          0.10553980199063555,
          0.10493220507391268,
          0.1041444888045993,
          0.10319009942688018,
          0.10208573200845666,
          0.100850729765257,
          0.09950628127938091,
          0.09807448736889122,
          0.09657738004631093,
          0.0950359754603696,
          0.0934694323300589,
          0.09189437009834593,
          0.0903243805150345,
          0.08876974609629922,
          0.08723736154674672,
          0.08573084122300512,
          0.08425078732543662,
          0.08279518903856711,
          0.0813599210577622,
          0.07993930946376815,
          0.07852673261628597,
          0.07711522405918449,
          0.0756980434912411,
          0.07426918146305579,
          0.07282376487302646,
          0.0713583348730484,
          0.06987097736382601,
          0.0683612989254363,
          0.06683025679367953,
          0.06527986835432588,
          0.06371284094131419,
          0.06213217375839829,
          0.060540788281664204,
          0.058941240321307216,
          0.05733555604797886,
          0.05572521697075535,
          0.05411129733874275,
          0.052494734620622485,
          0.05087669274153863,
          0.049258961635498776,
          0.047644327914300774,
          0.0460368517239098,
          0.04444199467048455,
          0.04286656220209567,
          0.041318448785098404,
          0.03980620218087016,
          0.038338449955270505,
          0.03692325283910568,
          0.035567462208638406,
          0.03427616063994203,
          0.03305225485472492,
          0.03189627090830477,
          0.030806375225486307,
          0.02977861611945415,
          0.028807353070088748,
          0.027885819189355582,
          0.027006748818608792,
          0.026162998506158965,
          0.025348095554134725,
          0.02455666230937555,
          0.023784683723224596,
          0.023029607165044708,
          0.022290283796281556,
          0.021566777296398932,
          0.020860076628620182,
          0.020171754229591225,
          0.019503609978820027,
          0.018857335859726914,
          0.018234228118463106,
          0.017634964742164926,
          0.017059457677128943,
          0.01650678231500993,
          0.01597518172420717,
          0.015462139718650033,
          0.014964514635749963,
          0.014478724031879128,
          0.014000968890025226,
          0.01352748411244711,
          0.013054800101029307,
          0.01257999846491824,
          0.012100943884155077,
          0.011616474470614483,
          0.01112653501649878,
          0.010632241405281032,
          0.010135869886064039,
          0.009640771217552274,
          0.00915121597522751,
          0.008672182662448022,
          0.008209103952042966,
          0.0077675880668009335,
          0.007353132091527322,
          0.006970842393686248,
          0.006625175032511423,
          0.00631970676788658,
          0.006056945525055042,
          0.005838188051702573,
          0.0056634317638969,
          0.005531346889410292,
          0.005439313379595205,
          0.005383524223536846,
          0.005359152645853444,
          0.005360575512874035,
          0.005381639813866605,
          0.005415954271372782,
          0.005457184934460557,
          0.00549933276827523,
          0.005536973108979793,
          0.005565441236522292,
          0.005580954582550117,
          0.005580669251989805,
          0.0055626754809397555,
          0.0055259423664674266,
          0.0054702259581850855,
          0.005395956262494662,
          0.005304117946614137,
          0.0051961369394002265,
          0.005073781314881228,
          0.00493908049155325,
          0.0047942625297936105,
          0.004641705701127514,
          0.0044838979426427865,
          0.004323396563827947,
          0.004162780767214935,
          0.004004591156112274,
          0.0038512532475749243,
          0.0037049857289777445,
          0.0035676982724371716,
          0.003440887516317645,
          0.003325542667090169,
          0.003222073475640798,
          0.003130272703171606,
          0.0030493225090757513,
          0.0029778497058293597,
          0.0029140291045304913,
          0.0028557280434383077,
          0.002800679596749881,
          0.002746667807020117,
          0.002691706273524299,
          0.002634191927441139,
          0.0025730187933651586,
          0.0025076415314394416,
          0.002438084804823516,
          0.002364901064460248,
          0.002289085211330492,
          0.002211958962233364,
          0.002135040071683744,
          0.002059911672543857,
          0.001988105075793713,
          0.0019210058971516801,
          0.001859789023550862,
          0.0018053834205635677,
          0.0017584637714944005,
          0.0017194629299678431,
          0.0016885974500184656,
          0.0016658981008827983,
          0.0016512381533340032,
          0.0016443540688056274,
          0.0016448556695127742,
          0.0016522255200997315,
          0.0016658097250656985,
          0.0016848043093829965,
          0.001708242552120259,
          0.0017349889381061867,
          0.0017637447527506294,
          0.001793068866270211,
          0.0018214151496778255,
          0.001847185545644538,
          0.0018687954488576985,
          0.0018847461012492643,
          0.001893697486627042,
          0.001894534909393526,
          0.0018864230998579838,
          0.0018688431750534715,
          0.001841609828945083,
          0.0018048683743396943,
          0.001759073344772861,
          0.0017049519859889044,
          0.0016434569409267774,
          0.0015757127207112268,
          0.0015029602500340905,
          0.0014265030613761843,
          0.0013476578043627595,
          0.0012677108273379597,
          0.0011878818103448357,
          0.0011092948397241386,
          0.0010329569070629792,
          0.0009597435421223439,
          0.0008903910935906009,
          0.0008254950096983907,
          0.0007655133246516547,
          0.0007107744318133775,
          0.0006614881388963023,
          0.0006177589720296706,
          0.0005796007315675303,
          0.0005469513952874567,
          0.0005196875945017174,
          0.0004976380309925988,
          0.00048059533634417425,
          0.0004683259884477342,
          0.00046057799289510705,
          0.00045708612021334714,
          0.00045757458006209095,
          0.0004617571278410006,
          0.0004693347503775689,
          0.000479991269862854,
          0.0004933874325639533,
          0.0005091542927462882,
          0.0005268869325669033,
          0.0005461397351813371,
          0.0005664245043604744,
          0.0005872126533553521,
          0.000607942432434681,
          0.0006280317138682137,
          0.0006468962230592011,
          0.0006639723523832144,
          0.000678742916204853,
          0.0006907635259912341,
          0.0006996868160898509,
          0.0007052816477830335,
          0.0007074447299634867,
          0.0007062028203913936,
          0.0007017047373590637,
          0.0006942036744359661,
          0.0006840315815135095,
          0.0006715684518389353,
          0.0006572100599331103,
          0.0006413379091701578,
          0.0006242948287294246,
          0.0006063688507671468,
          0.0005877868191999522,
          0.000568717805798872,
          0.0005492850385586779,
          0.0005295838790594292,
          0.0005097025854495036,
          0.0004897422771038394,
          0.0004698327184159225,
          0.00045014123077068575,
          0.00043087312178505244,
          0.0004122633315176839,
          0.0003945603445170962,
          0.0003780046058131219,
          0.0003628045329405977,
          0.0003491136096588769,
          0.00033701192497989863,
          0.00032649490707207504,
          0.0003174709942258212,
          0.0003097687419171592,
          0.000303152576835801,
          0.00029734526857462675,
          0.00029205436205241846,
          0.00028699940935927973,
          0.000281936899623085,
          0.0002766802772746468,
          0.00027111326526845614,
          0.0002651957266220426,
          0.00025896234038082585,
          0.0002525152784777854,
          0.0002460127203489259,
          0.00023965535320152667,
          0.00023367295459957447,
          0.0002283127728098145,
          0.00022383078729301542,
          0.00022048615622973186,
          0.00021853836392476074,
          0.0002182458905161891,
          0.00021986474619314211,
          0.00022364502207722087,
          0.0002298237551511967,
          0.00023861288936534,
          0.00025018189895250774,
          0.00026463563733328656,
          0.0002819890585215585,
          0.00030214146885727865,
          0.00032485373237152264,
          0.00034973221084777875,
          0.00037622304706113826,
          0.0004036196425858187,
          0.0004310848762431466,
          0.0004576878909697587,
          0.00048245336993096784,
          0.000504419410706128,
          0.0005226986860015773,
          0.0005365368056227469,
          0.0005453618289447176,
          0.0005488197511726853,
          0.0005467923889804411,
          0.0005393961841599493,
          0.0005269627066581092,
          0.0005100037260962031,
          0.000489165329033095,
          0.00046517647724983636,
          0.0004387975458884509,
          0.0004107737966293425,
          0.0003817975883624677,
          0.00035248163526922983,
          0.0003233440421318456,
          0.00029480440866358693,
          0.0002671891715060588,
          0.00024074364207085676,
          0.00021564792167646263,
          0.0001920339882764426,
          0.00017000166176336196,
          0.00014963175461574064,
          0.00013099538684003696,
          0.00011415908893386916,
          9.91858602839288e-05,
          8.613275089055475e-05,
          7.504578095421827e-05,
          6.595312171303415e-05,
          5.885746616605598e-05,
          5.372846148869048e-05,
          5.0495993819022286e-05,
          4.904503543139452e-05,
          4.921269053365638e-05,
          5.078799705835528e-05,
          5.351493297987049e-05,
          5.7098908857729095e-05,
          6.121678396279475e-05,
          6.553012079026474e-05,
          6.970101604290336e-05,
          7.340946346344377e-05,
          7.637087993641792e-05,
          7.835222913989419e-05,
          7.918516232327515e-05,
          7.877479217611923e-05,
          7.710311550261363e-05,
          7.422665768409682e-05,
          7.02685495092663e-05,
          6.540587026435234e-05,
          5.9853605931251725e-05,
          5.3846902335635965e-05,
          4.7623396846499944e-05,
          4.140728466864993e-05,
          3.539645065289872e-05,
          2.975353771818063e-05,
          2.460130657412532e-05,
          2.0022146429101404e-05,
          1.60611868528469e-05,
          1.2732177778827925e-05,
          1.0025161797424903e-05,
          7.914949741433856e-06,
          6.369498368559679e-06,
          5.357439988293495e-06,
          4.854190797996586e-06,
          4.846238108640234e-06,
          5.3333597959832905e-06,
          6.3286591313152624e-06,
          7.856412910824744e-06,
          9.947845232134117e-06,
          1.2635068170965875e-05,
          1.5943582528167382e-05,
          1.988390402161516e-05,
          2.4443056381738203e-05,
          2.957682364103099e-05,
          3.520374216490826e-05,
          4.120180073060248e-05,
          4.740867504755363e-05,
          5.3626040289120975e-05,
          5.962809497805543e-05,
          6.517393257841955e-05,
          7.00228778382546e-05,
          7.395144238087568e-05,
          7.677022827665599e-05,
          7.833898464978561e-05,
          7.857813714919869e-05,
          7.747546130413152e-05,
          7.508711578703088e-05,
          7.153291329408799e-05,
          6.698638678598937e-05,
          6.166080550651223e-05,
          5.57927220303912e-05,
          4.962483262248479e-05,
          4.338989181122508e-05,
          3.729716177435782e-05,
          3.1522454390503394e-05,
          2.6202315218125007e-05,
          2.1432385372029163e-05,
          1.726953023923565e-05,
          1.3736992992746928e-05,
          1.0831639063053863e-05,
          8.532302066115031e-06,
          6.808298375758982e-06,
          5.627310640406749e-06,
          4.9620115469339125e-06,
          4.79497529007593e-06,
          5.1215842881641465e-06,
          5.9507752183753435e-06,
          7.303586412040087e-06,
          9.209581297744573e-06,
          1.1701345376750591e-05,
          1.4807398338711788e-05,
          1.8544029677791312e-05,
          2.2906743615853556e-05,
          2.7862161920957997e-05,
          3.334134594126203e-05,
          3.923552315496029e-05,
          4.539510571242196e-05,
          5.16326508884066e-05,
          5.773004108404909e-05,
          6.344968597975078e-05,
          6.854902913657355e-05,
          7.279715144822485e-05,
          7.599188574379108e-05,
          7.797566226587189e-05
         ],
         "yaxis": "y"
        },
        {
         "legendgroup": "Bronze Medalist",
         "marker": {
          "color": "rgb(214, 39, 40)"
         },
         "mode": "lines",
         "name": "Bronze Medalist",
         "showlegend": true,
         "type": "scatter",
         "x": [
          10,
          10.124,
          10.248,
          10.372,
          10.496,
          10.62,
          10.744,
          10.868,
          10.992,
          11.116,
          11.24,
          11.364,
          11.488,
          11.612,
          11.736,
          11.86,
          11.984,
          12.108,
          12.232,
          12.356,
          12.48,
          12.604,
          12.728,
          12.852,
          12.975999999999999,
          13.1,
          13.224,
          13.347999999999999,
          13.472,
          13.596,
          13.72,
          13.844,
          13.968,
          14.091999999999999,
          14.216000000000001,
          14.34,
          14.464,
          14.588000000000001,
          14.712,
          14.836,
          14.96,
          15.084,
          15.208,
          15.332,
          15.456,
          15.58,
          15.704,
          15.828,
          15.952,
          16.076,
          16.2,
          16.323999999999998,
          16.448,
          16.572,
          16.695999999999998,
          16.82,
          16.944,
          17.067999999999998,
          17.192,
          17.316,
          17.44,
          17.564,
          17.688,
          17.812,
          17.936,
          18.060000000000002,
          18.183999999999997,
          18.308,
          18.432000000000002,
          18.555999999999997,
          18.68,
          18.804000000000002,
          18.928,
          19.052,
          19.176000000000002,
          19.3,
          19.424,
          19.548000000000002,
          19.672,
          19.796,
          19.92,
          20.044,
          20.168,
          20.292,
          20.416,
          20.54,
          20.664,
          20.788,
          20.912,
          21.036,
          21.16,
          21.284,
          21.408,
          21.532,
          21.656,
          21.78,
          21.904,
          22.028,
          22.152,
          22.276,
          22.4,
          22.524,
          22.648,
          22.772,
          22.896,
          23.02,
          23.144,
          23.268,
          23.392,
          23.516,
          23.64,
          23.764,
          23.887999999999998,
          24.012,
          24.136,
          24.259999999999998,
          24.384,
          24.508,
          24.631999999999998,
          24.756,
          24.880000000000003,
          25.003999999999998,
          25.128,
          25.252000000000002,
          25.375999999999998,
          25.5,
          25.624000000000002,
          25.747999999999998,
          25.872,
          25.996000000000002,
          26.12,
          26.244,
          26.368,
          26.492,
          26.616,
          26.74,
          26.864,
          26.988,
          27.112,
          27.236,
          27.36,
          27.484,
          27.608,
          27.732,
          27.856,
          27.98,
          28.104,
          28.228,
          28.352,
          28.476,
          28.6,
          28.724,
          28.848,
          28.972,
          29.096,
          29.22,
          29.344,
          29.468,
          29.592,
          29.716,
          29.84,
          29.964,
          30.088,
          30.212,
          30.336,
          30.46,
          30.584,
          30.708,
          30.832,
          30.956,
          31.08,
          31.204,
          31.328,
          31.452,
          31.576,
          31.7,
          31.824,
          31.948,
          32.072,
          32.196,
          32.32,
          32.444,
          32.568,
          32.692,
          32.816,
          32.94,
          33.064,
          33.188,
          33.312,
          33.436,
          33.56,
          33.684,
          33.808,
          33.932,
          34.056,
          34.18,
          34.304,
          34.428,
          34.552,
          34.676,
          34.8,
          34.924,
          35.048,
          35.172,
          35.296,
          35.42,
          35.544,
          35.668,
          35.792,
          35.916,
          36.04,
          36.164,
          36.288,
          36.412,
          36.536,
          36.66,
          36.784,
          36.908,
          37.032,
          37.156,
          37.28,
          37.403999999999996,
          37.528,
          37.652,
          37.775999999999996,
          37.9,
          38.024,
          38.147999999999996,
          38.272,
          38.396,
          38.519999999999996,
          38.644,
          38.768,
          38.891999999999996,
          39.016,
          39.14,
          39.263999999999996,
          39.388000000000005,
          39.512,
          39.635999999999996,
          39.760000000000005,
          39.884,
          40.007999999999996,
          40.132000000000005,
          40.256,
          40.379999999999995,
          40.504000000000005,
          40.628,
          40.751999999999995,
          40.876000000000005,
          41,
          41.123999999999995,
          41.248000000000005,
          41.372,
          41.495999999999995,
          41.620000000000005,
          41.744,
          41.867999999999995,
          41.992000000000004,
          42.116,
          42.24,
          42.364,
          42.488,
          42.612,
          42.736,
          42.86,
          42.984,
          43.108,
          43.232,
          43.356,
          43.48,
          43.604,
          43.728,
          43.852,
          43.976,
          44.1,
          44.224,
          44.348,
          44.472,
          44.596,
          44.72,
          44.844,
          44.968,
          45.092,
          45.216,
          45.34,
          45.464,
          45.588,
          45.712,
          45.836,
          45.96,
          46.084,
          46.208,
          46.332,
          46.456,
          46.58,
          46.704,
          46.828,
          46.952,
          47.076,
          47.2,
          47.324,
          47.448,
          47.572,
          47.696,
          47.82,
          47.944,
          48.068,
          48.192,
          48.316,
          48.44,
          48.564,
          48.688,
          48.812,
          48.936,
          49.06,
          49.184,
          49.308,
          49.432,
          49.556,
          49.68,
          49.804,
          49.928,
          50.052,
          50.176,
          50.3,
          50.424,
          50.548,
          50.672,
          50.796,
          50.92,
          51.044,
          51.168,
          51.292,
          51.416,
          51.54,
          51.664,
          51.788,
          51.912,
          52.036,
          52.16,
          52.284,
          52.408,
          52.532,
          52.656,
          52.78,
          52.904,
          53.028,
          53.152,
          53.276,
          53.4,
          53.524,
          53.648,
          53.772,
          53.896,
          54.02,
          54.144,
          54.268,
          54.392,
          54.516,
          54.64,
          54.764,
          54.888,
          55.012,
          55.136,
          55.26,
          55.384,
          55.508,
          55.632,
          55.756,
          55.88,
          56.004,
          56.128,
          56.252,
          56.376,
          56.5,
          56.624,
          56.748,
          56.872,
          56.996,
          57.12,
          57.244,
          57.368,
          57.492,
          57.616,
          57.74,
          57.864,
          57.988,
          58.112,
          58.236,
          58.36,
          58.484,
          58.608,
          58.732,
          58.856,
          58.98,
          59.104,
          59.228,
          59.352,
          59.476,
          59.6,
          59.724,
          59.848,
          59.972,
          60.096,
          60.22,
          60.344,
          60.468,
          60.592,
          60.716,
          60.84,
          60.964,
          61.088,
          61.212,
          61.336,
          61.46,
          61.584,
          61.708,
          61.832,
          61.956,
          62.08,
          62.204,
          62.328,
          62.452,
          62.576,
          62.7,
          62.824,
          62.948,
          63.072,
          63.196,
          63.32,
          63.444,
          63.568,
          63.692,
          63.816,
          63.94,
          64.064,
          64.188,
          64.312,
          64.436,
          64.56,
          64.684,
          64.80799999999999,
          64.932,
          65.056,
          65.18,
          65.304,
          65.428,
          65.55199999999999,
          65.676,
          65.8,
          65.924,
          66.048,
          66.172,
          66.29599999999999,
          66.42,
          66.544,
          66.668,
          66.792,
          66.916,
          67.03999999999999,
          67.164,
          67.288,
          67.412,
          67.536,
          67.66,
          67.78399999999999,
          67.908,
          68.032,
          68.156,
          68.28,
          68.404,
          68.52799999999999,
          68.652,
          68.77600000000001,
          68.9,
          69.024,
          69.148,
          69.27199999999999,
          69.396,
          69.52000000000001,
          69.644,
          69.768,
          69.892,
          70.01599999999999,
          70.14,
          70.26400000000001,
          70.388,
          70.512,
          70.636,
          70.75999999999999,
          70.884,
          71.00800000000001,
          71.132,
          71.256,
          71.38,
          71.50399999999999,
          71.628,
          71.75200000000001,
          71.876
         ],
         "xaxis": "x",
         "y": [
          9.194020683976449e-05,
          9.615433823926147e-05,
          0.00010021010042990187,
          0.00010436763291273971,
          0.00010892138271629965,
          0.00011417122636561649,
          0.00012039240106003307,
          0.00012780873450074655,
          0.0001365736144452082,
          0.00014676240137575497,
          0.00015837861523551185,
          0.00017137438129875265,
          0.00018568355086843837,
          0.00020126392436928397,
          0.00021814341173601785,
          0.0002364640413536901,
          0.00025651766015922644,
          0.00027876801642947777,
          0.00030385560457518024,
          0.00033258396235817775,
          0.00036588872030942965,
          0.00040479322370603983,
          0.0004503565910613477,
          0.0005036213149513098,
          0.0005655677471091573,
          0.0006370819956038677,
          0.0007189420244133449,
          0.0008118243632073965,
          0.0009163311881546422,
          0.0010330350349185852,
          0.0011625364181606114,
          0.0013055284091081244,
          0.0014628618591216954,
          0.0016356053850198956,
          0.0018250952506444309,
          0.0020329716130599133,
          0.0022611989699273354,
          0.0025120698253058194,
          0.0027881914667207968,
          0.003092456319901526,
          0.0034279967315462194,
          0.0037981254111864897,
          0.0042062633485204295,
          0.0046558579793814295,
          0.00515029576347694,
          0.005692815062067939,
          0.006286426977317364,
          0.0069338531783370095,
          0.00763749013610467,
          0.008399408100261177,
          0.009221390258226709,
          0.010105012861837683,
          0.011051761173514914,
          0.012063169772507447,
          0.01314097022913127,
          0.01428722556212769,
          0.015504430126504555,
          0.016795556026882135,
          0.01816403261751118,
          0.019613653404872134,
          0.021148413616978244,
          0.02277229059692277,
          0.024488986802229357,
          0.02630166049213928,
          0.028212671346660768,
          0.030223366779987486,
          0.03233392949856878,
          0.03454329836633244,
          0.03684916396448084,
          0.03924802904579562,
          0.04173531439831551,
          0.04430548436660374,
          0.046952164739038606,
          0.04966822919781001,
          0.05244583823043024,
          0.055276424636491635,
          0.058150630511650474,
          0.06105821008466991,
          0.06398791990839059,
          0.0669274222517712,
          0.06986322911608177,
          0.07278071311409647,
          0.07566420724244587,
          0.07849720789458609,
          0.081262684122886,
          0.08394348184894472,
          0.08652279637572065,
          0.08898467320799686,
          0.09131448921124981,
          0.09349936609932882,
          0.09552847684280419,
          0.0973932211929347,
          0.09908726552085184,
          0.10060646015215464,
          0.10194866054592278,
          0.1031134850451525,
          0.10410204176000332,
          0.10491665243127798,
          0.10556059451252796,
          0.10603787634950161,
          0.10635305515263407,
          0.10651110318415692,
          0.10651732338547056,
          0.10637731099106273,
          0.106096952764946,
          0.10568245137653408,
          0.10514036032864792,
          0.10447761542425957,
          0.10370155162916175,
          0.10281989800758941,
          0.1018407465054305,
          0.10077249159626352,
          0.09962373722993768,
          0.09840316640168228,
          0.09711936891836993,
          0.09578062622806485,
          0.09439465902824332,
          0.09296835282642785,
          0.09150748653172208,
          0.09001649688343771,
          0.0884983148461973,
          0.08695430780360272,
          0.08538435342379222,
          0.08378705836876935,
          0.08216011907071398,
          0.0805008043821159,
          0.07880652298915171,
          0.07707542422924236,
          0.07530697168195273,
          0.07350242673366385,
          0.07166518560993757,
          0.06980092807771027,
          0.06791755729933485,
          0.06602493468505899,
          0.06413443665820474,
          0.062258377896359476,
          0.060409355135579205,
          0.058599566460387546,
          0.05684015476103847,
          0.055140613839108815,
          0.05350828501106674,
          0.051947963807593714,
          0.05046163181124666,
          0.049048327411555785,
          0.04770416947637094,
          0.04642254711193359,
          0.04519448436986092,
          0.04400917932127983,
          0.04285470203095719,
          0.041718816839130285,
          0.04058987368098744,
          0.03945769473698579,
          0.03831437075740779,
          0.03715487975654876,
          0.035977451846939124,
          0.0347836279997939,
          0.03357799508585561,
          0.03236761986922953,
          0.031161244295165366,
          0.029968336708259994,
          0.028798112928772795,
          0.027658644044670496,
          0.026556153912195762,
          0.025494581173933398,
          0.024475442868268325,
          0.023497995470209053,
          0.022559650685029634,
          0.021656572887108493,
          0.020784366562730326,
          0.019938757311296965,
          0.01911617865062638,
          0.018314196930545673,
          0.017531734460864094,
          0.01676908197045325,
          0.016027720999076404,
          0.015310000591806998,
          0.014618727719204026,
          0.013956735806077081,
          0.013326490970092787,
          0.012729782912069072,
          0.012167529750256438,
          0.011639706740262101,
          0.011145390851289745,
          0.01068289897861192,
          0.010249988615764826,
          0.00984408653819224,
          0.009462513021286494,
          0.009102675214230683,
          0.00876221199539631,
          0.008439082293078584,
          0.008131597935637185,
          0.007838409391193076,
          0.007558457522060312,
          0.00729090647370282,
          0.007035072266936256,
          0.006790359134501989,
          0.006556211890137588,
          0.006332088410561186,
          0.00611745231382095,
          0.005911782622960955,
          0.005714594914996418,
          0.0055254673046577765,
          0.005344064591300097,
          0.005170154877788494,
          0.005003614720914417,
          0.004844421078716369,
          0.004692630615236538,
          0.004548348943881922,
          0.0044116938372346735,
          0.0042827571241173465,
          0.0041615699034640895,
          0.004048074941547547,
          0.003942108900523233,
          0.003843395633625784,
          0.0037515504237443167,
          0.003666093927791435,
          0.003586473828772559,
          0.0035120918166124566,
          0.0034423334710733796,
          0.0033765988064875683,
          0.003314331532476271,
          0.0032550453640130925,
          0.003198345889185829,
          0.0031439465469074944,
          0.0030916772293831094,
          0.003041484024917441,
          0.0029934188136231388,
          0.0029476179678430154,
          0.0029042703695256774,
          0.002863576307425964,
          0.002825700401645778,
          0.0027907232585336053,
          0.0027585977629673653,
          0.0027291164511561404,
          0.0027018960321170435,
          0.002676383725917621,
          0.002651887712763991,
          0.0026276308668301924,
          0.0026028234719148277,
          0.0025767472919198844,
          0.0025488407585333786,
          0.0025187736635875224,
          0.002486499987994996,
          0.0024522795164034377,
          0.0024166625394552903,
          0.0023804367960552613,
          0.0023445411694300203,
          0.002309955694395614,
          0.0022775813325277435,
          0.0022481250524224953,
          0.00222200561655698,
          0.002199293078712005,
          0.002179690653999984,
          0.002162561966910488,
          0.002147000551253853,
          0.0021319327848525207,
          0.0021162410366160522,
          0.0020988913245698028,
          0.0020790495624499806,
          0.0020561724791522368,
          0.0020300631438837625,
          0.002000886050096637,
          0.0019691420726982126,
          0.0019356084796482431,
          0.0019012528627198658,
          0.0018671319313208993,
          0.0018342864909947482,
          0.001803642819186408,
          0.0017759285032085993,
          0.0017516081800564066,
          0.0017308420559036068,
          0.0017134679919276678,
          0.0016990065237572109,
          0.0016866874115331356,
          0.001675495985103713,
          0.001664237332763549,
          0.001651615952901252,
          0.0016363276128205729,
          0.0016171587829952227,
          0.0015930873011629884,
          0.0015633762338507229,
          0.0015276517364234085,
          0.0014859555698793399,
          0.0014387641893961354,
          0.0013869691027959426,
          0.0013318173113539224,
          0.0012748155737568728,
          0.001217607217028356,
          0.001161834396713049,
          0.0011090012980127784,
          0.0010603542248291296,
          0.0010167926565817344,
          0.000978821376250531,
          0.0009465482657108307,
          0.0009197261648523789,
          0.0008978312490960958,
          0.0008801655944952934,
          0.0008659686730611176,
          0.000854521854700141,
          0.0008452316359346552,
          0.0008376809740333455,
          0.0008316431958093881,
          0.0008270587001629413,
          0.0008239802375810824,
          0.000822497133876788,
          0.0008226517948638788,
          0.0008243627913648217,
          0.0008273676776891537,
          0.0008311956370778742,
          0.0008351755373009667,
          0.0008384796833653962,
          0.0008401982465740746,
          0.0008394348045794194,
          0.0008354103066798347,
          0.0008275615278201459,
          0.0008156208497573198,
          0.000799666846076254,
          0.0007801391921665581,
          0.0007578161986967352,
          0.0007337580088453392,
          0.0007092224820481771,
          0.0006855634636996053,
          0.0006641222356342316,
          0.0006461224877392574,
          0.0006325774548737261,
          0.0006242154223303827,
          0.0006214271790159413,
          0.000624236686482827,
          0.0006322945587779143,
          0.0006448930090591211,
          0.0006610005848090155,
          0.0006793149900361194,
          0.0006983322224407581,
          0.0007164298308945101,
          0.0007319611708901573,
          0.0007433561597128207,
          0.0007492224737172907,
          0.0007484397975526129,
          0.0007402390770378448,
          0.000724259102372691,
          0.0007005743163053615,
          0.0006696904010833246,
          0.0006325075890589164,
          0.0005902552190122756,
          0.0005444042129967519,
          0.0004965663407912794,
          0.00044839003009299603,
          0.00040146199548678706,
          0.0003572222926948061,
          0.0003168979599828539,
          0.00028145769162011614,
          0.00025158748602578706,
          0.00022768528829122988,
          0.00020987148336146526,
          0.0001980116791514292,
          0.00019174838140847253,
          0.00019053865518174357,
          0.00019369544026291978,
          0.00020043065302448565,
          0.00020989847839237606,
          0.00022123734869559429,
          0.00023360910903610647,
          0.00024623389638018785,
          0.00025841940602950854,
          0.0002695835248123443,
          0.0002792697507460854,
          0.0002871553173249739,
          0.0002930523976827075,
          0.0002969030933748094,
          0.0002987690704096729,
          0.00029881670339482414,
          0.00029729848960745856,
          0.0002945313889819617,
          0.0002908727211019701,
          0.0002866943612749111,
          0.0002823562275000577,
          0.00027818038575082337,
          0.000274427426766047,
          0.00027127697015437923,
          0.00026881413056339417,
          0.00026702347595221635,
          0.0002657914182495956,
          0.0002649171635834083,
          0.000264131427648115,
          0.0002631212374536729,
          0.00026155844104900337,
          0.00025912915024704574,
          0.00025556131234259375,
          0.00025064794195875557,
          0.00024426417314968557,
          0.00023637709316840416,
          0.00022704814754146037,
          0.00021642862492751705,
          0.00020474924234035547,
          0.00019230511796300813,
          0.00017943746387553644,
          0.00016651322856459663,
          0.00015390376765139972,
          0.0001419635127249211,
          0.00013100959937880133,
          0.00012130351102579162,
          0.00011303594509165446,
          0.00010631622290723856,
          0.0001011675400160563,
          9.752910253540395e-05,
          9.526567529054878e-05,
          9.418429902920533e-05,
          9.405700367157603e-05,
          9.464739319535613e-05,
          9.573817603296433e-05,
          9.715623066271251e-05,
          9.879176082414767e-05,
          0.00010060857494527692,
          0.00010264350361791393,
          0.00010499434439893631,
          0.00010779731654190723,
          0.0001111965903640226,
          0.00011530978130308247,
          0.00012019414437535776,
          0.00012581840797189453,
          0.00013204467445298304,
          0.00013862362462902737,
          0.0001452045390726736,
          0.00015135962897285232,
          0.00015662014961673418,
          0.00016052006020635012,
          0.00016264186560971378,
          0.00016265891326308445,
          0.00016036888469202234,
          0.0001557144431862667,
          0.00014878877920666971,
          0.0001398258448999239,
          0.00012917706232987305,
          0.00011727792170379279,
          0.00010460892646741514,
          9.165567528664879e-05,
          7.887250711658997e-05,
          6.665320023091937e-05,
          5.531091629932839e-05,
          4.5068158969055404e-05,
          3.6056203283218555e-05,
          2.8322426361365522e-05,
          2.1843334283929064e-05,
          1.6540857123378567e-05,
          1.2299625252670292e-05,
          8.983348868586707e-06,
          6.44898096828451e-06,
          4.55793707227719e-06,
          3.184179971830825e-06,
          2.2193936958425877e-06,
          1.5757400700039238e-06,
          1.1868144058515665e-06,
          1.0074146479774366e-06,
          1.012642087614787e-06,
          1.196695901704719e-06,
          1.5715406454232705e-06,
          2.1654434682210627e-06,
          3.0212198689541297e-06,
          4.193913316469786e-06,
          5.747582165767591e-06,
          7.75089066391095e-06,
          1.0271307583271579e-05,
          1.3367905340614427e-05,
          1.7083010921776127e-05,
          2.143325882699056e-05,
          2.6400891605062396e-05,
          3.192638995268039e-05,
          3.7903633063884375e-05,
          4.417874032827001e-05,
          5.055349803912428e-05,
          5.6793832181404275e-05,
          6.264319177969792e-05,
          6.78400347954786e-05,
          7.213796482583991e-05,
          7.532656488741964e-05,
          7.725071308666325e-05,
          7.782620631760956e-05,
          7.704987227050234e-05,
          7.50029692480412e-05,
          7.184745954224878e-05,
          6.781556623746253e-05,
          6.319375164903094e-05,
          5.830277811788265e-05,
          5.3475764504701175e-05,
          4.9036127801327134e-05,
          4.5277047113735514e-05,
          4.24436947723456e-05,
          4.071904977831701e-05,
          4.021373420922226e-05,
          4.0960052081464454e-05,
          4.2910275281704435e-05,
          4.593918033523049e-05,
          4.985082895958443e-05,
          5.43895305823149e-05,
          5.925476691430323e-05,
          6.411957309477151e-05,
          6.86514788496528e-05,
          7.253468283966695e-05,
          7.549176007514991e-05,
          7.730298835354274e-05
         ],
         "yaxis": "y"
        }
       ],
       "layout": {
        "autosize": true,
        "barmode": "overlay",
        "hovermode": "closest",
        "legend": {
         "traceorder": "reversed"
        },
        "template": {
         "data": {
          "bar": [
           {
            "error_x": {
             "color": "#2a3f5f"
            },
            "error_y": {
             "color": "#2a3f5f"
            },
            "marker": {
             "line": {
              "color": "#E5ECF6",
              "width": 0.5
             },
             "pattern": {
              "fillmode": "overlay",
              "size": 10,
              "solidity": 0.2
             }
            },
            "type": "bar"
           }
          ],
          "barpolar": [
           {
            "marker": {
             "line": {
              "color": "#E5ECF6",
              "width": 0.5
             },
             "pattern": {
              "fillmode": "overlay",
              "size": 10,
              "solidity": 0.2
             }
            },
            "type": "barpolar"
           }
          ],
          "carpet": [
           {
            "aaxis": {
             "endlinecolor": "#2a3f5f",
             "gridcolor": "white",
             "linecolor": "white",
             "minorgridcolor": "white",
             "startlinecolor": "#2a3f5f"
            },
            "baxis": {
             "endlinecolor": "#2a3f5f",
             "gridcolor": "white",
             "linecolor": "white",
             "minorgridcolor": "white",
             "startlinecolor": "#2a3f5f"
            },
            "type": "carpet"
           }
          ],
          "choropleth": [
           {
            "colorbar": {
             "outlinewidth": 0,
             "ticks": ""
            },
            "type": "choropleth"
           }
          ],
          "contour": [
           {
            "colorbar": {
             "outlinewidth": 0,
             "ticks": ""
            },
            "colorscale": [
             [
              0,
              "#0d0887"
             ],
             [
              0.1111111111111111,
              "#46039f"
             ],
             [
              0.2222222222222222,
              "#7201a8"
             ],
             [
              0.3333333333333333,
              "#9c179e"
             ],
             [
              0.4444444444444444,
              "#bd3786"
             ],
             [
              0.5555555555555556,
              "#d8576b"
             ],
             [
              0.6666666666666666,
              "#ed7953"
             ],
             [
              0.7777777777777778,
              "#fb9f3a"
             ],
             [
              0.8888888888888888,
              "#fdca26"
             ],
             [
              1,
              "#f0f921"
             ]
            ],
            "type": "contour"
           }
          ],
          "contourcarpet": [
           {
            "colorbar": {
             "outlinewidth": 0,
             "ticks": ""
            },
            "type": "contourcarpet"
           }
          ],
          "heatmap": [
           {
            "colorbar": {
             "outlinewidth": 0,
             "ticks": ""
            },
            "colorscale": [
             [
              0,
              "#0d0887"
             ],
             [
              0.1111111111111111,
              "#46039f"
             ],
             [
              0.2222222222222222,
              "#7201a8"
             ],
             [
              0.3333333333333333,
              "#9c179e"
             ],
             [
              0.4444444444444444,
              "#bd3786"
             ],
             [
              0.5555555555555556,
              "#d8576b"
             ],
             [
              0.6666666666666666,
              "#ed7953"
             ],
             [
              0.7777777777777778,
              "#fb9f3a"
             ],
             [
              0.8888888888888888,
              "#fdca26"
             ],
             [
              1,
              "#f0f921"
             ]
            ],
            "type": "heatmap"
           }
          ],
          "heatmapgl": [
           {
            "colorbar": {
             "outlinewidth": 0,
             "ticks": ""
            },
            "colorscale": [
             [
              0,
              "#0d0887"
             ],
             [
              0.1111111111111111,
              "#46039f"
             ],
             [
              0.2222222222222222,
              "#7201a8"
             ],
             [
              0.3333333333333333,
              "#9c179e"
             ],
             [
              0.4444444444444444,
              "#bd3786"
             ],
             [
              0.5555555555555556,
              "#d8576b"
             ],
             [
              0.6666666666666666,
              "#ed7953"
             ],
             [
              0.7777777777777778,
              "#fb9f3a"
             ],
             [
              0.8888888888888888,
              "#fdca26"
             ],
             [
              1,
              "#f0f921"
             ]
            ],
            "type": "heatmapgl"
           }
          ],
          "histogram": [
           {
            "marker": {
             "pattern": {
              "fillmode": "overlay",
              "size": 10,
              "solidity": 0.2
             }
            },
            "type": "histogram"
           }
          ],
          "histogram2d": [
           {
            "colorbar": {
             "outlinewidth": 0,
             "ticks": ""
            },
            "colorscale": [
             [
              0,
              "#0d0887"
             ],
             [
              0.1111111111111111,
              "#46039f"
             ],
             [
              0.2222222222222222,
              "#7201a8"
             ],
             [
              0.3333333333333333,
              "#9c179e"
             ],
             [
              0.4444444444444444,
              "#bd3786"
             ],
             [
              0.5555555555555556,
              "#d8576b"
             ],
             [
              0.6666666666666666,
              "#ed7953"
             ],
             [
              0.7777777777777778,
              "#fb9f3a"
             ],
             [
              0.8888888888888888,
              "#fdca26"
             ],
             [
              1,
              "#f0f921"
             ]
            ],
            "type": "histogram2d"
           }
          ],
          "histogram2dcontour": [
           {
            "colorbar": {
             "outlinewidth": 0,
             "ticks": ""
            },
            "colorscale": [
             [
              0,
              "#0d0887"
             ],
             [
              0.1111111111111111,
              "#46039f"
             ],
             [
              0.2222222222222222,
              "#7201a8"
             ],
             [
              0.3333333333333333,
              "#9c179e"
             ],
             [
              0.4444444444444444,
              "#bd3786"
             ],
             [
              0.5555555555555556,
              "#d8576b"
             ],
             [
              0.6666666666666666,
              "#ed7953"
             ],
             [
              0.7777777777777778,
              "#fb9f3a"
             ],
             [
              0.8888888888888888,
              "#fdca26"
             ],
             [
              1,
              "#f0f921"
             ]
            ],
            "type": "histogram2dcontour"
           }
          ],
          "mesh3d": [
           {
            "colorbar": {
             "outlinewidth": 0,
             "ticks": ""
            },
            "type": "mesh3d"
           }
          ],
          "parcoords": [
           {
            "line": {
             "colorbar": {
              "outlinewidth": 0,
              "ticks": ""
             }
            },
            "type": "parcoords"
           }
          ],
          "pie": [
           {
            "automargin": true,
            "type": "pie"
           }
          ],
          "scatter": [
           {
            "fillpattern": {
             "fillmode": "overlay",
             "size": 10,
             "solidity": 0.2
            },
            "type": "scatter"
           }
          ],
          "scatter3d": [
           {
            "line": {
             "colorbar": {
              "outlinewidth": 0,
              "ticks": ""
             }
            },
            "marker": {
             "colorbar": {
              "outlinewidth": 0,
              "ticks": ""
             }
            },
            "type": "scatter3d"
           }
          ],
          "scattercarpet": [
           {
            "marker": {
             "colorbar": {
              "outlinewidth": 0,
              "ticks": ""
             }
            },
            "type": "scattercarpet"
           }
          ],
          "scattergeo": [
           {
            "marker": {
             "colorbar": {
              "outlinewidth": 0,
              "ticks": ""
             }
            },
            "type": "scattergeo"
           }
          ],
          "scattergl": [
           {
            "marker": {
             "colorbar": {
              "outlinewidth": 0,
              "ticks": ""
             }
            },
            "type": "scattergl"
           }
          ],
          "scattermapbox": [
           {
            "marker": {
             "colorbar": {
              "outlinewidth": 0,
              "ticks": ""
             }
            },
            "type": "scattermapbox"
           }
          ],
          "scatterpolar": [
           {
            "marker": {
             "colorbar": {
              "outlinewidth": 0,
              "ticks": ""
             }
            },
            "type": "scatterpolar"
           }
          ],
          "scatterpolargl": [
           {
            "marker": {
             "colorbar": {
              "outlinewidth": 0,
              "ticks": ""
             }
            },
            "type": "scatterpolargl"
           }
          ],
          "scatterternary": [
           {
            "marker": {
             "colorbar": {
              "outlinewidth": 0,
              "ticks": ""
             }
            },
            "type": "scatterternary"
           }
          ],
          "surface": [
           {
            "colorbar": {
             "outlinewidth": 0,
             "ticks": ""
            },
            "colorscale": [
             [
              0,
              "#0d0887"
             ],
             [
              0.1111111111111111,
              "#46039f"
             ],
             [
              0.2222222222222222,
              "#7201a8"
             ],
             [
              0.3333333333333333,
              "#9c179e"
             ],
             [
              0.4444444444444444,
              "#bd3786"
             ],
             [
              0.5555555555555556,
              "#d8576b"
             ],
             [
              0.6666666666666666,
              "#ed7953"
             ],
             [
              0.7777777777777778,
              "#fb9f3a"
             ],
             [
              0.8888888888888888,
              "#fdca26"
             ],
             [
              1,
              "#f0f921"
             ]
            ],
            "type": "surface"
           }
          ],
          "table": [
           {
            "cells": {
             "fill": {
              "color": "#EBF0F8"
             },
             "line": {
              "color": "white"
             }
            },
            "header": {
             "fill": {
              "color": "#C8D4E3"
             },
             "line": {
              "color": "white"
             }
            },
            "type": "table"
           }
          ]
         },
         "layout": {
          "annotationdefaults": {
           "arrowcolor": "#2a3f5f",
           "arrowhead": 0,
           "arrowwidth": 1
          },
          "autotypenumbers": "strict",
          "coloraxis": {
           "colorbar": {
            "outlinewidth": 0,
            "ticks": ""
           }
          },
          "colorscale": {
           "diverging": [
            [
             0,
             "#8e0152"
            ],
            [
             0.1,
             "#c51b7d"
            ],
            [
             0.2,
             "#de77ae"
            ],
            [
             0.3,
             "#f1b6da"
            ],
            [
             0.4,
             "#fde0ef"
            ],
            [
             0.5,
             "#f7f7f7"
            ],
            [
             0.6,
             "#e6f5d0"
            ],
            [
             0.7,
             "#b8e186"
            ],
            [
             0.8,
             "#7fbc41"
            ],
            [
             0.9,
             "#4d9221"
            ],
            [
             1,
             "#276419"
            ]
           ],
           "sequential": [
            [
             0,
             "#0d0887"
            ],
            [
             0.1111111111111111,
             "#46039f"
            ],
            [
             0.2222222222222222,
             "#7201a8"
            ],
            [
             0.3333333333333333,
             "#9c179e"
            ],
            [
             0.4444444444444444,
             "#bd3786"
            ],
            [
             0.5555555555555556,
             "#d8576b"
            ],
            [
             0.6666666666666666,
             "#ed7953"
            ],
            [
             0.7777777777777778,
             "#fb9f3a"
            ],
            [
             0.8888888888888888,
             "#fdca26"
            ],
            [
             1,
             "#f0f921"
            ]
           ],
           "sequentialminus": [
            [
             0,
             "#0d0887"
            ],
            [
             0.1111111111111111,
             "#46039f"
            ],
            [
             0.2222222222222222,
             "#7201a8"
            ],
            [
             0.3333333333333333,
             "#9c179e"
            ],
            [
             0.4444444444444444,
             "#bd3786"
            ],
            [
             0.5555555555555556,
             "#d8576b"
            ],
            [
             0.6666666666666666,
             "#ed7953"
            ],
            [
             0.7777777777777778,
             "#fb9f3a"
            ],
            [
             0.8888888888888888,
             "#fdca26"
            ],
            [
             1,
             "#f0f921"
            ]
           ]
          },
          "colorway": [
           "#636efa",
           "#EF553B",
           "#00cc96",
           "#ab63fa",
           "#FFA15A",
           "#19d3f3",
           "#FF6692",
           "#B6E880",
           "#FF97FF",
           "#FECB52"
          ],
          "font": {
           "color": "#2a3f5f"
          },
          "geo": {
           "bgcolor": "white",
           "lakecolor": "white",
           "landcolor": "#E5ECF6",
           "showlakes": true,
           "showland": true,
           "subunitcolor": "white"
          },
          "hoverlabel": {
           "align": "left"
          },
          "hovermode": "closest",
          "mapbox": {
           "style": "light"
          },
          "paper_bgcolor": "white",
          "plot_bgcolor": "#E5ECF6",
          "polar": {
           "angularaxis": {
            "gridcolor": "white",
            "linecolor": "white",
            "ticks": ""
           },
           "bgcolor": "#E5ECF6",
           "radialaxis": {
            "gridcolor": "white",
            "linecolor": "white",
            "ticks": ""
           }
          },
          "scene": {
           "xaxis": {
            "backgroundcolor": "#E5ECF6",
            "gridcolor": "white",
            "gridwidth": 2,
            "linecolor": "white",
            "showbackground": true,
            "ticks": "",
            "zerolinecolor": "white"
           },
           "yaxis": {
            "backgroundcolor": "#E5ECF6",
            "gridcolor": "white",
            "gridwidth": 2,
            "linecolor": "white",
            "showbackground": true,
            "ticks": "",
            "zerolinecolor": "white"
           },
           "zaxis": {
            "backgroundcolor": "#E5ECF6",
            "gridcolor": "white",
            "gridwidth": 2,
            "linecolor": "white",
            "showbackground": true,
            "ticks": "",
            "zerolinecolor": "white"
           }
          },
          "shapedefaults": {
           "line": {
            "color": "#2a3f5f"
           }
          },
          "ternary": {
           "aaxis": {
            "gridcolor": "white",
            "linecolor": "white",
            "ticks": ""
           },
           "baxis": {
            "gridcolor": "white",
            "linecolor": "white",
            "ticks": ""
           },
           "bgcolor": "#E5ECF6",
           "caxis": {
            "gridcolor": "white",
            "linecolor": "white",
            "ticks": ""
           }
          },
          "title": {
           "x": 0.05
          },
          "xaxis": {
           "automargin": true,
           "gridcolor": "white",
           "linecolor": "white",
           "ticks": "",
           "title": {
            "standoff": 15
           },
           "zerolinecolor": "white",
           "zerolinewidth": 2
          },
          "yaxis": {
           "automargin": true,
           "gridcolor": "white",
           "linecolor": "white",
           "ticks": "",
           "title": {
            "standoff": 15
           },
           "zerolinecolor": "white",
           "zerolinewidth": 2
          }
         }
        },
        "xaxis": {
         "anchor": "y2",
         "autorange": true,
         "domain": [
          0,
          1
         ],
         "range": [
          10,
          96.826
         ],
         "type": "linear",
         "zeroline": false
        },
        "yaxis": {
         "anchor": "free",
         "autorange": true,
         "domain": [
          0,
          1
         ],
         "position": 0,
         "range": [
          -0.006005475751841911,
          0.11410403928500572
         ],
         "type": "linear"
        }
       }
      },
      "image/png": "[encoded data removed]",
      "text/html": [
       "<div>                            <div id=\"2ffe1507-b769-43f8-9f00-bc9a464ec7df\" class=\"plotly-graph-div\" style=\"height:525px; width:100%;\"></div>            <script type=\"text/javascript\">                require([\"plotly\"], function(Plotly) {                    window.PLOTLYENV=window.PLOTLYENV || {};                                    if (document.getElementById(\"2ffe1507-b769-43f8-9f00-bc9a464ec7df\")) {                    Plotly.newPlot(                        \"2ffe1507-b769-43f8-9f00-bc9a464ec7df\",                        [{\"legendgroup\":\"AOverall Age\",\"marker\":{\"color\":\"rgb(31, 119, 180)\"},\"mode\":\"lines\",\"name\":\"AOverall Age\",\"showlegend\":true,\"x\":[10.0,10.174,10.348,10.522,10.696,10.87,11.044,11.218,11.392,11.566,11.74,11.914,12.088000000000001,12.262,12.436,12.61,12.783999999999999,12.958,13.132,13.306000000000001,13.48,13.654,13.828,14.001999999999999,14.176,14.35,14.524000000000001,14.698,14.872,15.046,15.219999999999999,15.394,15.568,15.742,15.916,16.09,16.264,16.438,16.612000000000002,16.786,16.96,17.134,17.308,17.482,17.656,17.83,18.003999999999998,18.178,18.352,18.526,18.7,18.874000000000002,19.048000000000002,19.222,19.396,19.57,19.744,19.918,20.092,20.266,20.439999999999998,20.614,20.788,20.962,21.136,21.310000000000002,21.484,21.658,21.832,22.006,22.18,22.354,22.528,22.701999999999998,22.875999999999998,23.05,23.224,23.398,23.572,23.746000000000002,23.92,24.094,24.268,24.442,24.616,24.79,24.964,25.137999999999998,25.311999999999998,25.486,25.66,25.834,26.008,26.182,26.356,26.53,26.704,26.878,27.052,27.226,27.4,27.574,27.748,27.922,28.096,28.27,28.444,28.618,28.792,28.966,29.14,29.314,29.488,29.662,29.836,30.01,30.184,30.358,30.532,30.706,30.88,31.054,31.228,31.402,31.576,31.75,31.924,32.098,32.272,32.446,32.620000000000005,32.794,32.968,33.141999999999996,33.316,33.489999999999995,33.664,33.838,34.012,34.186,34.36,34.534,34.708,34.882000000000005,35.056,35.230000000000004,35.403999999999996,35.578,35.751999999999995,35.926,36.1,36.274,36.448,36.622,36.796,36.97,37.144,37.318,37.492000000000004,37.666,37.84,38.013999999999996,38.188,38.361999999999995,38.536,38.71,38.884,39.058,39.232,39.406,39.58,39.754000000000005,39.928,40.102000000000004,40.275999999999996,40.45,40.623999999999995,40.798,40.972,41.146,41.32,41.494,41.668,41.842,42.016,42.19,42.364,42.538,42.712,42.886,43.06,43.234,43.408,43.582,43.756,43.93,44.104,44.278,44.452,44.626,44.8,44.974,45.148,45.322,45.496,45.67,45.844,46.018,46.192,46.366,46.54,46.714,46.888,47.062,47.236,47.41,47.584,47.758,47.932,48.106,48.28,48.454,48.628,48.802,48.976,49.15,49.324,49.498,49.672,49.846,50.02,50.194,50.368,50.542,50.716,50.89,51.064,51.238,51.412,51.586,51.76,51.934,52.108,52.282,52.456,52.63,52.804,52.978,53.152,53.326,53.5,53.674,53.848,54.022,54.196,54.37,54.544,54.718,54.892,55.066,55.24,55.414,55.588,55.762,55.936,56.11,56.284,56.458,56.632,56.806,56.98,57.154,57.328,57.502,57.676,57.85,58.024,58.198,58.372,58.546,58.72,58.894,59.068,59.242,59.416,59.59,59.764,59.938,60.112,60.286,60.46,60.634,60.808,60.982,61.156,61.33,61.504,61.678,61.852,62.026,62.2,62.374,62.548,62.722,62.896,63.07,63.244,63.418,63.592,63.766,63.94,64.114,64.288,64.462,64.636,64.81,64.98400000000001,65.158,65.332,65.506,65.68,65.854,66.02799999999999,66.202,66.376,66.55,66.72399999999999,66.898,67.072,67.24600000000001,67.42,67.594,67.768,67.94200000000001,68.116,68.28999999999999,68.464,68.638,68.812,68.98599999999999,69.16,69.334,69.50800000000001,69.682,69.856,70.03,70.20400000000001,70.378,70.55199999999999,70.726,70.9,71.074,71.24799999999999,71.422,71.596,71.77000000000001,71.944,72.118,72.292,72.46600000000001,72.64,72.814,72.988,73.162,73.336,73.50999999999999,73.684,73.858,74.032,74.206,74.38,74.554,74.728,74.902,75.076,75.25,75.424,75.598,75.772,75.946,76.12,76.294,76.468,76.642,76.816,76.99,77.164,77.338,77.512,77.686,77.86,78.034,78.208,78.382,78.556,78.73,78.904,79.078,79.252,79.426,79.6,79.774,79.948,80.122,80.296,80.47,80.644,80.818,80.992,81.166,81.34,81.514,81.688,81.862,82.036,82.21,82.384,82.558,82.732,82.906,83.08,83.254,83.428,83.602,83.776,83.95,84.124,84.298,84.472,84.646,84.82,84.994,85.168,85.342,85.516,85.69,85.864,86.038,86.212,86.386,86.56,86.734,86.908,87.082,87.256,87.43,87.604,87.778,87.952,88.126,88.3,88.474,88.648,88.822,88.996,89.17,89.344,89.518,89.692,89.866,90.04,90.214,90.388,90.562,90.736,90.91,91.084,91.258,91.432,91.606,91.78,91.954,92.128,92.302,92.476,92.65,92.824,92.998,93.172,93.346,93.52,93.694,93.868,94.042,94.216,94.39,94.564,94.738,94.912,95.086,95.26,95.434,95.608,95.782,95.956,96.13,96.304,96.478,96.652,96.826],\"xaxis\":\"x\",\"y\":[1.0695195716989117e-05,1.3464104361132526e-05,1.7046194382555044e-05,2.1899824190887452e-05,2.865922513609091e-05,3.818427880025049e-05,5.1543676301118566e-05,6.987699964819076e-05,9.423459723133053e-05,0.00012564322913068636,0.00016555176962339182,0.00021641132902107925,0.0002817816521824398,0.0003655785983572818,0.00047098612072901756,0.0006003436908005671,0.0007568090270171761,0.0009466577140528735,0.00117947872048005,0.0014646272966631392,0.0018061941370278894,0.0022018440467008295,0.002648702503520038,0.003152154259549166,0.0037278005669640186,0.004390764794288222,0.0051393325934540384,0.005949534915848407,0.00679087910112219,0.007652903614171944,0.008557100035417564,0.009538309980630441,0.01060978275613107,0.011747273701498686,0.012913379761745055,0.014102163207168292,0.015357648072144368,0.01674135703489714,0.018277896946654083,0.019937272617529155,0.021679260972163383,0.023516521130823316,0.02552337259459293,0.027768396541796872,0.030235633254609304,0.032825533478708355,0.03545068759647512,0.038133145619728664,0.0409906339297888,0.04410688822193895,0.047413918731563275,0.05072256864683754,0.0538921142416185,0.05697191405506583,0.060155487604027974,0.06357468368970523,0.06714166924658581,0.07061621013404423,0.07384415422971917,0.07691665671272777,0.08006197508916879,0.08336043762169881,0.08658032567559168,0.08933143552530312,0.0914069824050788,0.09297113190137199,0.09438899873192172,0.09586053611462707,0.0972301050102457,0.0981680515581808,0.09853320183153297,0.09853283085843231,0.09850817339289271,0.09857004232776534,0.09847088856285695,0.09785296856445488,0.09661717866671168,0.0950313440475289,0.09347105536328972,0.09206749576011479,0.09062380463546685,0.08887075479984072,0.0867790033750936,0.08460012309547024,0.08260702881785334,0.0808200142001673,0.07900646987596978,0.07694268706697519,0.07465271359761409,0.0723770040219579,0.07031777599146868,0.06843799309963712,0.06651983368727078,0.06440689243167846,0.06216775583818056,0.060016045106067534,0.05808511496162052,0.056300212174632214,0.05447384185784765,0.05250987208369408,0.05049655385243626,0.04859900152043319,0.04687657915193591,0.04522096584433536,0.043473050325543196,0.0415880842317232,0.03967748895682199,0.03789397603285487,0.03628831306164639,0.03478325534765563,0.03327732036153511,0.03175756916158278,0.03030366678281365,0.028989774763053942,0.027797108980864835,0.026629804934531404,0.025411786851551845,0.02415967565928165,0.022959203268434907,0.021876951025986184,0.020901886020492217,0.01997151590124801,0.019045698797472584,0.018146465965930825,0.017326110907046707,0.01660445121148066,0.01594479849566012,0.015291586006591305,0.01462596927825273,0.013980218485376271,0.01339922295439107,0.012893190557470673,0.012430860836624926,0.011975981361826229,0.011524307333093526,0.011101519811735665,0.010727172863303666,0.010385955883854686,0.010037638342779343,0.009654472944946157,0.009246350558822095,0.008848556683238643,0.008486695217491284,0.00815541599639031,0.007830533923532253,0.007498516640503182,0.007171251701719055,0.006872334079681399,0.006611932474547974,0.006377615707746398,0.006149405667997146,0.005921193817922341,0.005705421203163757,0.00551741221710314,0.005357580497788336,0.005210703908380409,0.005062016491400437,0.004911937655287956,0.0047737666799822,0.004657724645816486,0.004559131071737898,0.004463188714034259,0.00436049324945169,0.004256177801808515,0.004163147209742433,0.004087262479235668,0.0040206128680620856,0.003949707248334141,0.0038691542178501933,0.0037858143713137143,0.003709111201224959,0.0036382534259292785,0.00356038292060917,0.003461988134260601,0.0033420399860769876,0.0032137793269373894,0.003093965157199853,0.002990768594343878,0.0029016821067698114,0.002821529993390495,0.0027504581237439577,0.002693157952901574,0.00265114417292466,0.0026177048317818615,0.002581904002469378,0.00253775654231207,0.002488836798597667,0.0024434072200045136,0.0024052408377906293,0.0023697309983158827,0.002329044697205701,0.0022804474053208018,0.002228813679170873,0.002180823418949833,0.0021372571521717626,0.002091654368855859,0.0020366807144833227,0.0019714448879785927,0.0019022402033994443,0.0018362470866839795,0.0017749331099166715,0.0017137887338982344,0.001648172908188122,0.0015788933088418575,0.0015119508816592473,0.0014532674802532131,0.001404175079263524,0.001362005089719793,0.0013243512461259322,0.001291900392300899,0.0012668361472673556,0.0012490131955336273,0.0012345572047343073,0.0012187291349552046,0.0012000884712735286,0.0011815093216633414,0.0011669842706804013,0.0011576250784726724,0.0011509789146196916,0.0011440430316933111,0.0011363183439285652,0.0011292956378689241,0.0011228299412019888,0.0011125016993597052,0.0010913213372081181,0.001054735780854626,0.0010044349574127565,0.0009474936206421702,0.0008917732013556353,0.000841762336176954,0.0007980757554627734,0.0007600086905661102,0.0007279085539109339,0.0007030887572937088,0.0006860681754086718,0.0006756139955742714,0.0006697742824908813,0.0006675571977061753,0.0006691072427218083,0.0006740171379128624,0.0006797157732644337,0.000682036007116823,0.00067781339174628,0.0006671047210008803,0.0006528163135212798,0.0006380523036977384,0.0006237182719868448,0.0006085495971953017,0.0005912159820667173,0.0005721357209873067,0.0005531466434423352,0.0005355514898109151,0.0005187324843417986,0.0005008274344833841,0.00048075265669410245,0.0004595163407411283,0.0004396031689793059,0.0004231992822501004,0.0004110345215328418,0.0004027097819324983,0.00039769552257260427,0.0003955989367011835,0.0003953599630184762,0.00039447983533969253,0.00038956631028884664,0.0003781684515632473,0.0003604662628884201,0.0003393676521357131,0.00031895736284160277,0.000302612115797675,0.00029212236185413256,0.0002879772312106567,0.000289913102393014,0.00029695039585909966,0.0003071302870067644,0.00031776991789827033,0.00032653644279701086,0.00033258096869671265,0.0003366299250390106,0.00033981537830026534,0.00034228174662751047,0.0003428916309577468,0.0003402947581935946,0.00033426846209234933,0.0003259787707866772,0.0003169180249618956,0.00030760544669726774,0.00029733706717169773,0.0002851799988138591,0.0002711804062739703,0.00025662489837799374,0.00024320601274091104,0.00023198886836756582,0.00022311701720921184,0.00021630966213754413,0.00021140489988404984,0.00020831090107877989,0.0002065230426731948,0.0002049156081943949,0.00020221766259029739,0.0001977908548008599,0.0001919311058208392,0.0001853598839958789,0.00017838846512452987,0.00017057400885279228,0.00016120249535741556,0.00015014027333854916,0.00013828402547031373,0.0001272635502464241,0.00011872448479782193,0.00011377155746420847,0.00011282900252221926,0.00011571756463958038,0.00012166416419998955,0.00012927141194883692,0.00013673647855250382,0.000142448783974426,0.0001456513608154919,0.0001466326117961367,0.0001462366436741356,0.00014507755299703718,0.00014311963713478296,0.00013993892016486448,0.00013533980341087117,0.00012969661498081578,0.00012370913307950825,0.00011785722235055657,0.00011210802997420044,0.00010613125231264925,9.975759735238983e-05,9.320837302746672e-05,8.690317929959586e-05,8.108941027061674e-05,7.568213903265053e-05,7.044832964015904e-05,6.531701189234897e-05,6.0506526077231236e-05,5.638203347874152e-05,5.322451067902184e-05,5.113462885030344e-05,5.010998442962145e-05,5.015332861161005e-05,5.128236649760989e-05,5.3468687216641405e-05,5.6626223652122887e-05,6.068237277558549e-05,6.561017168956804e-05,7.128906399765134e-05,7.725105954127874e-05,8.25678737469404e-05,8.609606213387293e-05,8.70005541373834e-05,8.518877967895688e-05,8.130721247716894e-05,7.629491182981569e-05,7.084798964987256e-05,6.519412974350563e-05,5.927953779792144e-05,5.312374301840541e-05,4.701128257662907e-05,4.139816610949196e-05,3.6677094210583204e-05,3.302237340006578e-05,3.0400283521363183e-05,2.866169309531318e-05,2.759917535818472e-05,2.6947450296204683e-05,2.6397580315422843e-05,2.5678188810715147e-05,2.4663736970097047e-05,2.341610187727989e-05,2.211518695751704e-05,2.093375113496334e-05,1.995573507182e-05,1.9184069510183777e-05,1.8594638194459615e-05,1.816116975796364e-05,1.7827292422214217e-05,1.747354748587488e-05,1.6939302105332837e-05,1.6101065343982785e-05,1.4944329595834579e-05,1.3564308346667573e-05,1.2093344128608143e-05,1.0616506914271506e-05,9.142075989616051e-06,7.640864348769456e-06,6.111061146684313e-06,4.612733381196525e-06,3.250196603641832e-06,2.1237486682600845e-06,1.2891798910037105e-06,7.48991650899714e-07,4.733633385117181e-07,4.3238447152619606e-07,6.197568864898851e-07,1.0558740914567105e-06,1.7680014947310116e-06,2.755336025059579e-06,3.956507956590915e-06,5.2416654367436455e-06,6.442669929723864e-06,7.411865392741831e-06,8.075784092014037e-06,8.446638068716309e-06,8.581211361086107e-06,8.516852788622255e-06,8.23419577834912e-06,7.676256007556399e-06,6.808657415065455e-06,5.673710894743689e-06,4.397839131982345e-06,3.148679809442655e-06,2.072666930366695e-06,1.2507732368158747e-06,6.90715655326104e-07,3.4867597063617163e-07,1.6079229197288478e-07,6.771129263552512e-08,2.603214407941965e-08,9.135926400509784e-09,2.9265370844500496e-09,8.556448087487769e-10,2.28327797226409e-10,5.5608689976481506e-11,1.2360739759207125e-11,2.508442308439314e-12,4.707708219913096e-13,1.2186611767634715e-13,2.766944720448481e-13,1.473454055497709e-12,7.47147821682751e-12,3.461477984233387e-11,1.4636481823770925e-10,5.648330914583234e-10,1.9893517485824475e-09,6.394565389650929e-09,1.8759380421419744e-08,5.0226620011508056e-08,1.2273188975849803e-07,2.7370888421706025e-07,5.570938604140772e-07,1.0348463096677717e-06,1.7544110068867865e-06,2.7145311927297833e-06,3.833242853664008e-06,4.9402148626781884e-06,5.810765457860634e-06,6.23776284981575e-06,6.111282753667524e-06,5.464417849873816e-06,4.459266518836325e-06,3.3211689064019075e-06,2.257493465366008e-06,1.4004578603342068e-06,7.92905799008656e-07,4.0971432425069147e-07,1.9321850014367962e-07,8.316187458579355e-08,3.266689369365894e-08,1.1711146481713282e-08,3.831766110561518e-09,1.1442122052366369e-09,3.1183306620279754e-10,7.756142135518814e-11,1.7606675429233963e-11,3.6476819368060116e-12,6.897069128048954e-13,1.1902019712692842e-13,1.8746311515223602e-14,2.7076353918980613e-15,4.698376994282082e-16,9.734103624157575e-16,6.803050078567977e-15,4.5304015121394905e-14,2.7552745969375407e-13,1.529348551814882e-12,7.747435908801181e-12,3.58195938395566e-11,1.5114599396209144e-10,5.820892979930039e-10,2.046000728203294e-09,6.563804528091267e-09,1.922015605040972e-08,5.137354651099578e-08,1.2535859904758867e-07,2.7930966939275853e-07,5.684322998831287e-07,1.0572404170980172e-06,1.7987646663054218e-06,2.803815717709252e-06,4.0141536610082255e-06,5.299817142615363e-06,6.493159717647264e-06,7.449273844885438e-06,8.098895809425095e-06,8.457555712723582e-06,8.582535341631593e-06,8.509013693506824e-06,8.21503283234191e-06],\"yaxis\":\"y\",\"type\":\"scatter\"},{\"legendgroup\":\"Gold Medalist\",\"marker\":{\"color\":\"rgb(255, 127, 14)\"},\"mode\":\"lines\",\"name\":\"Gold Medalist\",\"showlegend\":true,\"x\":[13.0,13.102,13.204,13.306,13.408,13.51,13.612,13.714,13.816,13.918,14.02,14.122,14.224,14.326,14.428,14.53,14.632,14.734,14.836,14.938,15.04,15.142,15.244,15.346,15.448,15.55,15.652000000000001,15.754,15.856,15.958,16.06,16.162,16.264,16.366,16.468,16.57,16.672,16.774,16.876,16.978,17.08,17.182000000000002,17.284,17.386,17.488,17.59,17.692,17.794,17.896,17.998,18.1,18.201999999999998,18.304000000000002,18.406,18.508,18.61,18.712,18.814,18.916,19.018,19.12,19.222,19.323999999999998,19.426000000000002,19.528,19.63,19.732,19.834,19.936,20.038,20.14,20.242,20.344,20.445999999999998,20.548000000000002,20.65,20.752,20.854,20.956,21.058,21.16,21.262,21.364,21.466,21.567999999999998,21.67,21.772,21.874000000000002,21.976,22.078,22.18,22.282,22.384,22.486,22.588,22.689999999999998,22.792,22.894,22.996000000000002,23.098,23.2,23.302,23.404,23.506,23.608,23.71,23.811999999999998,23.914,24.016,24.118000000000002,24.22,24.322,24.424,24.526,24.628,24.73,24.832,24.933999999999997,25.036,25.137999999999998,25.240000000000002,25.342,25.444000000000003,25.546,25.648,25.75,25.852,25.954,26.055999999999997,26.158,26.259999999999998,26.362000000000002,26.464,26.566000000000003,26.668,26.77,26.872,26.974,27.076,27.178,27.28,27.381999999999998,27.484,27.586,27.688000000000002,27.79,27.892,27.994,28.096,28.198,28.3,28.402,28.503999999999998,28.606,28.708,28.810000000000002,28.912,29.014,29.116,29.218,29.32,29.422,29.524,29.626,29.728,29.83,29.932,30.034,30.136,30.238,30.34,30.442,30.544,30.646,30.748,30.85,30.952,31.054,31.156,31.258,31.36,31.462,31.564,31.666,31.768,31.87,31.972,32.074,32.176,32.278,32.379999999999995,32.482,32.584,32.686,32.788,32.89,32.992000000000004,33.094,33.196,33.298,33.4,33.501999999999995,33.604,33.706,33.808,33.91,34.012,34.114000000000004,34.216,34.318,34.42,34.522,34.623999999999995,34.726,34.828,34.93,35.032,35.134,35.236000000000004,35.338,35.44,35.542,35.644,35.745999999999995,35.848,35.95,36.052,36.153999999999996,36.256,36.358000000000004,36.46,36.562,36.664,36.766,36.867999999999995,36.97,37.072,37.174,37.275999999999996,37.378,37.480000000000004,37.582,37.684,37.786,37.888000000000005,37.989999999999995,38.092,38.194,38.296,38.397999999999996,38.5,38.602000000000004,38.704,38.806,38.908,39.010000000000005,39.111999999999995,39.214,39.316,39.418,39.519999999999996,39.622,39.724000000000004,39.826,39.928,40.03,40.132000000000005,40.234,40.336,40.438,40.54,40.641999999999996,40.744,40.846000000000004,40.948,41.05,41.152,41.254000000000005,41.356,41.458,41.56,41.662,41.763999999999996,41.866,41.968,42.07,42.172,42.274,42.376000000000005,42.478,42.58,42.682,42.784,42.885999999999996,42.988,43.09,43.192,43.294,43.396,43.498000000000005,43.6,43.702,43.804,43.906,44.007999999999996,44.11,44.212,44.314,44.416,44.518,44.620000000000005,44.722,44.824,44.926,45.028,45.13,45.232,45.334,45.436,45.538,45.64,45.742,45.844,45.946,46.048,46.15,46.252,46.354,46.456,46.558,46.66,46.762,46.864,46.966,47.068,47.17,47.272,47.374,47.476,47.578,47.68,47.782,47.884,47.986,48.088,48.19,48.292,48.394,48.496,48.598,48.7,48.802,48.904,49.006,49.108,49.21,49.312,49.414,49.516,49.618,49.72,49.822,49.924,50.026,50.128,50.23,50.332,50.434,50.536,50.638,50.74,50.842,50.944,51.046,51.148,51.25,51.352,51.454,51.556,51.658,51.76,51.862,51.964,52.066,52.168,52.27,52.372,52.474,52.576,52.678,52.78,52.882,52.984,53.086,53.188,53.29,53.392,53.494,53.596,53.698,53.8,53.902,54.004,54.106,54.208,54.31,54.412,54.514,54.616,54.718,54.82,54.922,55.024,55.126,55.228,55.33,55.432,55.534,55.636,55.738,55.84,55.942,56.044,56.146,56.248,56.35,56.452,56.554,56.656,56.758,56.86,56.962,57.064,57.166,57.268,57.37,57.472,57.574,57.676,57.778,57.88,57.982,58.084,58.186,58.288,58.39,58.492,58.594,58.696,58.798,58.9,59.002,59.104,59.206,59.308,59.41,59.512,59.614,59.716,59.818,59.92,60.022,60.124,60.226,60.328,60.43,60.532,60.634,60.736,60.838,60.94,61.042,61.144,61.246,61.348,61.45,61.552,61.654,61.756,61.858,61.96,62.062,62.164,62.266,62.368,62.47,62.572,62.674,62.776,62.878,62.98,63.082,63.184,63.286,63.388,63.49,63.592,63.694,63.796,63.898],\"xaxis\":\"x\",\"y\":[0.000989956930724904,0.0010840058412850625,0.0011849939136809966,0.001293834274288257,0.0014115053877012376,0.0015390086130240154,0.001677321722894873,0.0018273523845645633,0.0019898959068589237,0.002165601446944246,0.002354950327582801,0.002558249166824822,0.0027756392428900513,0.0030071220243901575,0.003252599238240301,0.0035119243884128193,0.0037849614389396063,0.004071645573024767,0.004372040636233515,0.004686388112854645,0.005015143259463706,0.005358995259121727,0.005718869843449954,0.006095914600222965,0.0064914689621719274,0.006907022476683592,0.007344166219206515,0.007804542999465204,0.008289802226607787,0.008801564907382346,0.009341403268434677,0.00991083799627678,0.010511354207143001,0.011144435169527393,0.011811610710539471,0.01251451536037981,0.013254949832961426,0.014034938576563395,0.01485677597316936,0.01572305436533093,0.01663666841368861,0.017600792228439157,0.0186188280988811,0.019694328241168485,0.020830893541822815,0.02203205553542105,0.023301149581778913,0.024641188207459648,0.026054743719599403,0.02754384843942184,0.029109919283757776,0.030753711085784518,0.03247530022025379,0.03427409708037327,0.03614888307711368,0.0380978654255809,0.04011874132721194,0.042208762441028905,0.04436479083570122,0.04658333887439138,0.048860587540577496,0.05119238031700161,0.05357419259175638,0.056001079396952515,0.05846760683369776,0.060967774602649086,0.06349493850094672,0.06604174247033866,0.06860006973250475,0.07116102170327294,0.0737149317532252,0.07625141854958364,0.07875948082027484,0.08122763216140523,0.08364407128100634,0.0859968802001918,0.08827424077467899,0.09046465873043641,0.09255718435878844,0.09454162003247786,0.09640870654525192,0.09815028256419826,0.09975941378264644,0.10123049028439844,0.10255929192665537,0.10374302216020356,0.10478031076836121,0.10567118580413783,0.10641701487913491,0.10702041620614583,0.1074851405901435,0.10781592689182964,0.10801833517858145,0.10809856353316334,0.10806325597587006,0.10791930988339385,0.10767369148007097,0.10733326739750357,0.10690465904067725,0.10639412474557494,0.10580747268477805,0.10515000538258991,0.10442649470771949,0.10364118444189384,0.10279781606405466,0.10189967231375958,0.10094963247068102,0.09995023316940445,0.09890372899699248,0.09781214808284446,0.09667733930628121,0.09550100946250385,0.09428475053056218,0.09303005884013646,0.09173834922161912,0.0904109679895971,0.08904920878329377,0.08765433488617527,0.08622761075963589,0.08477034427941442,0.08328393969443483,0.08176995975879668,0.0802301939255097,0.07866672803570339,0.07708200970210011,0.07547890270770265,0.07386072337966623,0.07223125221358992,0.07059471513619377,0.06895573074158676,0.06731922253509692,0.06569029845028425,0.06407410332977,0.06247565326211518,0.06089966321639488,0.05935038094273295,0.057831440361346055,0.05634574655523035,0.05489540209540846,0.05348168100045363,0.052105052519912515,0.05076525255800627,0.04946139636126401,0.0481921224940721,0.04695575546642735,0.045750472912235864,0.04457446308460244,0.04342605965213136,0.04230384323359298,0.041206702560621214,0.04013385226752237,0.039084808659028185,0.038059328955617706,0.03705732303659705,0.036078749237485774,0.035123507065253225,0.03419133966439505,0.03328175753514666,0.03239399254246245,0.03152698793835191,0.030679426301078613,0.029849793356181875,0.029036471967198833,0.02823785751286638,0.027452483684347734,0.026679146637273995,0.025917015514022857,0.025165718594942016,0.02442539661155297,0.023696717823922776,0.022980853007010704,0.02227941213524538,0.021594347920882283,0.020927834108378948,0.020282128294137416,0.019659429881359117,0.019061743574832982,0.018490757675500905,0.017947744556530705,0.017433488364283867,0.01694824248528805,0.016491716931952095,0.01606309375052758,0.01566106699426891,0.01528390279801744,0.014929514622233186,0.014595548723766276,0.014279475233235634,0.013978680732420538,0.013690558794847511,0.01341259547276486,0.013142447121574419,0.012878008236478111,0.01261746717076959,0.012359347781795848,0.012102535297394728,0.011846285096207077,0.011590213707305914,0.011334272173369318,0.011078702951610819,0.010823982663613375,0.010570754127453813,0.010319752073283011,0.010071727621766318,0.009827376885178893,0.009587278869587048,0.00935184720392542,0.009121299144458844,0.008895643897243672,0.008674690700014597,0.00845807546241882,0.008245303236924245,0.008035802525711596,0.00782898653710194,0.0076243160650066805,0.00742135870654857,0.007219839637321972,0.007019680064853106,0.006821020673483232,0.006624228725809752,0.006429888853614871,0.00623877881824121,0.006051832533951837,0.005870093352872197,0.005694660977224118,0.005526635410582282,0.0053670611411966536,0.005216874350108991,0.00507685544794913,0.0049475887528089854,0.0048294306914237655,0.004722487569362869,0.004626603710661597,0.004541360579961311,0.004466087316029612,0.004399882862055384,0.0043416495202747655,0.004290137252679586,0.004243997394220086,0.004201843675809752,0.004162317643612901,0.0041241548092738394,0.004086247289131445,0.004047698403547626,0.004007864804399669,0.003966382236064341,0.0039231720186701366,0.003878426720605045,0.003832575153053954,0.003786228619366502,0.003740112103593745,0.0036949855951089027,0.0036515618451895653,0.0036104274001630683,0.0035719736734226657,0.00353634409149115,0.003503402033531165,0.0034727225001954538,0.003443608369288517,0.003415129928249477,0.0033861843333181122,0.003355569935392647,0.0033220692002097845,0.0032845333484759235,0.0032419618962089515,0.0031935709618053478,0.0031388454317665057,0.0030775716937194806,0.0030098494688353323,0.00293608310800593,0.0028569543701346717,0.002773380022656188,0.0026864584898628426,0.0025974101787990538,0.0025075160500037394,0.002418058537711554,0.0023302681653558596,0.002245278271032284,0.002164089278577106,0.0020875430322262077,0.002016306938329089,0.0019508670748961353,0.0018915290540404577,0.0018384252402117215,0.0017915269046399527,0.00175065998889109,0.0017155233114973046,0.001685708240570694,0.0016607190417771698,0.0016399932767107563,0.0016229217643445985,0.00160886772890601,0.001597184846823487,0.0015872339797441076,0.0015783984444315811,0.001570097724602812,0.0015617995721097359,0.0015530304711513304,0.0015433844456699973,0.0015325301758001108,0.0015202163577557252,0.0015062752014494234,0.0014906239240879897,0.0014732640804773118,0.0014542785849996649,0.0014338263349350934,0.001412134441712105,0.0013894882093134539,0.0013662191532183255,0.0013426915090954498,0.0013192878158316936,0.0012963942517993515,0.0012743864410876974,0.0012536164200819809,0.0012344013655657086,0.001217014543332978,0.0012016787577981932,0.0011885623889695187,0.0011777779149370405,0.0011693826550605501,0.0011633813461025388,0.0011597300893894046,0.0011583411839945182,0.001159088385280798,0.0011618121915950802,0.0011663248531505956,0.0011724149036456218,0.0011798511248385648,0.001188385956648347,0.0011977584521943357,0.001207696942812016,0.0012179216189591737,0.0012281472472770992,0.0012380862314015023,0.0012474521850307078,0.0012559641220869888,0.0012633512840638673,0.0012693585246058522,0.0012737520644625097,0.0012763253272756773,0.0012769044811849197,0.0012753532564001423,0.001271576596514781,0.0012655227393798094,0.0012571834139497079,0.001246591977720829,0.0012338194931584496,0.0012189689328497872,0.0012021678903506427,0.0011835603344406247,0.0011632980588267656,0.0011415325324548595,0.0011184078397484213,0.0010940553153607068,0.0010685903319812339,0.0010421115063100677,0.0010147023660083644,0.000986435290330811,0.000957377320882613,0.0009275972568535033,0.0008971733185265454,0.000866200596772022,0.000834797511884978,0.0008031105831888945,0.0007713169549394595,0.0007396243209871913,0.0007082681212867005,0.0006775061245182173,0.0006476107381756565,0.0006188595773395047,0.000591524957336193,0.0005658630418810741,0.0005421033738587766,0.0005204394460800923,0.0005010208472838522,0.00048394736287515384,0.00046926524140912437,0.0004569656768781297,0.0004469854200053248,0.0004392093297740302,0.00043347461333719634,0.00042957647569792244,0.0004272749023254429,0.000426302317220376,0.00042637188423346416,0.0004271862406990159,0.00042844646315110294,0.00042986106293023255,0.00043115479709585037,0.0004320770628508868,0.000432409629004469,0.00043197345297972105,0.00043063434163237137,0.00042830724053315443,0.00042495897754832556,0.000420609337521466,0.00041533039876798234,0.00040924411209187887,0.00040251814418484287,0.00039536003805944533,0.00038800976623173613,0.000380730774156324,0.00037379964083905236,0.00036749452978950095,0.0003620826733968567,0.0003578072295301185,0.00035487396627526555,0.00035343835768550077,0.0003535937923135288,0.000355361684963967,0.0003586843174504182,0.0003634211960580159,0.0003693495887382438,0.0003761696908734865,0.0003835145740468122,0.00039096471940954186,0.00039806655848291853,0.00040435407928512913,0.0004093722464769754,0.0004127007691932374,0.0004139766586873037,0.00041291406549484263,0.000409320071701578,0.0004031054203906378,0.0003942895589558905,0.00038299981272206583,0.0003694649426571791,0.0003540037303402634,0.0003370095373689796,0.00031893198061200376,0.00030025694025563794,0.00028148608126734545,0.0002631169408574851,0.00024562444401321634,0.00022944448918248248,0.00021496002792169815,0.00020248987060158844,0.00019228030042669494,0.0001844994748458456,0.0001792345320748197,0.00017649128905668752,0.00017619640048283265,0.00017820183167401325,0.00018229147014098656,0.00018818965643545733,0.00019557135604626364,0.0002040736280013993,0.00021330798366763374,0.0002228731831128766,0.00023236799648416423,0.00024140347001666565,0.00024961428073139315,0.0002566688350847975,0.00026227785475812056,0.0002662012850063067,0.0002682534453817796,0.00026830640985548104,0.0002662916486758752,0.0002621999884826953,0.000256079955988494,0.0002480345731870311,0.00023821667892485928,0.00022682287174907647,0.00021408620752132507,0.00020026784254597216,0.0001856478836129814,0.00017051578047676163,0.00015516066113190145,0.0001398620526549804,0.00012488143933968396,0.00011045507861722011,9.678842271346435e-05,8.405238501624741e-05,7.238155487972283e-05,6.187431702759082e-05,5.2594687516070176e-05,4.457555260939781e-05,3.78229027170348e-05,3.232059967844518e-05,2.8035206419413113e-05,2.492044280533196e-05,2.2920905500362253e-05,2.197479444751991e-05,2.201551345747176e-05,2.2972145306841832e-05,2.476893045381462e-05,2.7323991429771853e-05,3.0547632082586715e-05,3.4340594183626075e-05,3.859266821973491e-05,4.318202840500502e-05,4.7975595526982085e-05,5.283063033590718e-05,5.759763349347639e-05,6.212448736830301e-05,6.626163408275804e-05,6.98679579001443e-05,7.281694227173468e-05,7.500261420516638e-05,7.634477868446484e-05],\"yaxis\":\"y\",\"type\":\"scatter\"},{\"legendgroup\":\"Silver Medalist\",\"marker\":{\"color\":\"rgb(44, 160, 44)\"},\"mode\":\"lines\",\"name\":\"Silver Medalist\",\"showlegend\":true,\"x\":[11.0,11.124,11.248,11.372,11.496,11.62,11.744,11.868,11.992,12.116,12.24,12.364,12.488,12.612,12.736,12.86,12.984,13.108,13.232,13.356,13.48,13.604,13.728,13.852,13.975999999999999,14.1,14.224,14.347999999999999,14.472,14.596,14.72,14.844,14.968,15.091999999999999,15.216000000000001,15.34,15.464,15.588000000000001,15.712,15.836,15.96,16.084,16.208,16.332,16.456,16.58,16.704,16.828,16.951999999999998,17.076,17.2,17.323999999999998,17.448,17.572,17.695999999999998,17.82,17.944,18.067999999999998,18.192,18.316,18.44,18.564,18.688,18.812,18.936,19.060000000000002,19.183999999999997,19.308,19.432000000000002,19.555999999999997,19.68,19.804000000000002,19.928,20.052,20.176000000000002,20.3,20.424,20.548000000000002,20.672,20.796,20.92,21.044,21.168,21.292,21.416,21.54,21.664,21.788,21.912,22.036,22.16,22.284,22.408,22.532,22.656,22.78,22.904,23.028,23.152,23.276,23.4,23.524,23.648,23.772,23.896,24.02,24.144,24.268,24.392,24.516,24.64,24.764,24.887999999999998,25.012,25.136,25.259999999999998,25.384,25.508,25.631999999999998,25.756,25.880000000000003,26.003999999999998,26.128,26.252000000000002,26.375999999999998,26.5,26.624000000000002,26.747999999999998,26.872,26.996000000000002,27.12,27.244,27.368,27.492,27.616,27.74,27.864,27.988,28.112,28.236,28.36,28.484,28.608,28.732,28.856,28.98,29.104,29.228,29.352,29.476,29.6,29.724,29.848,29.972,30.096,30.22,30.344,30.468,30.592,30.716,30.84,30.964,31.088,31.212,31.336,31.46,31.584,31.708,31.832,31.956,32.08,32.204,32.328,32.452,32.576,32.7,32.824,32.948,33.072,33.196,33.32,33.444,33.568,33.692,33.816,33.94,34.064,34.188,34.312,34.436,34.56,34.684,34.808,34.932,35.056,35.18,35.304,35.428,35.552,35.676,35.8,35.924,36.048,36.172,36.296,36.42,36.544,36.668,36.792,36.916,37.04,37.164,37.288,37.412,37.536,37.66,37.784,37.908,38.032,38.156,38.28,38.403999999999996,38.528,38.652,38.775999999999996,38.9,39.024,39.147999999999996,39.272,39.396,39.519999999999996,39.644,39.768,39.891999999999996,40.016,40.14,40.263999999999996,40.388000000000005,40.512,40.635999999999996,40.760000000000005,40.884,41.007999999999996,41.132000000000005,41.256,41.379999999999995,41.504000000000005,41.628,41.751999999999995,41.876000000000005,42.0,42.123999999999995,42.248000000000005,42.372,42.495999999999995,42.620000000000005,42.744,42.867999999999995,42.992000000000004,43.116,43.24,43.364,43.488,43.612,43.736,43.86,43.984,44.108,44.232,44.356,44.48,44.604,44.728,44.852,44.976,45.1,45.224,45.348,45.472,45.596,45.72,45.844,45.968,46.092,46.216,46.34,46.464,46.588,46.712,46.836,46.96,47.084,47.208,47.332,47.456,47.58,47.704,47.828,47.952,48.076,48.2,48.324,48.448,48.572,48.696,48.82,48.944,49.068,49.192,49.316,49.44,49.564,49.688,49.812,49.936,50.06,50.184,50.308,50.432,50.556,50.68,50.804,50.928,51.052,51.176,51.3,51.424,51.548,51.672,51.796,51.92,52.044,52.168,52.292,52.416,52.54,52.664,52.788,52.912,53.036,53.16,53.284,53.408,53.532,53.656,53.78,53.904,54.028,54.152,54.276,54.4,54.524,54.648,54.772,54.896,55.02,55.144,55.268,55.392,55.516,55.64,55.764,55.888,56.012,56.136,56.26,56.384,56.508,56.632,56.756,56.88,57.004,57.128,57.252,57.376,57.5,57.624,57.748,57.872,57.996,58.12,58.244,58.368,58.492,58.616,58.74,58.864,58.988,59.112,59.236,59.36,59.484,59.608,59.732,59.856,59.98,60.104,60.228,60.352,60.476,60.6,60.724,60.848,60.972,61.096,61.22,61.344,61.468,61.592,61.716,61.84,61.964,62.088,62.212,62.336,62.46,62.584,62.708,62.832,62.956,63.08,63.204,63.328,63.452,63.576,63.7,63.824,63.948,64.072,64.196,64.32,64.444,64.568,64.69200000000001,64.816,64.94,65.064,65.188,65.312,65.436,65.56,65.684,65.80799999999999,65.932,66.056,66.18,66.304,66.428,66.55199999999999,66.676,66.8,66.924,67.048,67.172,67.29599999999999,67.42,67.544,67.668,67.792,67.916,68.03999999999999,68.164,68.288,68.412,68.536,68.66,68.78399999999999,68.908,69.032,69.156,69.28,69.404,69.52799999999999,69.652,69.77600000000001,69.9,70.024,70.148,70.27199999999999,70.396,70.52000000000001,70.644,70.768,70.892,71.01599999999999,71.14,71.26400000000001,71.388,71.512,71.636,71.75999999999999,71.884,72.00800000000001,72.132,72.256,72.38,72.50399999999999,72.628,72.75200000000001,72.876],\"xaxis\":\"x\",\"y\":[0.000255744979094349,0.0002884889838990061,0.000323633345338423,0.0003613728971586497,0.0004020058643697258,0.0004459543251598637,0.0004937787309785564,0.0005461833970702595,0.0006040102710218997,0.0006682192250543424,0.0007398545873148696,0.0008199995114303395,0.000909721856628519,0.001010017197102117,0.0011217560335111737,0.0012456428857292492,0.0013821944278545734,0.0015317420559772612,0.001694461329081921,0.0018704268912165972,0.0020596872751193354,0.002262350061543032,0.0024786649388639894,0.0027090909272524865,0.0029543348707052747,0.003215351441023477,0.003493300167206373,0.0037894618547869947,0.004105124309572091,0.004441454403407099,0.004799378988212864,0.00517949982440865,0.005582066652554923,0.006007027364692905,0.006454165084312091,0.006923319676009505,0.007414677264720373,0.007929097747430247,0.00846843927625909,0.009035832430913623,0.009635856943549318,0.010274581208757618,0.010959439128396389,0.011698938647774899,0.012502219116179667,0.013378497086915596,0.014336458833025114,0.015383669476370026,0.016526070869121536,0.017767632230347805,0.019110199640721335,0.020553565067936052,0.022095746202248225,0.02373343938678782,0.02546258376765706,0.027278959214318242,0.029178735977956484,0.031158901113750335,0.03321750419736141,0.03535369002928218,0.037567514988361285,0.03985957221923349,0.04223047495791478,0.04468026391319402,0.04720781186548588,0.049810296065908664,0.05248279754770561,0.055218068220631446,0.058006484580843266,0.060836184402636335,0.06369336310908638,0.06656269217778256,0.06942781431557758,0.07227186925234463,0.07507800859751597,0.0778298661428646,0.08051195892120565,0.0831100023345432,0.08561112878998979,0.08800400367579829,0.09027883618443035,0.09242728678527898,0.09444227911324424,0.09631773194864082,0.09804823615554883,0.09962871048213275,0.10105407719692097,0.10231900192030616,0.1034177404522249,0.1043441282911361,0.10509173598163772,0.10565419619194326,0.10602568794856308,0.10620154185697658,0.10617891014487611,0.10595743010142945,0.10553980199063555,0.10493220507391268,0.1041444888045993,0.10319009942688018,0.10208573200845666,0.100850729765257,0.09950628127938091,0.09807448736889122,0.09657738004631093,0.0950359754603696,0.0934694323300589,0.09189437009834593,0.0903243805150345,0.08876974609629922,0.08723736154674672,0.08573084122300512,0.08425078732543662,0.08279518903856711,0.0813599210577622,0.07993930946376815,0.07852673261628597,0.07711522405918449,0.0756980434912411,0.07426918146305579,0.07282376487302646,0.0713583348730484,0.06987097736382601,0.0683612989254363,0.06683025679367953,0.06527986835432588,0.06371284094131419,0.06213217375839829,0.060540788281664204,0.058941240321307216,0.05733555604797886,0.05572521697075535,0.05411129733874275,0.052494734620622485,0.05087669274153863,0.049258961635498776,0.047644327914300774,0.0460368517239098,0.04444199467048455,0.04286656220209567,0.041318448785098404,0.03980620218087016,0.038338449955270505,0.03692325283910568,0.035567462208638406,0.03427616063994203,0.03305225485472492,0.03189627090830477,0.030806375225486307,0.02977861611945415,0.028807353070088748,0.027885819189355582,0.027006748818608792,0.026162998506158965,0.025348095554134725,0.02455666230937555,0.023784683723224596,0.023029607165044708,0.022290283796281556,0.021566777296398932,0.020860076628620182,0.020171754229591225,0.019503609978820027,0.018857335859726914,0.018234228118463106,0.017634964742164926,0.017059457677128943,0.01650678231500993,0.01597518172420717,0.015462139718650033,0.014964514635749963,0.014478724031879128,0.014000968890025226,0.01352748411244711,0.013054800101029307,0.01257999846491824,0.012100943884155077,0.011616474470614483,0.01112653501649878,0.010632241405281032,0.010135869886064039,0.009640771217552274,0.00915121597522751,0.008672182662448022,0.008209103952042966,0.0077675880668009335,0.007353132091527322,0.006970842393686248,0.006625175032511423,0.00631970676788658,0.006056945525055042,0.005838188051702573,0.0056634317638969,0.005531346889410292,0.005439313379595205,0.005383524223536846,0.005359152645853444,0.005360575512874035,0.005381639813866605,0.005415954271372782,0.005457184934460557,0.00549933276827523,0.005536973108979793,0.005565441236522292,0.005580954582550117,0.005580669251989805,0.0055626754809397555,0.0055259423664674266,0.0054702259581850855,0.005395956262494662,0.005304117946614137,0.0051961369394002265,0.005073781314881228,0.00493908049155325,0.0047942625297936105,0.004641705701127514,0.0044838979426427865,0.004323396563827947,0.004162780767214935,0.004004591156112274,0.0038512532475749243,0.0037049857289777445,0.0035676982724371716,0.003440887516317645,0.003325542667090169,0.003222073475640798,0.003130272703171606,0.0030493225090757513,0.0029778497058293597,0.0029140291045304913,0.0028557280434383077,0.002800679596749881,0.002746667807020117,0.002691706273524299,0.002634191927441139,0.0025730187933651586,0.0025076415314394416,0.002438084804823516,0.002364901064460248,0.002289085211330492,0.002211958962233364,0.002135040071683744,0.002059911672543857,0.001988105075793713,0.0019210058971516801,0.001859789023550862,0.0018053834205635677,0.0017584637714944005,0.0017194629299678431,0.0016885974500184656,0.0016658981008827983,0.0016512381533340032,0.0016443540688056274,0.0016448556695127742,0.0016522255200997315,0.0016658097250656985,0.0016848043093829965,0.001708242552120259,0.0017349889381061867,0.0017637447527506294,0.001793068866270211,0.0018214151496778255,0.001847185545644538,0.0018687954488576985,0.0018847461012492643,0.001893697486627042,0.001894534909393526,0.0018864230998579838,0.0018688431750534715,0.001841609828945083,0.0018048683743396943,0.001759073344772861,0.0017049519859889044,0.0016434569409267774,0.0015757127207112268,0.0015029602500340905,0.0014265030613761843,0.0013476578043627595,0.0012677108273379597,0.0011878818103448357,0.0011092948397241386,0.0010329569070629792,0.0009597435421223439,0.0008903910935906009,0.0008254950096983907,0.0007655133246516547,0.0007107744318133775,0.0006614881388963023,0.0006177589720296706,0.0005796007315675303,0.0005469513952874567,0.0005196875945017174,0.0004976380309925988,0.00048059533634417425,0.0004683259884477342,0.00046057799289510705,0.00045708612021334714,0.00045757458006209095,0.0004617571278410006,0.0004693347503775689,0.000479991269862854,0.0004933874325639533,0.0005091542927462882,0.0005268869325669033,0.0005461397351813371,0.0005664245043604744,0.0005872126533553521,0.000607942432434681,0.0006280317138682137,0.0006468962230592011,0.0006639723523832144,0.000678742916204853,0.0006907635259912341,0.0006996868160898509,0.0007052816477830335,0.0007074447299634867,0.0007062028203913936,0.0007017047373590637,0.0006942036744359661,0.0006840315815135095,0.0006715684518389353,0.0006572100599331103,0.0006413379091701578,0.0006242948287294246,0.0006063688507671468,0.0005877868191999522,0.000568717805798872,0.0005492850385586779,0.0005295838790594292,0.0005097025854495036,0.0004897422771038394,0.0004698327184159225,0.00045014123077068575,0.00043087312178505244,0.0004122633315176839,0.0003945603445170962,0.0003780046058131219,0.0003628045329405977,0.0003491136096588769,0.00033701192497989863,0.00032649490707207504,0.0003174709942258212,0.0003097687419171592,0.000303152576835801,0.00029734526857462675,0.00029205436205241846,0.00028699940935927973,0.000281936899623085,0.0002766802772746468,0.00027111326526845614,0.0002651957266220426,0.00025896234038082585,0.0002525152784777854,0.0002460127203489259,0.00023965535320152667,0.00023367295459957447,0.0002283127728098145,0.00022383078729301542,0.00022048615622973186,0.00021853836392476074,0.0002182458905161891,0.00021986474619314211,0.00022364502207722087,0.0002298237551511967,0.00023861288936534,0.00025018189895250774,0.00026463563733328656,0.0002819890585215585,0.00030214146885727865,0.00032485373237152264,0.00034973221084777875,0.00037622304706113826,0.0004036196425858187,0.0004310848762431466,0.0004576878909697587,0.00048245336993096784,0.000504419410706128,0.0005226986860015773,0.0005365368056227469,0.0005453618289447176,0.0005488197511726853,0.0005467923889804411,0.0005393961841599493,0.0005269627066581092,0.0005100037260962031,0.000489165329033095,0.00046517647724983636,0.0004387975458884509,0.0004107737966293425,0.0003817975883624677,0.00035248163526922983,0.0003233440421318456,0.00029480440866358693,0.0002671891715060588,0.00024074364207085676,0.00021564792167646263,0.0001920339882764426,0.00017000166176336196,0.00014963175461574064,0.00013099538684003696,0.00011415908893386916,9.91858602839288e-05,8.613275089055475e-05,7.504578095421827e-05,6.595312171303415e-05,5.885746616605598e-05,5.372846148869048e-05,5.0495993819022286e-05,4.904503543139452e-05,4.921269053365638e-05,5.078799705835528e-05,5.351493297987049e-05,5.7098908857729095e-05,6.121678396279475e-05,6.553012079026474e-05,6.970101604290336e-05,7.340946346344377e-05,7.637087993641792e-05,7.835222913989419e-05,7.918516232327515e-05,7.877479217611923e-05,7.710311550261363e-05,7.422665768409682e-05,7.02685495092663e-05,6.540587026435234e-05,5.9853605931251725e-05,5.3846902335635965e-05,4.7623396846499944e-05,4.140728466864993e-05,3.539645065289872e-05,2.975353771818063e-05,2.460130657412532e-05,2.0022146429101404e-05,1.60611868528469e-05,1.2732177778827925e-05,1.0025161797424903e-05,7.914949741433856e-06,6.369498368559679e-06,5.357439988293495e-06,4.854190797996586e-06,4.846238108640234e-06,5.3333597959832905e-06,6.3286591313152624e-06,7.856412910824744e-06,9.947845232134117e-06,1.2635068170965875e-05,1.5943582528167382e-05,1.988390402161516e-05,2.4443056381738203e-05,2.957682364103099e-05,3.520374216490826e-05,4.120180073060248e-05,4.740867504755363e-05,5.3626040289120975e-05,5.962809497805543e-05,6.517393257841955e-05,7.00228778382546e-05,7.395144238087568e-05,7.677022827665599e-05,7.833898464978561e-05,7.857813714919869e-05,7.747546130413152e-05,7.508711578703088e-05,7.153291329408799e-05,6.698638678598937e-05,6.166080550651223e-05,5.57927220303912e-05,4.962483262248479e-05,4.338989181122508e-05,3.729716177435782e-05,3.1522454390503394e-05,2.6202315218125007e-05,2.1432385372029163e-05,1.726953023923565e-05,1.3736992992746928e-05,1.0831639063053863e-05,8.532302066115031e-06,6.808298375758982e-06,5.627310640406749e-06,4.9620115469339125e-06,4.79497529007593e-06,5.1215842881641465e-06,5.9507752183753435e-06,7.303586412040087e-06,9.209581297744573e-06,1.1701345376750591e-05,1.4807398338711788e-05,1.8544029677791312e-05,2.2906743615853556e-05,2.7862161920957997e-05,3.334134594126203e-05,3.923552315496029e-05,4.539510571242196e-05,5.16326508884066e-05,5.773004108404909e-05,6.344968597975078e-05,6.854902913657355e-05,7.279715144822485e-05,7.599188574379108e-05,7.797566226587189e-05],\"yaxis\":\"y\",\"type\":\"scatter\"},{\"legendgroup\":\"Bronze Medalist\",\"marker\":{\"color\":\"rgb(214, 39, 40)\"},\"mode\":\"lines\",\"name\":\"Bronze Medalist\",\"showlegend\":true,\"x\":[10.0,10.124,10.248,10.372,10.496,10.62,10.744,10.868,10.992,11.116,11.24,11.364,11.488,11.612,11.736,11.86,11.984,12.108,12.232,12.356,12.48,12.604,12.728,12.852,12.975999999999999,13.1,13.224,13.347999999999999,13.472,13.596,13.72,13.844,13.968,14.091999999999999,14.216000000000001,14.34,14.464,14.588000000000001,14.712,14.836,14.96,15.084,15.208,15.332,15.456,15.58,15.704,15.828,15.952,16.076,16.2,16.323999999999998,16.448,16.572,16.695999999999998,16.82,16.944,17.067999999999998,17.192,17.316,17.44,17.564,17.688,17.812,17.936,18.060000000000002,18.183999999999997,18.308,18.432000000000002,18.555999999999997,18.68,18.804000000000002,18.928,19.052,19.176000000000002,19.3,19.424,19.548000000000002,19.672,19.796,19.92,20.044,20.168,20.292,20.416,20.54,20.664,20.788,20.912,21.036,21.16,21.284,21.408,21.532,21.656,21.78,21.904,22.028,22.152,22.276,22.4,22.524,22.648,22.772,22.896,23.02,23.144,23.268,23.392,23.516,23.64,23.764,23.887999999999998,24.012,24.136,24.259999999999998,24.384,24.508,24.631999999999998,24.756,24.880000000000003,25.003999999999998,25.128,25.252000000000002,25.375999999999998,25.5,25.624000000000002,25.747999999999998,25.872,25.996000000000002,26.12,26.244,26.368,26.492,26.616,26.74,26.864,26.988,27.112,27.236,27.36,27.484,27.608,27.732,27.856,27.98,28.104,28.228,28.352,28.476,28.6,28.724,28.848,28.972,29.096,29.22,29.344,29.468,29.592,29.716,29.84,29.964,30.088,30.212,30.336,30.46,30.584,30.708,30.832,30.956,31.08,31.204,31.328,31.452,31.576,31.7,31.824,31.948,32.072,32.196,32.32,32.444,32.568,32.692,32.816,32.94,33.064,33.188,33.312,33.436,33.56,33.684,33.808,33.932,34.056,34.18,34.304,34.428,34.552,34.676,34.8,34.924,35.048,35.172,35.296,35.42,35.544,35.668,35.792,35.916,36.04,36.164,36.288,36.412,36.536,36.66,36.784,36.908,37.032,37.156,37.28,37.403999999999996,37.528,37.652,37.775999999999996,37.9,38.024,38.147999999999996,38.272,38.396,38.519999999999996,38.644,38.768,38.891999999999996,39.016,39.14,39.263999999999996,39.388000000000005,39.512,39.635999999999996,39.760000000000005,39.884,40.007999999999996,40.132000000000005,40.256,40.379999999999995,40.504000000000005,40.628,40.751999999999995,40.876000000000005,41.0,41.123999999999995,41.248000000000005,41.372,41.495999999999995,41.620000000000005,41.744,41.867999999999995,41.992000000000004,42.116,42.24,42.364,42.488,42.612,42.736,42.86,42.984,43.108,43.232,43.356,43.48,43.604,43.728,43.852,43.976,44.1,44.224,44.348,44.472,44.596,44.72,44.844,44.968,45.092,45.216,45.34,45.464,45.588,45.712,45.836,45.96,46.084,46.208,46.332,46.456,46.58,46.704,46.828,46.952,47.076,47.2,47.324,47.448,47.572,47.696,47.82,47.944,48.068,48.192,48.316,48.44,48.564,48.688,48.812,48.936,49.06,49.184,49.308,49.432,49.556,49.68,49.804,49.928,50.052,50.176,50.3,50.424,50.548,50.672,50.796,50.92,51.044,51.168,51.292,51.416,51.54,51.664,51.788,51.912,52.036,52.16,52.284,52.408,52.532,52.656,52.78,52.904,53.028,53.152,53.276,53.4,53.524,53.648,53.772,53.896,54.02,54.144,54.268,54.392,54.516,54.64,54.764,54.888,55.012,55.136,55.26,55.384,55.508,55.632,55.756,55.88,56.004,56.128,56.252,56.376,56.5,56.624,56.748,56.872,56.996,57.12,57.244,57.368,57.492,57.616,57.74,57.864,57.988,58.112,58.236,58.36,58.484,58.608,58.732,58.856,58.98,59.104,59.228,59.352,59.476,59.6,59.724,59.848,59.972,60.096,60.22,60.344,60.468,60.592,60.716,60.84,60.964,61.088,61.212,61.336,61.46,61.584,61.708,61.832,61.956,62.08,62.204,62.328,62.452,62.576,62.7,62.824,62.948,63.072,63.196,63.32,63.444,63.568,63.692,63.816,63.94,64.064,64.188,64.312,64.436,64.56,64.684,64.80799999999999,64.932,65.056,65.18,65.304,65.428,65.55199999999999,65.676,65.8,65.924,66.048,66.172,66.29599999999999,66.42,66.544,66.668,66.792,66.916,67.03999999999999,67.164,67.288,67.412,67.536,67.66,67.78399999999999,67.908,68.032,68.156,68.28,68.404,68.52799999999999,68.652,68.77600000000001,68.9,69.024,69.148,69.27199999999999,69.396,69.52000000000001,69.644,69.768,69.892,70.01599999999999,70.14,70.26400000000001,70.388,70.512,70.636,70.75999999999999,70.884,71.00800000000001,71.132,71.256,71.38,71.50399999999999,71.628,71.75200000000001,71.876],\"xaxis\":\"x\",\"y\":[9.194020683976449e-05,9.615433823926147e-05,0.00010021010042990187,0.00010436763291273971,0.00010892138271629965,0.00011417122636561649,0.00012039240106003307,0.00012780873450074655,0.0001365736144452082,0.00014676240137575497,0.00015837861523551185,0.00017137438129875265,0.00018568355086843837,0.00020126392436928397,0.00021814341173601785,0.0002364640413536901,0.00025651766015922644,0.00027876801642947777,0.00030385560457518024,0.00033258396235817775,0.00036588872030942965,0.00040479322370603983,0.0004503565910613477,0.0005036213149513098,0.0005655677471091573,0.0006370819956038677,0.0007189420244133449,0.0008118243632073965,0.0009163311881546422,0.0010330350349185852,0.0011625364181606114,0.0013055284091081244,0.0014628618591216954,0.0016356053850198956,0.0018250952506444309,0.0020329716130599133,0.0022611989699273354,0.0025120698253058194,0.0027881914667207968,0.003092456319901526,0.0034279967315462194,0.0037981254111864897,0.0042062633485204295,0.0046558579793814295,0.00515029576347694,0.005692815062067939,0.006286426977317364,0.0069338531783370095,0.00763749013610467,0.008399408100261177,0.009221390258226709,0.010105012861837683,0.011051761173514914,0.012063169772507447,0.01314097022913127,0.01428722556212769,0.015504430126504555,0.016795556026882135,0.01816403261751118,0.019613653404872134,0.021148413616978244,0.02277229059692277,0.024488986802229357,0.02630166049213928,0.028212671346660768,0.030223366779987486,0.03233392949856878,0.03454329836633244,0.03684916396448084,0.03924802904579562,0.04173531439831551,0.04430548436660374,0.046952164739038606,0.04966822919781001,0.05244583823043024,0.055276424636491635,0.058150630511650474,0.06105821008466991,0.06398791990839059,0.0669274222517712,0.06986322911608177,0.07278071311409647,0.07566420724244587,0.07849720789458609,0.081262684122886,0.08394348184894472,0.08652279637572065,0.08898467320799686,0.09131448921124981,0.09349936609932882,0.09552847684280419,0.0973932211929347,0.09908726552085184,0.10060646015215464,0.10194866054592278,0.1031134850451525,0.10410204176000332,0.10491665243127798,0.10556059451252796,0.10603787634950161,0.10635305515263407,0.10651110318415692,0.10651732338547056,0.10637731099106273,0.106096952764946,0.10568245137653408,0.10514036032864792,0.10447761542425957,0.10370155162916175,0.10281989800758941,0.1018407465054305,0.10077249159626352,0.09962373722993768,0.09840316640168228,0.09711936891836993,0.09578062622806485,0.09439465902824332,0.09296835282642785,0.09150748653172208,0.09001649688343771,0.0884983148461973,0.08695430780360272,0.08538435342379222,0.08378705836876935,0.08216011907071398,0.0805008043821159,0.07880652298915171,0.07707542422924236,0.07530697168195273,0.07350242673366385,0.07166518560993757,0.06980092807771027,0.06791755729933485,0.06602493468505899,0.06413443665820474,0.062258377896359476,0.060409355135579205,0.058599566460387546,0.05684015476103847,0.055140613839108815,0.05350828501106674,0.051947963807593714,0.05046163181124666,0.049048327411555785,0.04770416947637094,0.04642254711193359,0.04519448436986092,0.04400917932127983,0.04285470203095719,0.041718816839130285,0.04058987368098744,0.03945769473698579,0.03831437075740779,0.03715487975654876,0.035977451846939124,0.0347836279997939,0.03357799508585561,0.03236761986922953,0.031161244295165366,0.029968336708259994,0.028798112928772795,0.027658644044670496,0.026556153912195762,0.025494581173933398,0.024475442868268325,0.023497995470209053,0.022559650685029634,0.021656572887108493,0.020784366562730326,0.019938757311296965,0.01911617865062638,0.018314196930545673,0.017531734460864094,0.01676908197045325,0.016027720999076404,0.015310000591806998,0.014618727719204026,0.013956735806077081,0.013326490970092787,0.012729782912069072,0.012167529750256438,0.011639706740262101,0.011145390851289745,0.01068289897861192,0.010249988615764826,0.00984408653819224,0.009462513021286494,0.009102675214230683,0.00876221199539631,0.008439082293078584,0.008131597935637185,0.007838409391193076,0.007558457522060312,0.00729090647370282,0.007035072266936256,0.006790359134501989,0.006556211890137588,0.006332088410561186,0.00611745231382095,0.005911782622960955,0.005714594914996418,0.0055254673046577765,0.005344064591300097,0.005170154877788494,0.005003614720914417,0.004844421078716369,0.004692630615236538,0.004548348943881922,0.0044116938372346735,0.0042827571241173465,0.0041615699034640895,0.004048074941547547,0.003942108900523233,0.003843395633625784,0.0037515504237443167,0.003666093927791435,0.003586473828772559,0.0035120918166124566,0.0034423334710733796,0.0033765988064875683,0.003314331532476271,0.0032550453640130925,0.003198345889185829,0.0031439465469074944,0.0030916772293831094,0.003041484024917441,0.0029934188136231388,0.0029476179678430154,0.0029042703695256774,0.002863576307425964,0.002825700401645778,0.0027907232585336053,0.0027585977629673653,0.0027291164511561404,0.0027018960321170435,0.002676383725917621,0.002651887712763991,0.0026276308668301924,0.0026028234719148277,0.0025767472919198844,0.0025488407585333786,0.0025187736635875224,0.002486499987994996,0.0024522795164034377,0.0024166625394552903,0.0023804367960552613,0.0023445411694300203,0.002309955694395614,0.0022775813325277435,0.0022481250524224953,0.00222200561655698,0.002199293078712005,0.002179690653999984,0.002162561966910488,0.002147000551253853,0.0021319327848525207,0.0021162410366160522,0.0020988913245698028,0.0020790495624499806,0.0020561724791522368,0.0020300631438837625,0.002000886050096637,0.0019691420726982126,0.0019356084796482431,0.0019012528627198658,0.0018671319313208993,0.0018342864909947482,0.001803642819186408,0.0017759285032085993,0.0017516081800564066,0.0017308420559036068,0.0017134679919276678,0.0016990065237572109,0.0016866874115331356,0.001675495985103713,0.001664237332763549,0.001651615952901252,0.0016363276128205729,0.0016171587829952227,0.0015930873011629884,0.0015633762338507229,0.0015276517364234085,0.0014859555698793399,0.0014387641893961354,0.0013869691027959426,0.0013318173113539224,0.0012748155737568728,0.001217607217028356,0.001161834396713049,0.0011090012980127784,0.0010603542248291296,0.0010167926565817344,0.000978821376250531,0.0009465482657108307,0.0009197261648523789,0.0008978312490960958,0.0008801655944952934,0.0008659686730611176,0.000854521854700141,0.0008452316359346552,0.0008376809740333455,0.0008316431958093881,0.0008270587001629413,0.0008239802375810824,0.000822497133876788,0.0008226517948638788,0.0008243627913648217,0.0008273676776891537,0.0008311956370778742,0.0008351755373009667,0.0008384796833653962,0.0008401982465740746,0.0008394348045794194,0.0008354103066798347,0.0008275615278201459,0.0008156208497573198,0.000799666846076254,0.0007801391921665581,0.0007578161986967352,0.0007337580088453392,0.0007092224820481771,0.0006855634636996053,0.0006641222356342316,0.0006461224877392574,0.0006325774548737261,0.0006242154223303827,0.0006214271790159413,0.000624236686482827,0.0006322945587779143,0.0006448930090591211,0.0006610005848090155,0.0006793149900361194,0.0006983322224407581,0.0007164298308945101,0.0007319611708901573,0.0007433561597128207,0.0007492224737172907,0.0007484397975526129,0.0007402390770378448,0.000724259102372691,0.0007005743163053615,0.0006696904010833246,0.0006325075890589164,0.0005902552190122756,0.0005444042129967519,0.0004965663407912794,0.00044839003009299603,0.00040146199548678706,0.0003572222926948061,0.0003168979599828539,0.00028145769162011614,0.00025158748602578706,0.00022768528829122988,0.00020987148336146526,0.0001980116791514292,0.00019174838140847253,0.00019053865518174357,0.00019369544026291978,0.00020043065302448565,0.00020989847839237606,0.00022123734869559429,0.00023360910903610647,0.00024623389638018785,0.00025841940602950854,0.0002695835248123443,0.0002792697507460854,0.0002871553173249739,0.0002930523976827075,0.0002969030933748094,0.0002987690704096729,0.00029881670339482414,0.00029729848960745856,0.0002945313889819617,0.0002908727211019701,0.0002866943612749111,0.0002823562275000577,0.00027818038575082337,0.000274427426766047,0.00027127697015437923,0.00026881413056339417,0.00026702347595221635,0.0002657914182495956,0.0002649171635834083,0.000264131427648115,0.0002631212374536729,0.00026155844104900337,0.00025912915024704574,0.00025556131234259375,0.00025064794195875557,0.00024426417314968557,0.00023637709316840416,0.00022704814754146037,0.00021642862492751705,0.00020474924234035547,0.00019230511796300813,0.00017943746387553644,0.00016651322856459663,0.00015390376765139972,0.0001419635127249211,0.00013100959937880133,0.00012130351102579162,0.00011303594509165446,0.00010631622290723856,0.0001011675400160563,9.752910253540395e-05,9.526567529054878e-05,9.418429902920533e-05,9.405700367157603e-05,9.464739319535613e-05,9.573817603296433e-05,9.715623066271251e-05,9.879176082414767e-05,0.00010060857494527692,0.00010264350361791393,0.00010499434439893631,0.00010779731654190723,0.0001111965903640226,0.00011530978130308247,0.00012019414437535776,0.00012581840797189453,0.00013204467445298304,0.00013862362462902737,0.0001452045390726736,0.00015135962897285232,0.00015662014961673418,0.00016052006020635012,0.00016264186560971378,0.00016265891326308445,0.00016036888469202234,0.0001557144431862667,0.00014878877920666971,0.0001398258448999239,0.00012917706232987305,0.00011727792170379279,0.00010460892646741514,9.165567528664879e-05,7.887250711658997e-05,6.665320023091937e-05,5.531091629932839e-05,4.5068158969055404e-05,3.6056203283218555e-05,2.8322426361365522e-05,2.1843334283929064e-05,1.6540857123378567e-05,1.2299625252670292e-05,8.983348868586707e-06,6.44898096828451e-06,4.55793707227719e-06,3.184179971830825e-06,2.2193936958425877e-06,1.5757400700039238e-06,1.1868144058515665e-06,1.0074146479774366e-06,1.012642087614787e-06,1.196695901704719e-06,1.5715406454232705e-06,2.1654434682210627e-06,3.0212198689541297e-06,4.193913316469786e-06,5.747582165767591e-06,7.75089066391095e-06,1.0271307583271579e-05,1.3367905340614427e-05,1.7083010921776127e-05,2.143325882699056e-05,2.6400891605062396e-05,3.192638995268039e-05,3.7903633063884375e-05,4.417874032827001e-05,5.055349803912428e-05,5.6793832181404275e-05,6.264319177969792e-05,6.78400347954786e-05,7.213796482583991e-05,7.532656488741964e-05,7.725071308666325e-05,7.782620631760956e-05,7.704987227050234e-05,7.50029692480412e-05,7.184745954224878e-05,6.781556623746253e-05,6.319375164903094e-05,5.830277811788265e-05,5.3475764504701175e-05,4.9036127801327134e-05,4.5277047113735514e-05,4.24436947723456e-05,4.071904977831701e-05,4.021373420922226e-05,4.0960052081464454e-05,4.2910275281704435e-05,4.593918033523049e-05,4.985082895958443e-05,5.43895305823149e-05,5.925476691430323e-05,6.411957309477151e-05,6.86514788496528e-05,7.253468283966695e-05,7.549176007514991e-05,7.730298835354274e-05],\"yaxis\":\"y\",\"type\":\"scatter\"}],                        {\"barmode\":\"overlay\",\"hovermode\":\"closest\",\"legend\":{\"traceorder\":\"reversed\"},\"xaxis\":{\"anchor\":\"y2\",\"domain\":[0.0,1.0],\"zeroline\":false},\"yaxis\":{\"anchor\":\"free\",\"domain\":[0.0,1],\"position\":0.0},\"template\":{\"data\":{\"histogram2dcontour\":[{\"type\":\"histogram2dcontour\",\"colorbar\":{\"outlinewidth\":0,\"ticks\":\"\"},\"colorscale\":[[0.0,\"#0d0887\"],[0.1111111111111111,\"#46039f\"],[0.2222222222222222,\"#7201a8\"],[0.3333333333333333,\"#9c179e\"],[0.4444444444444444,\"#bd3786\"],[0.5555555555555556,\"#d8576b\"],[0.6666666666666666,\"#ed7953\"],[0.7777777777777778,\"#fb9f3a\"],[0.8888888888888888,\"#fdca26\"],[1.0,\"#f0f921\"]]}],\"choropleth\":[{\"type\":\"choropleth\",\"colorbar\":{\"outlinewidth\":0,\"ticks\":\"\"}}],\"histogram2d\":[{\"type\":\"histogram2d\",\"colorbar\":{\"outlinewidth\":0,\"ticks\":\"\"},\"colorscale\":[[0.0,\"#0d0887\"],[0.1111111111111111,\"#46039f\"],[0.2222222222222222,\"#7201a8\"],[0.3333333333333333,\"#9c179e\"],[0.4444444444444444,\"#bd3786\"],[0.5555555555555556,\"#d8576b\"],[0.6666666666666666,\"#ed7953\"],[0.7777777777777778,\"#fb9f3a\"],[0.8888888888888888,\"#fdca26\"],[1.0,\"#f0f921\"]]}],\"heatmap\":[{\"type\":\"heatmap\",\"colorbar\":{\"outlinewidth\":0,\"ticks\":\"\"},\"colorscale\":[[0.0,\"#0d0887\"],[0.1111111111111111,\"#46039f\"],[0.2222222222222222,\"#7201a8\"],[0.3333333333333333,\"#9c179e\"],[0.4444444444444444,\"#bd3786\"],[0.5555555555555556,\"#d8576b\"],[0.6666666666666666,\"#ed7953\"],[0.7777777777777778,\"#fb9f3a\"],[0.8888888888888888,\"#fdca26\"],[1.0,\"#f0f921\"]]}],\"heatmapgl\":[{\"type\":\"heatmapgl\",\"colorbar\":{\"outlinewidth\":0,\"ticks\":\"\"},\"colorscale\":[[0.0,\"#0d0887\"],[0.1111111111111111,\"#46039f\"],[0.2222222222222222,\"#7201a8\"],[0.3333333333333333,\"#9c179e\"],[0.4444444444444444,\"#bd3786\"],[0.5555555555555556,\"#d8576b\"],[0.6666666666666666,\"#ed7953\"],[0.7777777777777778,\"#fb9f3a\"],[0.8888888888888888,\"#fdca26\"],[1.0,\"#f0f921\"]]}],\"contourcarpet\":[{\"type\":\"contourcarpet\",\"colorbar\":{\"outlinewidth\":0,\"ticks\":\"\"}}],\"contour\":[{\"type\":\"contour\",\"colorbar\":{\"outlinewidth\":0,\"ticks\":\"\"},\"colorscale\":[[0.0,\"#0d0887\"],[0.1111111111111111,\"#46039f\"],[0.2222222222222222,\"#7201a8\"],[0.3333333333333333,\"#9c179e\"],[0.4444444444444444,\"#bd3786\"],[0.5555555555555556,\"#d8576b\"],[0.6666666666666666,\"#ed7953\"],[0.7777777777777778,\"#fb9f3a\"],[0.8888888888888888,\"#fdca26\"],[1.0,\"#f0f921\"]]}],\"surface\":[{\"type\":\"surface\",\"colorbar\":{\"outlinewidth\":0,\"ticks\":\"\"},\"colorscale\":[[0.0,\"#0d0887\"],[0.1111111111111111,\"#46039f\"],[0.2222222222222222,\"#7201a8\"],[0.3333333333333333,\"#9c179e\"],[0.4444444444444444,\"#bd3786\"],[0.5555555555555556,\"#d8576b\"],[0.6666666666666666,\"#ed7953\"],[0.7777777777777778,\"#fb9f3a\"],[0.8888888888888888,\"#fdca26\"],[1.0,\"#f0f921\"]]}],\"mesh3d\":[{\"type\":\"mesh3d\",\"colorbar\":{\"outlinewidth\":0,\"ticks\":\"\"}}],\"scatter\":[{\"fillpattern\":{\"fillmode\":\"overlay\",\"size\":10,\"solidity\":0.2},\"type\":\"scatter\"}],\"parcoords\":[{\"type\":\"parcoords\",\"line\":{\"colorbar\":{\"outlinewidth\":0,\"ticks\":\"\"}}}],\"scatterpolargl\":[{\"type\":\"scatterpolargl\",\"marker\":{\"colorbar\":{\"outlinewidth\":0,\"ticks\":\"\"}}}],\"bar\":[{\"error_x\":{\"color\":\"#2a3f5f\"},\"error_y\":{\"color\":\"#2a3f5f\"},\"marker\":{\"line\":{\"color\":\"#E5ECF6\",\"width\":0.5},\"pattern\":{\"fillmode\":\"overlay\",\"size\":10,\"solidity\":0.2}},\"type\":\"bar\"}],\"scattergeo\":[{\"type\":\"scattergeo\",\"marker\":{\"colorbar\":{\"outlinewidth\":0,\"ticks\":\"\"}}}],\"scatterpolar\":[{\"type\":\"scatterpolar\",\"marker\":{\"colorbar\":{\"outlinewidth\":0,\"ticks\":\"\"}}}],\"histogram\":[{\"marker\":{\"pattern\":{\"fillmode\":\"overlay\",\"size\":10,\"solidity\":0.2}},\"type\":\"histogram\"}],\"scattergl\":[{\"type\":\"scattergl\",\"marker\":{\"colorbar\":{\"outlinewidth\":0,\"ticks\":\"\"}}}],\"scatter3d\":[{\"type\":\"scatter3d\",\"line\":{\"colorbar\":{\"outlinewidth\":0,\"ticks\":\"\"}},\"marker\":{\"colorbar\":{\"outlinewidth\":0,\"ticks\":\"\"}}}],\"scattermapbox\":[{\"type\":\"scattermapbox\",\"marker\":{\"colorbar\":{\"outlinewidth\":0,\"ticks\":\"\"}}}],\"scatterternary\":[{\"type\":\"scatterternary\",\"marker\":{\"colorbar\":{\"outlinewidth\":0,\"ticks\":\"\"}}}],\"scattercarpet\":[{\"type\":\"scattercarpet\",\"marker\":{\"colorbar\":{\"outlinewidth\":0,\"ticks\":\"\"}}}],\"carpet\":[{\"aaxis\":{\"endlinecolor\":\"#2a3f5f\",\"gridcolor\":\"white\",\"linecolor\":\"white\",\"minorgridcolor\":\"white\",\"startlinecolor\":\"#2a3f5f\"},\"baxis\":{\"endlinecolor\":\"#2a3f5f\",\"gridcolor\":\"white\",\"linecolor\":\"white\",\"minorgridcolor\":\"white\",\"startlinecolor\":\"#2a3f5f\"},\"type\":\"carpet\"}],\"table\":[{\"cells\":{\"fill\":{\"color\":\"#EBF0F8\"},\"line\":{\"color\":\"white\"}},\"header\":{\"fill\":{\"color\":\"#C8D4E3\"},\"line\":{\"color\":\"white\"}},\"type\":\"table\"}],\"barpolar\":[{\"marker\":{\"line\":{\"color\":\"#E5ECF6\",\"width\":0.5},\"pattern\":{\"fillmode\":\"overlay\",\"size\":10,\"solidity\":0.2}},\"type\":\"barpolar\"}],\"pie\":[{\"automargin\":true,\"type\":\"pie\"}]},\"layout\":{\"autotypenumbers\":\"strict\",\"colorway\":[\"#636efa\",\"#EF553B\",\"#00cc96\",\"#ab63fa\",\"#FFA15A\",\"#19d3f3\",\"#FF6692\",\"#B6E880\",\"#FF97FF\",\"#FECB52\"],\"font\":{\"color\":\"#2a3f5f\"},\"hovermode\":\"closest\",\"hoverlabel\":{\"align\":\"left\"},\"paper_bgcolor\":\"white\",\"plot_bgcolor\":\"#E5ECF6\",\"polar\":{\"bgcolor\":\"#E5ECF6\",\"angularaxis\":{\"gridcolor\":\"white\",\"linecolor\":\"white\",\"ticks\":\"\"},\"radialaxis\":{\"gridcolor\":\"white\",\"linecolor\":\"white\",\"ticks\":\"\"}},\"ternary\":{\"bgcolor\":\"#E5ECF6\",\"aaxis\":{\"gridcolor\":\"white\",\"linecolor\":\"white\",\"ticks\":\"\"},\"baxis\":{\"gridcolor\":\"white\",\"linecolor\":\"white\",\"ticks\":\"\"},\"caxis\":{\"gridcolor\":\"white\",\"linecolor\":\"white\",\"ticks\":\"\"}},\"coloraxis\":{\"colorbar\":{\"outlinewidth\":0,\"ticks\":\"\"}},\"colorscale\":{\"sequential\":[[0.0,\"#0d0887\"],[0.1111111111111111,\"#46039f\"],[0.2222222222222222,\"#7201a8\"],[0.3333333333333333,\"#9c179e\"],[0.4444444444444444,\"#bd3786\"],[0.5555555555555556,\"#d8576b\"],[0.6666666666666666,\"#ed7953\"],[0.7777777777777778,\"#fb9f3a\"],[0.8888888888888888,\"#fdca26\"],[1.0,\"#f0f921\"]],\"sequentialminus\":[[0.0,\"#0d0887\"],[0.1111111111111111,\"#46039f\"],[0.2222222222222222,\"#7201a8\"],[0.3333333333333333,\"#9c179e\"],[0.4444444444444444,\"#bd3786\"],[0.5555555555555556,\"#d8576b\"],[0.6666666666666666,\"#ed7953\"],[0.7777777777777778,\"#fb9f3a\"],[0.8888888888888888,\"#fdca26\"],[1.0,\"#f0f921\"]],\"diverging\":[[0,\"#8e0152\"],[0.1,\"#c51b7d\"],[0.2,\"#de77ae\"],[0.3,\"#f1b6da\"],[0.4,\"#fde0ef\"],[0.5,\"#f7f7f7\"],[0.6,\"#e6f5d0\"],[0.7,\"#b8e186\"],[0.8,\"#7fbc41\"],[0.9,\"#4d9221\"],[1,\"#276419\"]]},\"xaxis\":{\"gridcolor\":\"white\",\"linecolor\":\"white\",\"ticks\":\"\",\"title\":{\"standoff\":15},\"zerolinecolor\":\"white\",\"automargin\":true,\"zerolinewidth\":2},\"yaxis\":{\"gridcolor\":\"white\",\"linecolor\":\"white\",\"ticks\":\"\",\"title\":{\"standoff\":15},\"zerolinecolor\":\"white\",\"automargin\":true,\"zerolinewidth\":2},\"scene\":{\"xaxis\":{\"backgroundcolor\":\"#E5ECF6\",\"gridcolor\":\"white\",\"linecolor\":\"white\",\"showbackground\":true,\"ticks\":\"\",\"zerolinecolor\":\"white\",\"gridwidth\":2},\"yaxis\":{\"backgroundcolor\":\"#E5ECF6\",\"gridcolor\":\"white\",\"linecolor\":\"white\",\"showbackground\":true,\"ticks\":\"\",\"zerolinecolor\":\"white\",\"gridwidth\":2},\"zaxis\":{\"backgroundcolor\":\"#E5ECF6\",\"gridcolor\":\"white\",\"linecolor\":\"white\",\"showbackground\":true,\"ticks\":\"\",\"zerolinecolor\":\"white\",\"gridwidth\":2}},\"shapedefaults\":{\"line\":{\"color\":\"#2a3f5f\"}},\"annotationdefaults\":{\"arrowcolor\":\"#2a3f5f\",\"arrowhead\":0,\"arrowwidth\":1},\"geo\":{\"bgcolor\":\"white\",\"landcolor\":\"#E5ECF6\",\"subunitcolor\":\"white\",\"showland\":true,\"showlakes\":true,\"lakecolor\":\"white\"},\"title\":{\"x\":0.05},\"mapbox\":{\"style\":\"light\"}}}},                        {\"responsive\": true}                    ).then(function(){\n",
       "                            \n",
       "var gd = document.getElementById('2ffe1507-b769-43f8-9f00-bc9a464ec7df');\n",
       "var x = new MutationObserver(function (mutations, observer) {{\n",
       "        var display = window.getComputedStyle(gd).display;\n",
       "        if (!display || display === 'none') {{\n",
       "            console.log([gd, 'removed!']);\n",
       "            Plotly.purge(gd);\n",
       "            observer.disconnect();\n",
       "        }}\n",
       "}});\n",
       "\n",
       "// Listen for the removal of the full notebook cells\n",
       "var notebookContainer = gd.closest('#notebook-container');\n",
       "if (notebookContainer) {{\n",
       "    x.observe(notebookContainer, {childList: true});\n",
       "}}\n",
       "\n",
       "// Listen for the clearing of the current output cell\n",
       "var outputEl = gd.closest('.output');\n",
       "if (outputEl) {{\n",
       "    x.observe(outputEl, {childList: true});\n",
       "}}\n",
       "\n",
       "                        })                };                });            </script>        </div>"
      ]
     },
     "metadata": {},
     "output_type": "display_data"
    }
   ],
   "source": [
    "fig=ff.create_distplot([x1,x2,x3,x4],['AOverall Age','Gold Medalist','Silver Medalist','Bronze Medalist'],show_hist=False,show_rug=False)\n",
    "fig.show()"
   ]
  },
  {
   "cell_type": "code",
   "execution_count": null,
   "id": "9152cf80-fbe2-4cb8-89e0-78f709d65195",
   "metadata": {},
   "outputs": [],
   "source": []
  }
 ],
 "metadata": {
  "kernelspec": {
   "display_name": "Python 3 (ipykernel)",
   "language": "python",
   "name": "python3"
  },
  "language_info": {
   "codemirror_mode": {
    "name": "ipython",
    "version": 3
   },
   "file_extension": ".py",
   "mimetype": "text/x-python",
   "name": "python",
   "nbconvert_exporter": "python",
   "pygments_lexer": "ipython3",
   "version": "3.12.3"
  }
 },
 "nbformat": 4,
 "nbformat_minor": 5
}
